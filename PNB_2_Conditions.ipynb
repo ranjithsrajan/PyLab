{
  "nbformat": 4,
  "nbformat_minor": 0,
  "metadata": {
    "colab": {
      "provenance": [],
      "include_colab_link": true
    },
    "kernelspec": {
      "name": "python3",
      "display_name": "Python 3"
    },
    "language_info": {
      "name": "python"
    }
  },
  "cells": [
    {
      "cell_type": "markdown",
      "metadata": {
        "id": "view-in-github",
        "colab_type": "text"
      },
      "source": [
        "<a href=\"https://colab.research.google.com/github/ranjithsrajan/PyLab/blob/main/PNB_2_Conditions.ipynb\" target=\"_parent\"><img src=\"https://colab.research.google.com/assets/colab-badge.svg\" alt=\"Open In Colab\"/></a>"
      ]
    },
    {
      "cell_type": "markdown",
      "source": [
        "## Practice Notebook\n",
        "\n",
        "\n"
      ],
      "metadata": {
        "id": "KDWorf6akTBl"
      }
    },
    {
      "cell_type": "markdown",
      "source": [
        "## Comparision"
      ],
      "metadata": {
        "id": "x2mBnQmtxF0z"
      }
    },
    {
      "cell_type": "markdown",
      "source": [
        "Comparison Operators are available for the purpose of comparison. We validate equal to, greater than or less than and so on. To support these kind of comparisons, we use comparison operators.\n",
        "The following are list of comparison operators:\n",
        "\n",
        "a == b # it represents a equal to b\n",
        "\n",
        "a > b # it represents a greater than b\n",
        "\n",
        "a < b # it represents a less than b\n",
        "\n",
        "a != b # it represents a not equal to b\n",
        "\n",
        "a >= b # it represents a greater than or equal to b\n",
        "\n",
        "a <= b # it represents a less than or equal to b\n",
        "\n",
        "\n",
        "\n",
        "\n",
        "\n",
        "#### Exercise 1: Assume variable *a* holds 10 and variable *b* holds 20, then perform each of the comparison operators listed above."
      ],
      "metadata": {
        "id": "DOG5IrV4w-ic"
      }
    },
    {
      "cell_type": "code",
      "source": [
        "#YOUR CODE HERE\n",
        "a = 10\n",
        "b = 20\n",
        "print(a == b)\n",
        "print(a > b)\n",
        "print(a < b)\n",
        "print(a != b)\n",
        "print(a >= b)\n",
        "print(a <= b)"
      ],
      "metadata": {
        "id": "auzrTIKCxI8r",
        "outputId": "dbdff8ca-647c-40c0-f12a-c2993465f09c",
        "colab": {
          "base_uri": "https://localhost:8080/"
        }
      },
      "execution_count": 1,
      "outputs": [
        {
          "output_type": "stream",
          "name": "stdout",
          "text": [
            "False\n",
            "False\n",
            "True\n",
            "True\n",
            "False\n",
            "True\n"
          ]
        }
      ]
    },
    {
      "cell_type": "markdown",
      "source": [
        "## Conditions"
      ],
      "metadata": {
        "id": "b-HgoroZkZwM"
      }
    },
    {
      "cell_type": "markdown",
      "source": [
        "#### Exercise 2:\n",
        "\n",
        "* Input two variables, marks_student (marks that a student in the class obtained), max_marks (maximum marks scored in the class).\n",
        "* Write one block of 'if' statement to compare whether the marks scored by the student is valid (i.e. less than or equal to max marks) or not.\n",
        "* If marks are less than maximum marks in the class and greater than 40, print, welcome to the class, your marks are: (marks of the student)."
      ],
      "metadata": {
        "id": "FUy2QXsxlz-1"
      }
    },
    {
      "cell_type": "code",
      "execution_count": 2,
      "metadata": {
        "id": "92L52K03q05f",
        "outputId": "d0302058-0ba3-4393-d305-4464b5b8e339",
        "colab": {
          "base_uri": "https://localhost:8080/"
        }
      },
      "outputs": [
        {
          "output_type": "stream",
          "name": "stdout",
          "text": [
            "Welcome to the class, your marks are:  50\n"
          ]
        }
      ],
      "source": [
        "#YOUR CODE HERE\n",
        "marks_student = 50\n",
        "max_marks = 100\n",
        "if marks_student <= max_marks and marks_student > 40:\n",
        "  print(\"Welcome to the class, your marks are: \", marks_student)"
      ]
    },
    {
      "cell_type": "markdown",
      "source": [
        "#### Exercise 3:\n",
        "\n",
        "There is an ongoing recruitment process for the march past parade in the police academy.\n",
        "- The selection procedure for this activity is very simple.\n",
        "* If the candidate's height is greater than 180 cm, they can participate in the activity.\n",
        "__________________________________\n",
        "\n",
        "* Input height of the individual\n",
        "* write one block of 'if' statement to compare the height of the individual with 180 cm.\n",
        "* For a candidate whose height is greater than 180 cm, print the statements:\n",
        "  * Welcome to the academy.\n",
        "  * We will begin march past practice from tomorrow.\n",
        "  * You will receive your selection letter via mail."
      ],
      "metadata": {
        "id": "GgcTvzIdtyLB"
      }
    },
    {
      "cell_type": "code",
      "source": [
        "#YOUR CODE HERE\n",
        "height = 190\n",
        "if height > 180:\n",
        "  print(\"Welcome to the academy.\")\n",
        "  print(\"We will begin march past practice from tomorrow.\")\n",
        "  print(\"You will receive your selection letter via mail.\")"
      ],
      "metadata": {
        "id": "FYh2IbPunaJe",
        "outputId": "3af27f54-7353-482c-dd6b-678622072cce",
        "colab": {
          "base_uri": "https://localhost:8080/"
        }
      },
      "execution_count": 3,
      "outputs": [
        {
          "output_type": "stream",
          "name": "stdout",
          "text": [
            "Welcome to the academy.\n",
            "We will begin march past practice from tomorrow.\n",
            "You will receive your selection letter via mail.\n"
          ]
        }
      ]
    },
    {
      "cell_type": "markdown",
      "source": [
        "#### Exercise 4:\n",
        "\n",
        "In Exercise 3, we were successfully able to notify the participant of the march past parade as to whether they are selected.\n",
        "* There is one shortcoming in the Exercise 3, it does not output anything if the participant was not selected.\n",
        "* write an 'else' block below the 'if' block discussed in exercise 2.\n",
        "* In the 'else' block, print a message for the participants who did not get selected."
      ],
      "metadata": {
        "id": "2sCmcxyXymQ7"
      }
    },
    {
      "cell_type": "code",
      "source": [
        "#YOUR CODE HERE\n",
        "height = 170\n",
        "if height > 180:\n",
        "  print(\"Welcome to the academy.\")\n",
        "  print(\"We will begin march past practice from tomorrow.\")\n",
        "  print(\"You will receive your selection letter via mail.\")\n",
        "else:\n",
        "  print(\"You did not get selected.\")"
      ],
      "metadata": {
        "id": "RwVxx_-BwTmI",
        "outputId": "44e47f78-763c-4d0c-9a52-b1bfff9eb69b",
        "colab": {
          "base_uri": "https://localhost:8080/"
        }
      },
      "execution_count": 5,
      "outputs": [
        {
          "output_type": "stream",
          "name": "stdout",
          "text": [
            "You did not get selected.\n"
          ]
        }
      ]
    },
    {
      "cell_type": "markdown",
      "source": [
        "#### Exercise 5:\n",
        "\n",
        "There is a good news for the participants. If they applied for march past parade but could not make it to the activity because their height is less than 180 cm, they can still participate in the Tug-Of-War activity.\n",
        "\n",
        "\n",
        "Write if-else-if statements:\n",
        "* if the required height was met, they participated.\n",
        "* else, they could not participate in march past.\n",
        "* But if their weight is between 65-80, give them a good news that they can participate in Tug-Of-War."
      ],
      "metadata": {
        "id": "jK6zkzodFpaC"
      }
    },
    {
      "cell_type": "code",
      "source": [
        "#YOUR CODE HERE\n",
        "height = 170\n",
        "weight = 70\n",
        "if height > 180:\n",
        "  print(\"You participated in march past parade.\")\n",
        "if weight >= 65 and weight <= 80:\n",
        "    print(\"You can participate in Tug-Of-War.\")\n",
        "else:\n",
        "  print(\"You did not get selected.\")"
      ],
      "metadata": {
        "id": "HOAqDHaeGjfa",
        "outputId": "2f9c6769-b63d-41d9-932b-4211f5899f09",
        "colab": {
          "base_uri": "https://localhost:8080/"
        }
      },
      "execution_count": 18,
      "outputs": [
        {
          "output_type": "stream",
          "name": "stdout",
          "text": [
            "You can participate in Tug-Of-War.\n"
          ]
        }
      ]
    },
    {
      "cell_type": "markdown",
      "source": [
        "#### Exercise 6:\n",
        "\n",
        "* There is one more activity being held in the police academy.\n",
        "* It is a 'Tug-Of-War' competition.\n",
        "* The only individuals whose height is above 180 cm can attend the event because they are part of march past team.\n",
        "* The individuals whose weight is between 65 to 70/ 70 to 75/ 75 to 80 Kg will play the game in different teams.\n",
        "____________________________________\n",
        "In the similar fashion.\n",
        "\n",
        "* write 'else-if' ladder to display appropriate messages to the selected individuals.\n",
        "* If the requirement of their height is met, they can attend the program.\n",
        "* If their weight is between 65 to 70, they will play in Team A.\n",
        "* If their weight is between 70 to 75, they will play in Team B.\n",
        "* If their weight is between 75 to 80, they will play in Team C."
      ],
      "metadata": {
        "id": "16eOKcJ90gaV"
      }
    },
    {
      "cell_type": "markdown",
      "source": [
        "If the individual's height is more than 180 cm, they are already a part of another event and hence they will not participate here."
      ],
      "metadata": {
        "id": "OMjH5fBM5vtS"
      }
    },
    {
      "cell_type": "code",
      "source": [
        "#YOUR CODE HERE\n",
        "height = 160\n",
        "weight = 70\n",
        "if weight >= 65 and weight <= 80 and height <180:\n",
        "      print(\"You can participate in Tug-Of-War.\")\n",
        "      if weight >= 65 and weight <= 70:\n",
        "        print(\"You will play in Team A.\")\n",
        "      elif weight >= 70 and weight <= 75:\n",
        "        print(\"You will play in Team B.\")\n",
        "      elif weight >= 75 and weight <= 80:\n",
        "        print(\"You will play in Team C.\")\n",
        "else:\n",
        "  print(\"Not selected\")"
      ],
      "metadata": {
        "id": "Fq3yLSH1zr8M",
        "outputId": "28aae298-ca8f-4c59-8150-6cc76cc25f68",
        "colab": {
          "base_uri": "https://localhost:8080/"
        }
      },
      "execution_count": 32,
      "outputs": [
        {
          "output_type": "stream",
          "name": "stdout",
          "text": [
            "You can participate in Tug-Of-War.\n",
            "You will play in Team A.\n"
          ]
        }
      ]
    },
    {
      "cell_type": "markdown",
      "source": [
        "#### Exercise 7:\n",
        "\n",
        "There is one shortcoming in the code used for Exercise 5. If the individuals' height is more than 180 but he still applies to play in Tug-Of-War game in the police academy then there will be an issue on the date of event.\n",
        "\n",
        "It will become difficult for one individual to participate in two activity on the same day.\n",
        "_______________________________________________\n",
        "To deal with this issue:\n",
        "* Change the code in Exercise 6 in a way that if a person's height is more than 180 cms, they will not be selected in any team.\n",
        "* Display a message, you are already a part of march past activity, you cannot play in Tug-Of-War."
      ],
      "metadata": {
        "id": "Fbvxm2c5DIRj"
      }
    },
    {
      "cell_type": "code",
      "source": [
        "#YOUR CODE HERE\n",
        "height = 181\n",
        "weight = 70\n",
        "if height > 180:\n",
        "  print(\"You participated in march past parade,Cannot play Tug-Of-War\")\n",
        "\n",
        "if weight >= 65 and weight <= 80 and height <180:\n",
        "      print(\"You can participate in Tug-Of-War.\")\n",
        "      if weight >= 65 and weight <= 70:\n",
        "        print(\"You will play in Team A.\")\n",
        "      elif weight >= 70 and weight <= 75:\n",
        "        print(\"You will play in Team B.\")\n",
        "      elif weight >= 75 and weight <= 80:\n",
        "        print(\"You will play in Team C.\")"
      ],
      "metadata": {
        "id": "e1RXVTCtDH7f",
        "outputId": "1e167da3-598d-49f5-efd6-c333a47c3657",
        "colab": {
          "base_uri": "https://localhost:8080/"
        }
      },
      "execution_count": 36,
      "outputs": [
        {
          "output_type": "stream",
          "name": "stdout",
          "text": [
            "You participated in march past parade,Cannot play Tug-Of-War\n"
          ]
        }
      ]
    }
  ]
}