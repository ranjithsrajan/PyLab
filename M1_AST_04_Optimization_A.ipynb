{
  "nbformat": 4,
  "nbformat_minor": 0,
  "metadata": {
    "colab": {
      "provenance": [],
      "include_colab_link": true
    },
    "kernelspec": {
      "name": "python3",
      "display_name": "Python 3"
    },
    "language_info": {
      "name": "python"
    }
  },
  "cells": [
    {
      "cell_type": "markdown",
      "metadata": {
        "id": "view-in-github",
        "colab_type": "text"
      },
      "source": [
        "<a href=\"https://colab.research.google.com/github/ranjithsrajan/PyLab/blob/main/M1_AST_04_Optimization_A.ipynb\" target=\"_parent\"><img src=\"https://colab.research.google.com/assets/colab-badge.svg\" alt=\"Open In Colab\"/></a>"
      ]
    },
    {
      "cell_type": "markdown",
      "metadata": {
        "id": "gmBawJ8kUNl8"
      },
      "source": [
        "# Applied Data Science and Machine Learning\n",
        "## A program by IIT Madras and TalentSprint\n",
        "### Assignment 04:  Optimization"
      ]
    },
    {
      "cell_type": "markdown",
      "metadata": {
        "id": "hungry-accident"
      },
      "source": [
        "## Learning Objectives\n",
        "\n",
        "At the end of the experiment, you will be able to\n",
        "\n",
        "* understand constrained optimizations.\n",
        "* implement various methods."
      ]
    },
    {
      "cell_type": "markdown",
      "metadata": {
        "id": "clI1uRXfpxLW"
      },
      "source": [
        "### Setup Steps:"
      ]
    },
    {
      "cell_type": "code",
      "execution_count": 1,
      "metadata": {
        "id": "v2Y0Dv1HpxLX"
      },
      "outputs": [],
      "source": [
        "#@title Please enter your registration id to start: { run: \"auto\", display-mode: \"form\" }\n",
        "Id = \"2419592\" #@param {type:\"string\"}"
      ]
    },
    {
      "cell_type": "code",
      "execution_count": 2,
      "metadata": {
        "id": "Ns2n1UW9pxLY"
      },
      "outputs": [],
      "source": [
        "#@title Please enter your password (your registered phone number) to continue: { run: \"auto\", display-mode: \"form\" }\n",
        "password = \"9845319358\" #@param {type:\"string\"}"
      ]
    },
    {
      "cell_type": "code",
      "execution_count": 3,
      "metadata": {
        "cellView": "form",
        "id": "43TBvP8RpxLY",
        "outputId": "0d2bf651-1d5f-48b5-f27e-a46cc21841c1",
        "colab": {
          "base_uri": "https://localhost:8080/",
          "height": 35
        }
      },
      "outputs": [
        {
          "output_type": "display_data",
          "data": {
            "text/plain": [
              "<IPython.core.display.HTML object>"
            ],
            "text/html": [
              "<script src=\"https://dashboard.talentsprint.com/aiml/record_ip.html?traineeId=2419592&recordId=580\"></script>"
            ]
          },
          "metadata": {}
        },
        {
          "output_type": "stream",
          "name": "stdout",
          "text": [
            "Setup completed successfully\n"
          ]
        }
      ],
      "source": [
        "#@title Run this cell to complete the setup for this Notebook\n",
        "from IPython import get_ipython\n",
        "\n",
        "ipython = get_ipython()\n",
        "\n",
        "notebook= \"M1_AST_04_Optimization_A\" #name of the notebook\n",
        "\n",
        "def setup():\n",
        "#  ipython.magic(\"sx pip3 install torch\")\n",
        "    from IPython.display import HTML, display\n",
        "    display(HTML('<script src=\"https://dashboard.talentsprint.com/aiml/record_ip.html?traineeId={0}&recordId={1}\"></script>'.format(getId(),submission_id)))\n",
        "    print(\"Setup completed successfully\")\n",
        "    return\n",
        "\n",
        "def submit_notebook():\n",
        "    ipython.magic(\"notebook -e \"+ notebook + \".ipynb\")\n",
        "\n",
        "    import requests, json, base64, datetime\n",
        "\n",
        "    url = \"https://dashboard.talentsprint.com/xp/app/save_notebook_attempts\"\n",
        "    if not submission_id:\n",
        "      data = {\"id\" : getId(), \"notebook\" : notebook, \"mobile\" : getPassword()}\n",
        "      r = requests.post(url, data = data)\n",
        "      r = json.loads(r.text)\n",
        "\n",
        "      if r[\"status\"] == \"Success\":\n",
        "          return r[\"record_id\"]\n",
        "      elif \"err\" in r:\n",
        "        print(r[\"err\"])\n",
        "        return None\n",
        "      else:\n",
        "        print (\"Something is wrong, the notebook will not be submitted for grading\")\n",
        "        return None\n",
        "\n",
        "    elif getAnswer() and getComplexity() and getAdditional() and getConcepts() and getComments() and getMentorSupport():\n",
        "      f = open(notebook + \".ipynb\", \"rb\")\n",
        "      file_hash = base64.b64encode(f.read())\n",
        "\n",
        "      data = {\"complexity\" : Complexity, \"additional\" :Additional,\n",
        "              \"concepts\" : Concepts, \"record_id\" : submission_id,\n",
        "              \"answer\" : Answer, \"id\" : Id, \"file_hash\" : file_hash,\n",
        "              \"notebook\" : notebook,\n",
        "              \"feedback_experiments_input\" : Comments,\n",
        "              \"feedback_mentor_support\": Mentor_support}\n",
        "      r = requests.post(url, data = data)\n",
        "      r = json.loads(r.text)\n",
        "      if \"err\" in r:\n",
        "        print(r[\"err\"])\n",
        "        return None\n",
        "      else:\n",
        "        print(\"Your submission is successful.\")\n",
        "        print(\"Ref Id:\", submission_id)\n",
        "        print(\"Date of submission: \", r[\"date\"])\n",
        "        print(\"Time of submission: \", r[\"time\"])\n",
        "        print(\"View your submissions: https://learn-iitm.talentsprint.com/notebook_submissions\")\n",
        "        #print(\"For any queries/discrepancies, please connect with mentors through the chat icon in LMS dashboard.\")\n",
        "        return submission_id\n",
        "    else: submission_id\n",
        "\n",
        "\n",
        "def getAdditional():\n",
        "  try:\n",
        "    if not Additional:\n",
        "      raise NameError\n",
        "    else:\n",
        "      return Additional\n",
        "  except NameError:\n",
        "    print (\"Please answer Additional Question\")\n",
        "    return None\n",
        "\n",
        "def getComplexity():\n",
        "  try:\n",
        "    if not Complexity:\n",
        "      raise NameError\n",
        "    else:\n",
        "      return Complexity\n",
        "  except NameError:\n",
        "    print (\"Please answer Complexity Question\")\n",
        "    return None\n",
        "\n",
        "def getConcepts():\n",
        "  try:\n",
        "    if not Concepts:\n",
        "      raise NameError\n",
        "    else:\n",
        "      return Concepts\n",
        "  except NameError:\n",
        "    print (\"Please answer Concepts Question\")\n",
        "    return None\n",
        "\n",
        "\n",
        "# def getWalkthrough():\n",
        "#   try:\n",
        "#     if not Walkthrough:\n",
        "#       raise NameError\n",
        "#     else:\n",
        "#       return Walkthrough\n",
        "#   except NameError:\n",
        "#     print (\"Please answer Walkthrough Question\")\n",
        "#     return None\n",
        "\n",
        "def getComments():\n",
        "  try:\n",
        "    if not Comments:\n",
        "      raise NameError\n",
        "    else:\n",
        "      return Comments\n",
        "  except NameError:\n",
        "    print (\"Please answer Comments Question\")\n",
        "    return None\n",
        "\n",
        "\n",
        "def getMentorSupport():\n",
        "  try:\n",
        "    if not Mentor_support:\n",
        "      raise NameError\n",
        "    else:\n",
        "      return Mentor_support\n",
        "  except NameError:\n",
        "    print (\"Please answer Mentor support Question\")\n",
        "    return None\n",
        "\n",
        "def getAnswer():\n",
        "  try:\n",
        "    if not Answer:\n",
        "      raise NameError\n",
        "    else:\n",
        "      return Answer\n",
        "  except NameError:\n",
        "    print (\"Please answer Question\")\n",
        "    return None\n",
        "\n",
        "\n",
        "def getId():\n",
        "  try:\n",
        "    return Id if Id else None\n",
        "  except NameError:\n",
        "    return None\n",
        "\n",
        "def getPassword():\n",
        "  try:\n",
        "    return password if password else None\n",
        "  except NameError:\n",
        "    return None\n",
        "\n",
        "submission_id = None\n",
        "### Setup\n",
        "if getPassword() and getId():\n",
        "  submission_id = submit_notebook()\n",
        "  if submission_id:\n",
        "    setup()\n",
        "else:\n",
        "  print (\"Please complete Id and Password cells before running setup\")\n",
        "\n"
      ]
    },
    {
      "cell_type": "markdown",
      "source": [
        "## Information\n",
        "\n",
        "**Notebook to demonstrate SciPY optimization methods**\n",
        "\n",
        "Mathematical optimization is at the heart of solutions to major business problems in engineering, finance, healthcare, socioeconomic affairs. Pretty much all business problems boil down to minimization of some kind of resource cost or maximization of some kind of profit given other constraints.\n",
        "\n",
        "An optimization process is also the soul of operation research, which is intimately related to modern data-driven business analytics. In this manner, it is also closely related to the data science pipeline, employed in virtually all businesses today.\n",
        "\n",
        "Although much has been written about the data wrangling and predictive modeling aspects of a data science project, the final frontier often involves solving an optimization problem using the data-driven models which can improve the bottom-line of the business by reducing cost or enhancing productivity.\n",
        "\n",
        "Python has become the de-facto lingua franca of analytics, data science, and machine learning. Therefore, it makes sense to discuss optimization packages and frameworks within the Python ecosystem.\n",
        "\n",
        "We cover optimization algorithms available within the SciPy ecosystem. SciPy is the most widely used Python package for scientific and mathematical analysis and it is no wonder that it boasts of powerful yet easy-to-use optimization routines for solving complex problems.\n",
        "\n",
        "For more information see :  [Scipy Optimization Reference Guide](https://scipy.github.io/devdocs/tutorial/optimize.html#id20)"
      ],
      "metadata": {
        "id": "159SMN4s6SwS"
      }
    },
    {
      "cell_type": "markdown",
      "metadata": {
        "id": "hmvlAERcEXCn"
      },
      "source": [
        "### Import the required Packages"
      ]
    },
    {
      "cell_type": "code",
      "execution_count": 4,
      "metadata": {
        "id": "WWEQ3ZNC2v9m"
      },
      "outputs": [],
      "source": [
        "import numpy as np\n",
        "from matplotlib import pyplot as plt\n",
        "from scipy import optimize"
      ]
    },
    {
      "cell_type": "markdown",
      "source": [
        "### Minimize a simple scalar function:\n",
        "\n",
        "$f(x) = sin(x)*exp[-0.1(x - 0.6)^2]$"
      ],
      "metadata": {
        "id": "19VzjOecgJyF"
      }
    },
    {
      "cell_type": "code",
      "source": [
        "def scalar1(x):\n",
        "    # YOUR CODE HERE: To return the function\n",
        "    return np.sin(x)*np.exp(-0.1*(x-0.6)**2)\n"
      ],
      "metadata": {
        "id": "LD_Pa7UW4_U2"
      },
      "execution_count": 5,
      "outputs": []
    },
    {
      "cell_type": "code",
      "source": [
        "def plot_nice(x,y,title=None,xlabel='x',ylabel='y',show=True):\n",
        "    #plt.figure(figsize=(8,5))\n",
        "    if title!=None:\n",
        "        plt.title(str(title)+'\\n',fontsize=18)\n",
        "    # YOUR CODE HERE: Plot the x and y with xticks, yticks, xlabel and ylabel\n",
        "    plt.plot(x,y,color='k',lw=3)\n",
        "    plt.grid(True)\n",
        "    plt.xticks(fontsize=14)\n",
        "    plt.yticks(fontsize=14)\n",
        "    plt.xlabel(xlabel,fontsize=14)\n",
        "    plt.ylabel(ylabel,fontsize=14)\n",
        "    if show:\n",
        "        plt.show()"
      ],
      "metadata": {
        "id": "tRB4J3a35EZD"
      },
      "execution_count": 6,
      "outputs": []
    },
    {
      "cell_type": "code",
      "source": [
        "x = np.arange(-10,10,0.05)\n",
        "# YOUR CODE HERE: to creates a NumPy array containing values from -10 to 10 with a step size of 0.05.\n"
      ],
      "metadata": {
        "id": "ThgFxD8E5JsX"
      },
      "execution_count": 10,
      "outputs": []
    },
    {
      "cell_type": "code",
      "source": [
        "y = scalar1(x) # YOUR CODE HERE: To Create scalar value of x"
      ],
      "metadata": {
        "id": "woJc6TQL5KAJ"
      },
      "execution_count": 11,
      "outputs": []
    },
    {
      "cell_type": "code",
      "source": [
        "# YOUR CODE HERE: Plot x and y with xlabels and ylabels\n",
        "plot_nice(x,y,title=\"objective function\",xlabel=\"X-Values\",ylabel=\"Function Values\")"
      ],
      "metadata": {
        "id": "Cz5dZSTX5Lod",
        "outputId": "2006595b-ff7f-48d5-aad7-ec1611e5ba26",
        "colab": {
          "base_uri": "https://localhost:8080/",
          "height": 515
        }
      },
      "execution_count": 12,
      "outputs": [
        {
          "output_type": "display_data",
          "data": {
            "text/plain": [
              "<Figure size 640x480 with 1 Axes>"
            ],
            "image/png": "[encoded data removed]"
          },
          "metadata": {}
        }
      ]
    },
    {
      "cell_type": "markdown",
      "source": [
        "The code to determine the global minimum is extremely simple with SciPy. We can use the minimize_scalar function in this case.\n",
        "\n",
        "Use `optimize.minimize_scalar()` method"
      ],
      "metadata": {
        "id": "Vzd68HTr5TPV"
      }
    },
    {
      "cell_type": "code",
      "source": [
        "result = optimize.minimize_scalar(scalar1)\n",
        "# YOUR CODE HERE : To  determine global minima of scalar1 using scipy\n",
        "result['success']"
      ],
      "metadata": {
        "id": "5kRZ3NRp5N2c",
        "outputId": "cd7ccb10-59e4-4a2c-e9c9-b686099d721a",
        "colab": {
          "base_uri": "https://localhost:8080/"
        }
      },
      "execution_count": 13,
      "outputs": [
        {
          "output_type": "execute_result",
          "data": {
            "text/plain": [
              "True"
            ]
          },
          "metadata": {},
          "execution_count": 13
        }
      ]
    },
    {
      "cell_type": "markdown",
      "source": [
        "The value at which the minimum is reached is stored in the result['x'] variable."
      ],
      "metadata": {
        "id": "gW8jTJZxUQDL"
      }
    },
    {
      "cell_type": "code",
      "source": [
        "print(\"Minimum occurs at: \",result['x'])"
      ],
      "metadata": {
        "id": "lxmRkcxS5b_h",
        "outputId": "1aad9d32-2104-446f-c22c-ec443513eef8",
        "colab": {
          "base_uri": "https://localhost:8080/"
        }
      },
      "execution_count": 14,
      "outputs": [
        {
          "output_type": "stream",
          "name": "stdout",
          "text": [
            "Minimum occurs at:  -1.2214484245210282\n"
          ]
        }
      ]
    },
    {
      "cell_type": "code",
      "source": [
        "print(result)"
      ],
      "metadata": {
        "id": "lgjkiJ6E5dq8",
        "outputId": "eabb3e29-7438-411e-fe02-03c3edfa3819",
        "colab": {
          "base_uri": "https://localhost:8080/"
        }
      },
      "execution_count": 15,
      "outputs": [
        {
          "output_type": "stream",
          "name": "stdout",
          "text": [
            " message: \n",
            "          Optimization terminated successfully;\n",
            "          The returned value satisfies the termination criteria\n",
            "          (using xtol = 1.48e-08 )\n",
            " success: True\n",
            "     fun: -0.6743051024666711\n",
            "       x: -1.2214484245210282\n",
            "     nit: 10\n",
            "    nfev: 14\n"
          ]
        }
      ]
    },
    {
      "cell_type": "markdown",
      "source": [
        "### Bounded search (bound on the independent variable)\n",
        "\n",
        "The code above accomplished what is called unconstrained/unbounded optimization i.e. no restriction of any kind was imposed on the problem. However, most practical optimization problems involve complex constraints. A simple example of that is bound on the independent variable (x).\n",
        "\n",
        "As we can see that this function is characterized by two minima, the result would be different if we only considered the positive values of x. The code to search with bound is only slightly different from above."
      ],
      "metadata": {
        "id": "nTF4MHBF5jIO"
      }
    },
    {
      "cell_type": "code",
      "source": [
        "#For method ‘bounded’, bounds is mandatory and must have two finite items corresponding to the optimization bounds.\n",
        "result = optimize.minimize_scalar(scalar1,bounds=(0,10), method='Bounded')\n",
        "# YOUR CODE HERE: TO use minimize_scalar function with the method 'bounded' and two finite items"
      ],
      "metadata": {
        "id": "An8Lf0VA5jsM"
      },
      "execution_count": 17,
      "outputs": []
    },
    {
      "cell_type": "markdown",
      "source": [
        "we have to pass on the bounds argument with a suitable tuple containing the minimum and maximum bounds and use the `method='Bounded'` argument."
      ],
      "metadata": {
        "id": "SJ8v5uGtUvQq"
      }
    },
    {
      "cell_type": "code",
      "source": [
        "print(\"When bounded between 0 and 10, minimum occurs at: \",result['x'])"
      ],
      "metadata": {
        "id": "PouYQu1dU3wt",
        "outputId": "cfb564bb-17a7-403f-c698-4d5765a29bbf",
        "colab": {
          "base_uri": "https://localhost:8080/"
        }
      },
      "execution_count": 18,
      "outputs": [
        {
          "output_type": "stream",
          "name": "stdout",
          "text": [
            "When bounded between 0 and 10, minimum occurs at:  4.101466164987216\n"
          ]
        }
      ]
    },
    {
      "cell_type": "markdown",
      "source": [
        "\n",
        "### Constraints as functions inside a dictionary"
      ],
      "metadata": {
        "id": "vbekOq0y5qjb"
      }
    },
    {
      "cell_type": "markdown",
      "source": [
        "$f(x)=0.5−\\log10​(x^2+2)$"
      ],
      "metadata": {
        "id": "faBVvVTuh4IM"
      }
    },
    {
      "cell_type": "code",
      "source": [
        "# Left-sided inequality from the first constraint\n",
        "def constraint1(x):\n",
        "  return 0.5-np.log10(x**2+2)\n",
        "    # YOUR CODE HERE: Return the first constraint function of f(x)"
      ],
      "metadata": {
        "id": "YKI_1tyq5owp"
      },
      "execution_count": 19,
      "outputs": []
    },
    {
      "cell_type": "markdown",
      "source": [
        "$f(x)=log10​(x^2+2)−1.5$"
      ],
      "metadata": {
        "id": "sfkN9T6dQiLl"
      }
    },
    {
      "cell_type": "code",
      "source": [
        "# Right-sided inequality from the first constraint\n",
        "def constraint2(x):\n",
        "  return  np.log10(x**2+2)-1.5\n",
        "    # YOUR CODE HERE: Return the second constraint function of f(x)"
      ],
      "metadata": {
        "id": "iC023YPi5sCv"
      },
      "execution_count": 20,
      "outputs": []
    },
    {
      "cell_type": "markdown",
      "source": [
        "$f(x) = sin(x) + 0.3 x^2 − 1$"
      ],
      "metadata": {
        "id": "vZ1_f6kbQtv2"
      }
    },
    {
      "cell_type": "code",
      "source": [
        "# Equality from the second constraint\n",
        "def constraint3(x):\n",
        "  return np.sin(x) + 0.3*x**2 - 1\n",
        "    # YOUR CODE HERE: Return the third constraint function of f(x)"
      ],
      "metadata": {
        "id": "J0w2lU3O5tzQ"
      },
      "execution_count": 22,
      "outputs": []
    },
    {
      "cell_type": "code",
      "source": [
        "# Construct dictionaries\n",
        "# YOUR CODE HERE: To construct dictionaries of constraints\n",
        "con1= {'type': 'ineq', 'fun': constraint1}\n",
        "con2= {'type': 'ineq', 'fun': constraint2}\n",
        "con3= {'type': 'eq', 'fun': constraint3}"
      ],
      "metadata": {
        "id": "VFJTt___5vdl"
      },
      "execution_count": 24,
      "outputs": []
    },
    {
      "cell_type": "code",
      "source": [
        "\n",
        "# YOUR CODE HERE: put those dictionaries into a tuple\n",
        "cons = (con1,con2,con3)"
      ],
      "metadata": {
        "id": "r3XWJJisXR6N"
      },
      "execution_count": 25,
      "outputs": []
    },
    {
      "cell_type": "markdown",
      "source": [
        "### Choosing a suitable method\n",
        "\n",
        "we can run the optimization by choosing a suitable method which supports constraints (not all methods in the minimize function support constraint and bounds). Here we chose SLSQP method which stands for sequential least-square quadratic programming.\n",
        "\n",
        "[method: 'SLSQP'](https://scipy.github.io/devdocs/tutorial/optimize.html#sequential-least-squares-programming-slsqp-algorithm-method-slsqp)"
      ],
      "metadata": {
        "id": "1vKQd_mqHebV"
      }
    },
    {
      "cell_type": "markdown",
      "source": [
        "Furthermore, to use minimize we need to pass on an initial guess in the form of x0 argument. Suppose, we pass on x0=0 for a trial run."
      ],
      "metadata": {
        "id": "5vJZgyBeWEeL"
      }
    },
    {
      "cell_type": "code",
      "source": [
        "#Minimize a scalar function of one or more variables using Sequential Least Squares Programming (SLSQP).\n",
        "result = optimize.minimize(scalar1,x0=0,method='SLSQP',constraints=cons,options={'maxiter':100})\n",
        "# YOUR CODE HERE: To use optimize.minimize by passing the scalar function and argumrnt with the method and constraints, option.\n",
        "print(result)"
      ],
      "metadata": {
        "id": "qMmywgSs5xyH",
        "outputId": "91ecbfa4-0849-445c-fb67-6d4e76033038",
        "colab": {
          "base_uri": "https://localhost:8080/"
        }
      },
      "execution_count": 26,
      "outputs": [
        {
          "output_type": "stream",
          "name": "stdout",
          "text": [
            " message: Iteration limit reached\n",
            " success: False\n",
            "  status: 9\n",
            "     fun: 0.7631695862891654\n",
            "       x: [ 8.774e-01]\n",
            "     nit: 100\n",
            "     jac: [ 5.919e-01]\n",
            "    nfev: 392\n",
            "    njev: 100\n"
          ]
        }
      ]
    },
    {
      "cell_type": "markdown",
      "source": [
        "If we print the result, we see something different from the simple unconstrained optimization result. Failure!\n",
        "\n",
        "The optimization parameter success: False indicates it did not succeed in reaching the global minimum. The message is ‘Iteration limit exceeded’ i.e. it tried 101 iterations but could not reach the minimum.\n",
        "\n",
        "The answer lies in the deep theory of the mathematical optimization (and associated algorithm) but it suffices to say that the initial guess played a big role. In general, a non-convex optimization problem has no mathematical guarantee to be solved successfully and the nature of our problem here is non-convex."
      ],
      "metadata": {
        "id": "VOhhjQL_WIea"
      }
    },
    {
      "cell_type": "markdown",
      "source": [
        "In general cases, we cannot do much. However, we already have the plot of the function and can eyeball the optimum solution. Therefore, we can just give a better initial guess to the algorithm. We give x0=-2"
      ],
      "metadata": {
        "id": "ZNK-iEFIfjle"
      }
    },
    {
      "cell_type": "code",
      "source": [
        "result = optimize.minimize(scalar1,x0=-2,method='SLSQP',constraints=cons,options={'maxiter':100})\n",
        "# YOUR CODE HERE: To use optimize.minimize by passing the scalar function and argumrnt with the method and constraints, option.\n",
        "print(result)"
      ],
      "metadata": {
        "id": "g0Px3MkC5yOu",
        "outputId": "87d9ceba-0127-493e-9965-d71b2c7095ea",
        "colab": {
          "base_uri": "https://localhost:8080/"
        }
      },
      "execution_count": 27,
      "outputs": [
        {
          "output_type": "stream",
          "name": "stdout",
          "text": [
            " message: Positive directional derivative for linesearch\n",
            " success: False\n",
            "  status: 8\n",
            "     fun: -0.2859494456768613\n",
            "       x: [-2.376e+00]\n",
            "     nit: 71\n",
            "     jac: [-4.675e-01]\n",
            "    nfev: 12\n",
            "    njev: 6\n"
          ]
        }
      ]
    },
    {
      "cell_type": "markdown",
      "source": [
        "We restrict the number of iterations performed by the algorithm? For demonstration purpose only, we severely limit the number of iteration to 3."
      ],
      "metadata": {
        "id": "pzN_ceASdR_a"
      }
    },
    {
      "cell_type": "markdown",
      "source": [
        "The result is, as expected, not favorable."
      ],
      "metadata": {
        "id": "tXAmrtRYdX1P"
      }
    },
    {
      "cell_type": "code",
      "source": [
        "result = optimize.minimize(scalar1,x0=-2,method='SLSQP',constraints=cons,options={'maxiter':3})\n",
        "# YOUR CODE HERE: To use optimize.minimize by passing the scalar function and argumrnt with the method and constraints, option.\n",
        "print(result)"
      ],
      "metadata": {
        "id": "wxQKiRSL50Zi",
        "outputId": "6a804972-98d7-4128-fb96-d3c122085c34",
        "colab": {
          "base_uri": "https://localhost:8080/"
        }
      },
      "execution_count": 28,
      "outputs": [
        {
          "output_type": "stream",
          "name": "stdout",
          "text": [
            " message: Iteration limit reached\n",
            " success: False\n",
            "  status: 9\n",
            "     fun: -0.2854204989181714\n",
            "       x: [-2.377e+00]\n",
            "     nit: 3\n",
            "     jac: [-4.674e-01]\n",
            "    nfev: 6\n",
            "    njev: 3\n"
          ]
        }
      ]
    },
    {
      "cell_type": "markdown",
      "source": [
        "Note that the optimization came close to the global minimum, but did not quite reach it — of course, due to the fact that it was not allowed to iterate a sufficient number of times."
      ],
      "metadata": {
        "id": "N5dQRLkmdbWU"
      }
    },
    {
      "cell_type": "markdown",
      "source": [
        "### Multi-variate case: Sum of Gaussians"
      ],
      "metadata": {
        "id": "HqGMRm5u58sN"
      }
    },
    {
      "cell_type": "markdown",
      "source": [
        "**Lets see an example with a multi-valued function.**\n",
        "\n",
        "**Maximization of a Gaussian mixture**\n",
        "\n",
        "Often in a chemical or manufacturing process, multiple stochastic sub-processes are combined to give rise to a Gaussian mixture. It may be desirable to maximize the final resultant process output by choosing the optimum operating points in the individual sub-processes (within certain process limits).\n",
        "\n",
        "The trick is to use a vector as the input to the objective function and to make sure the objective function still returns a single scalar value. Also, because the optimization problem here is about maximization of the objective function, we need to change the sign and return the negative of the sum of the Gaussian functions as the result of the objective function\n"
      ],
      "metadata": {
        "id": "-moAopY1d9s2"
      }
    },
    {
      "cell_type": "code",
      "source": [
        "# Define the mean values for the Gaussian distributions\n",
        "mu = [-1,0.3,2.1]\n",
        "# Define the standard deviation values for the Gaussian distributions\n",
        "sigma = [2.1,0.8,1.7]\n",
        "# Create an array of zeros to accumulate the sum of the Gaussian distributions\n",
        "add=np.zeros(1000)\n",
        "# Create a figure for plotting\n",
        "plt.figure(figsize=(8,5))\n",
        "# YOUR CODE HERE: Iterate over the mean and standard deviation values using the zip function\n",
        "\n",
        "# YOUR CODE HERE: Generate a range of values from -5 to 5 with a step size of 0.01\n",
        "# YOUR CODE HERE: Calculate the Gaussian distribution for the current mean and standard deviation\n",
        "# YOUR CODE HERE: Accumulate the Gaussian distribution values to the 'add' array\n",
        "\n",
        "# YOUR CODE HERE: Plot the current Gaussian distribution\n",
        "\n",
        "# Display the figure with all the plotted Gaussian distributions\n",
        "plt.show()"
      ],
      "metadata": {
        "id": "p96LBTh752ei"
      },
      "execution_count": null,
      "outputs": []
    },
    {
      "cell_type": "code",
      "source": [
        "plot_nice(x=np.arange(-5,5,0.01),y=add)"
      ],
      "metadata": {
        "id": "RSiQakZA56et"
      },
      "execution_count": null,
      "outputs": []
    },
    {
      "cell_type": "markdown",
      "source": [
        "$f(x)=exp[−(x−m)^2/(2s^2)]$"
      ],
      "metadata": {
        "id": "5h1XqeykSNLP"
      }
    },
    {
      "cell_type": "code",
      "source": [
        "def gaussian(m,s):\n",
        "    x = # YOUR CODE HERE: to creates a NumPy array containing values from -5 to 5 with a step size of 0.01.\n",
        "    # YOUR CODE HERE: Return the function f(x)"
      ],
      "metadata": {
        "id": "jRCn9eYd5_nF"
      },
      "execution_count": null,
      "outputs": []
    },
    {
      "cell_type": "code",
      "source": [
        "# the mean values for the Gaussian distributions\n",
        "mu = [-1,0.3,2.1]\n",
        "# the standard deviation values for the Gaussian distributions\n",
        "sigma = [2.1,0.8,1.7]"
      ],
      "metadata": {
        "id": "os57_1Zt-EE4"
      },
      "execution_count": null,
      "outputs": []
    },
    {
      "cell_type": "code",
      "source": [
        "def gaussian_mixture(x):\n",
        "\n",
        "# Your Code HERE: Computes the resultant Gaussian mixture from an input vector and known mean, variance quantities"
      ],
      "metadata": {
        "id": "pcAN8qb46Dxc"
      },
      "execution_count": null,
      "outputs": []
    },
    {
      "cell_type": "code",
      "source": [
        "gaussian_mixture(np.array([3,-2,2]))"
      ],
      "metadata": {
        "id": "MLLBlb4j6FGi"
      },
      "execution_count": null,
      "outputs": []
    },
    {
      "cell_type": "markdown",
      "source": [
        "The same result['x'] stores the optimum setting of the individual processes as a vector. That is the only difference between optimizing a single-valued and a multivariate function is that we get back a vector instead of a scalar."
      ],
      "metadata": {
        "id": "u7iYrIu7ev8p"
      }
    },
    {
      "cell_type": "code",
      "source": [
        "result['x']"
      ],
      "metadata": {
        "id": "DI0ht6QXe22U"
      },
      "execution_count": null,
      "outputs": []
    },
    {
      "cell_type": "code",
      "source": [
        "x0=np.array([0]*3)\n",
        "result = optimize.minimize(gaussian_mixture,x0=x0,method='SLSQP',options={'maxiter':100})\n",
        "result"
      ],
      "metadata": {
        "id": "tuvviaee6Ffy"
      },
      "execution_count": null,
      "outputs": []
    },
    {
      "cell_type": "markdown",
      "source": [
        "### Bounds with multiple variables"
      ],
      "metadata": {
        "id": "2n2dJDCJ6KkK"
      }
    },
    {
      "cell_type": "markdown",
      "source": [
        "we can change the bounds here to reflect practical constraints. For example, if the sub-process settings can occupy only a certain range of values (some must be positive, some must be negative, etc.) then the solution will be slightly different — it may not be the global optimum."
      ],
      "metadata": {
        "id": "IdotW237e_Br"
      }
    },
    {
      "cell_type": "code",
      "source": [
        "x0=np.array([0]*3)\n",
        "x1_bound = (-2,2)\n",
        "x2_bound = (0,5)\n",
        "x3_bound = (-3,0)\n",
        "result = optimize.minimize(gaussian_mixture,x0=x0,method='SLSQP',options={'maxiter':100},\n",
        "                           bounds=(x1_bound,x2_bound,x3_bound))\n",
        "# YOUR CODE HERE: To use optimize.minimize by passing the gaussian_mixture function and argumrnt and the method and constraints,\n",
        "                    # options with bounding multiple variables.\n",
        "result"
      ],
      "metadata": {
        "id": "D7TfbvsM6H1S"
      },
      "execution_count": null,
      "outputs": []
    },
    {
      "cell_type": "markdown",
      "source": [
        "Here, the solution is as follows. This is dictating to push the 3rd sub-process setting to the maximum possible value (zero) while adjusting the other two suitably."
      ],
      "metadata": {
        "id": "zPN4EzwgfLAy"
      }
    },
    {
      "cell_type": "markdown",
      "metadata": {
        "id": "18lLKrppGRga"
      },
      "source": [
        "# Please answer the questions below to complete the experiment:\n",
        "\n",
        "\n"
      ]
    },
    {
      "cell_type": "markdown",
      "metadata": {
        "id": "63t0SghokMQN"
      },
      "source": [
        "## $f(x)=x^3-3x^2+1$"
      ]
    },
    {
      "cell_type": "code",
      "execution_count": null,
      "metadata": {
        "id": "mVpko2ucp9UF"
      },
      "outputs": [],
      "source": [
        "# @title For the above function find the absolute maximum and minimum values.   { run: \"auto\", form-width: \"500px\", display-mode: \"form\" }\n",
        "Answer = \"\" #@param [\"\", \"(1, -3)\", \"(3, 5)\",\"(0, 3)\",\"(1, 5)\"]"
      ]
    },
    {
      "cell_type": "code",
      "execution_count": null,
      "metadata": {
        "id": "i52i69Ltp9UF"
      },
      "outputs": [],
      "source": [
        "#@title How was the experiment? { run: \"auto\", form-width: \"500px\", display-mode: \"form\" }\n",
        "Complexity = \"\" #@param [\"\",\"Too Simple, I am wasting time\", \"Good, But Not Challenging for me\", \"Good and Challenging for me\", \"Was Tough, but I did it\", \"Too Difficult for me\"]\n"
      ]
    },
    {
      "cell_type": "code",
      "execution_count": null,
      "metadata": {
        "id": "BV3kOseop9UF"
      },
      "outputs": [],
      "source": [
        "#@title If it was too easy, what more would you have liked to be added? If it was very difficult, what would you have liked to have been removed? { run: \"auto\", display-mode: \"form\" }\n",
        "Additional = \"\" #@param {type:\"string\"}\n"
      ]
    },
    {
      "cell_type": "code",
      "execution_count": null,
      "metadata": {
        "id": "5vuo5jzyp9UG"
      },
      "outputs": [],
      "source": [
        "#@title Can you identify the concepts from the lecture which this experiment covered? { run: \"auto\", vertical-output: true, display-mode: \"form\" }\n",
        "Concepts = \"\" #@param [\"\",\"Yes\", \"No\"]\n"
      ]
    },
    {
      "cell_type": "code",
      "execution_count": null,
      "metadata": {
        "id": "wGYFNb2rp9UG"
      },
      "outputs": [],
      "source": [
        "#@title  Text and image description/explanation and code comments within the experiment: { run: \"auto\", vertical-output: true, display-mode: \"form\" }\n",
        "Comments = \"\" #@param [\"\",\"Very Useful\", \"Somewhat Useful\", \"Not Useful\", \"Didn't use\"]\n"
      ]
    },
    {
      "cell_type": "code",
      "execution_count": null,
      "metadata": {
        "id": "rhqhDIqap9UG"
      },
      "outputs": [],
      "source": [
        "#@title Mentor Support: { run: \"auto\", vertical-output: true, display-mode: \"form\" }\n",
        "Mentor_support = \"\" #@param [\"\",\"Very Useful\", \"Somewhat Useful\", \"Not Useful\", \"Didn't use\"]\n"
      ]
    },
    {
      "cell_type": "code",
      "execution_count": null,
      "metadata": {
        "cellView": "form",
        "id": "h-pRrB72p9UH"
      },
      "outputs": [],
      "source": [
        "#@title Run this cell to submit your notebook for grading { vertical-output: true }\n",
        "try:\n",
        "  if submission_id:\n",
        "      return_id = submit_notebook()\n",
        "      if return_id : submission_id = return_id\n",
        "  else:\n",
        "      print(\"Please complete the setup first.\")\n",
        "except NameError:\n",
        "  print (\"Please complete the setup first.\")"
      ]
    }
  ]
}