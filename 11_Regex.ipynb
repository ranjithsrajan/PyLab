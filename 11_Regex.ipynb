{
  "nbformat": 4,
  "nbformat_minor": 0,
  "metadata": {
    "colab": {
      "provenance": [],
      "include_colab_link": true
    },
    "kernelspec": {
      "name": "python3",
      "display_name": "Python 3"
    },
    "language_info": {
      "name": "python"
    }
  },
  "cells": [
    {
      "cell_type": "markdown",
      "metadata": {
        "id": "view-in-github",
        "colab_type": "text"
      },
      "source": [
        "<a href=\"https://colab.research.google.com/github/ranjithsrajan/PyLab/blob/main/11_Regex.ipynb\" target=\"_parent\"><img src=\"https://colab.research.google.com/assets/colab-badge.svg\" alt=\"Open In Colab\"/></a>"
      ]
    },
    {
      "cell_type": "code",
      "source": [
        "#@title Walkthrough Video\n",
        "from IPython.display import HTML\n",
        "HTML(\"\"\"<video width=\"620\" height=\"400\" controls>\n",
        "<source src=\"https://cdn.exec.talentsprint.com/content/10_Regex.mp4\">\n",
        "</video>\"\"\")"
      ],
      "metadata": {
        "cellView": "form",
        "id": "CGYZdcgPwO4I",
        "colab": {
          "base_uri": "https://localhost:8080/",
          "height": 421
        },
        "outputId": "85e1cd01-6f36-43eb-91fb-acb295b92c32"
      },
      "execution_count": null,
      "outputs": [
        {
          "output_type": "execute_result",
          "data": {
            "text/plain": [
              "<IPython.core.display.HTML object>"
            ],
            "text/html": [
              "<video width=\"620\" height=\"400\" controls>\n",
              "<source src=\"https://cdn.exec.talentsprint.com/content/10_Regex.mp4\">\n",
              "</video>"
            ]
          },
          "metadata": {},
          "execution_count": 1
        }
      ]
    },
    {
      "cell_type": "code",
      "source": [
        "#@title Run this cell to download the text file\n",
        "!wget https://cdn.iisc.talentsprint.com/mbox-short.txt"
      ],
      "metadata": {
        "cellView": "form",
        "id": "nBaeX6dZwaLr",
        "outputId": "a07256f8-8319-4f15-c080-a895f7fc8e4a",
        "colab": {
          "base_uri": "https://localhost:8080/"
        }
      },
      "execution_count": null,
      "outputs": [
        {
          "output_type": "stream",
          "name": "stdout",
          "text": [
            "--2023-08-21 07:43:36--  https://cdn.iisc.talentsprint.com/mbox-short.txt\n",
            "Resolving cdn.iisc.talentsprint.com (cdn.iisc.talentsprint.com)... 172.105.52.210\n",
            "Connecting to cdn.iisc.talentsprint.com (cdn.iisc.talentsprint.com)|172.105.52.210|:443... connected.\n",
            "HTTP request sent, awaiting response... 200 OK\n",
            "Length: 96532 (94K) [text/plain]\n",
            "Saving to: ‘mbox-short.txt’\n",
            "\n",
            "mbox-short.txt      100%[===================>]  94.27K   190KB/s    in 0.5s    \n",
            "\n",
            "2023-08-21 07:43:38 (190 KB/s) - ‘mbox-short.txt’ saved [96532/96532]\n",
            "\n"
          ]
        }
      ]
    },
    {
      "cell_type": "markdown",
      "source": [
        "**Regular Expression**\n",
        "\n",
        "- Regular expression, also refered to as 'regex' or 'regexp'. Provides a concise and flexible means for matching strings of text, such as particular characters, words, or patterns of characters.\n",
        "\n",
        "- Really clever 'wild card' expression for matching and parsing string."
      ],
      "metadata": {
        "id": "C-3JceqSEAYd"
      }
    },
    {
      "cell_type": "code",
      "execution_count": null,
      "metadata": {
        "id": "uHCBf9PBD1F1",
        "outputId": "75ef0629-c3ae-4ee6-f3e8-647cdc9a946c",
        "colab": {
          "base_uri": "https://localhost:8080/"
        }
      },
      "outputs": [
        {
          "output_type": "stream",
          "name": "stdout",
          "text": [
            "Phone number found: 415-555-4242\n"
          ]
        }
      ],
      "source": [
        "# Matching a string to three numbes\n",
        "import re\n",
        "\n",
        "NumRegex = re.compile(r'\\d\\d\\d-\\d\\d\\d-\\d\\d\\d\\d')\n",
        "Num = NumRegex.search('My number is 415-555-4242.')\n",
        "print('Phone number found: ' + Num.group())"
      ]
    },
    {
      "cell_type": "markdown",
      "source": [
        "**Regular Expression Quick Guide**\n",
        "\n",
        "\n",
        "'+'  Repeats a character one or more times\n",
        "\n",
        "'+?'       Repeats a character one or more times (non-greedy)\n",
        "\n",
        "'[aeiou]'  Matches a single character in the listed set\n",
        "\n",
        "'[^XYZ]'   Matches a single character not in the listed set\n",
        "\n",
        "'[a-z0-9]' The set of characters can include a range\n",
        "\n",
        "'('        Indicates where string extraction is to start\n",
        "\n",
        "')'        Indicates where string extraction is to end\n",
        "\n",
        "'^'        Matches the beginning of a line\n",
        "\n",
        "'$'        Matches the end of the line\n",
        "\n",
        "'.'        Matches any character\n",
        "\n",
        "'\\s'       Matches whitespace\n",
        "\n",
        "'\\S'       Matches any non-whitespace character\n",
        "\n",
        "'*'        Repeats a character zero or more times\n",
        "\n",
        "'*?'       Repeats a character zero or more times (non-greedy)\n",
        "\n",
        "\n"
      ],
      "metadata": {
        "id": "l_kCxqpXFPSt"
      }
    },
    {
      "cell_type": "markdown",
      "source": [
        "**The Regular Expression Module**\n",
        "\n",
        "- Before you can use regular expression in your program, you must improve the library using '**import re**'\n",
        "\n",
        "- **re.search()** is to see if a string matches a regular expression, similar to using the **find()** method for strings\n",
        "\n",
        "- **re.findall()** is to extract portions of a string that match your regular expression, similar to a combination of **find()** and slicing: **var[5:10]**"
      ],
      "metadata": {
        "id": "oHCwEQSVGpvc"
      }
    },
    {
      "cell_type": "markdown",
      "source": [
        "**Using re.search() like find()**"
      ],
      "metadata": {
        "id": "ksU1S_TqHaaZ"
      }
    },
    {
      "cell_type": "code",
      "source": [
        "# find()\n",
        "\n",
        "hand = open('mbox-short.txt')\n",
        "\n",
        "for line in hand:\n",
        "    line = line.rstrip()\n",
        "    if line.find('From:') >= 0:\n",
        "\n",
        "        print(line)"
      ],
      "metadata": {
        "id": "KZmuEuUSFPkc",
        "outputId": "07943b4a-db07-4e60-d4f8-f1da44c3f335",
        "colab": {
          "base_uri": "https://localhost:8080/"
        }
      },
      "execution_count": null,
      "outputs": [
        {
          "output_type": "stream",
          "name": "stdout",
          "text": [
            "From: stephen.marquard@uct.ac.za\n",
            "From: louis@media.berkeley.edu\n",
            "From: zqian@umich.edu\n",
            "From: rjlowe@iupui.edu\n",
            "From: zqian@umich.edu\n",
            "From: rjlowe@iupui.edu\n",
            "From: cwen@iupui.edu\n",
            "From: cwen@iupui.edu\n",
            "From: gsilver@umich.edu\n",
            "From: gsilver@umich.edu\n",
            "From: zqian@umich.edu\n",
            "From: gsilver@umich.edu\n",
            "From: wagnermr@iupui.edu\n",
            "From: zqian@umich.edu\n",
            "From: antranig@caret.cam.ac.uk\n",
            "From: gopal.ramasammycook@gmail.com\n",
            "From: david.horwitz@uct.ac.za\n",
            "From: david.horwitz@uct.ac.za\n",
            "From: david.horwitz@uct.ac.za\n",
            "From: david.horwitz@uct.ac.za\n",
            "From: stephen.marquard@uct.ac.za\n",
            "From: louis@media.berkeley.edu\n",
            "From: louis@media.berkeley.edu\n",
            "From: ray@media.berkeley.edu\n",
            "From: cwen@iupui.edu\n",
            "From: cwen@iupui.edu\n",
            "From: cwen@iupui.edu\n"
          ]
        }
      ]
    },
    {
      "cell_type": "code",
      "source": [
        "# re.search()\n",
        "\n",
        "import re\n",
        "hand = open('mbox-short.txt')\n",
        "\n",
        "for line in hand:\n",
        "    line = line.rstrip()\n",
        "    if re.search('From:', line):\n",
        "\n",
        "        print(line)"
      ],
      "metadata": {
        "id": "f6rPtT-0Ht5c",
        "outputId": "7b26b163-05ba-48f4-c49e-456159870593",
        "colab": {
          "base_uri": "https://localhost:8080/"
        }
      },
      "execution_count": null,
      "outputs": [
        {
          "output_type": "stream",
          "name": "stdout",
          "text": [
            "From: stephen.marquard@uct.ac.za\n",
            "From: louis@media.berkeley.edu\n",
            "From: zqian@umich.edu\n",
            "From: rjlowe@iupui.edu\n",
            "From: zqian@umich.edu\n",
            "From: rjlowe@iupui.edu\n",
            "From: cwen@iupui.edu\n",
            "From: cwen@iupui.edu\n",
            "From: gsilver@umich.edu\n",
            "From: gsilver@umich.edu\n",
            "From: zqian@umich.edu\n",
            "From: gsilver@umich.edu\n",
            "From: wagnermr@iupui.edu\n",
            "From: zqian@umich.edu\n",
            "From: antranig@caret.cam.ac.uk\n",
            "From: gopal.ramasammycook@gmail.com\n",
            "From: david.horwitz@uct.ac.za\n",
            "From: david.horwitz@uct.ac.za\n",
            "From: david.horwitz@uct.ac.za\n",
            "From: david.horwitz@uct.ac.za\n",
            "From: stephen.marquard@uct.ac.za\n",
            "From: louis@media.berkeley.edu\n",
            "From: louis@media.berkeley.edu\n",
            "From: ray@media.berkeley.edu\n",
            "From: cwen@iupui.edu\n",
            "From: cwen@iupui.edu\n",
            "From: cwen@iupui.edu\n"
          ]
        }
      ]
    },
    {
      "cell_type": "markdown",
      "source": [
        "**Using re.search() like startswith()**\n"
      ],
      "metadata": {
        "id": "_ULp0sCcIRsz"
      }
    },
    {
      "cell_type": "code",
      "source": [
        "# startswith()\n",
        "\n",
        "hand = open('mbox-short.txt')\n",
        "\n",
        "for line in hand:\n",
        "    line = line.rstrip()\n",
        "    if line.startswith('From:'):\n",
        "\n",
        "        print(line)"
      ],
      "metadata": {
        "id": "O5EsiKmMIZch",
        "outputId": "61a1e80d-89b1-4d78-fd9c-526afead2ad1",
        "colab": {
          "base_uri": "https://localhost:8080/"
        }
      },
      "execution_count": null,
      "outputs": [
        {
          "output_type": "stream",
          "name": "stdout",
          "text": [
            "From: stephen.marquard@uct.ac.za\n",
            "From: louis@media.berkeley.edu\n",
            "From: zqian@umich.edu\n",
            "From: rjlowe@iupui.edu\n",
            "From: zqian@umich.edu\n",
            "From: rjlowe@iupui.edu\n",
            "From: cwen@iupui.edu\n",
            "From: cwen@iupui.edu\n",
            "From: gsilver@umich.edu\n",
            "From: gsilver@umich.edu\n",
            "From: zqian@umich.edu\n",
            "From: gsilver@umich.edu\n",
            "From: wagnermr@iupui.edu\n",
            "From: zqian@umich.edu\n",
            "From: antranig@caret.cam.ac.uk\n",
            "From: gopal.ramasammycook@gmail.com\n",
            "From: david.horwitz@uct.ac.za\n",
            "From: david.horwitz@uct.ac.za\n",
            "From: david.horwitz@uct.ac.za\n",
            "From: david.horwitz@uct.ac.za\n",
            "From: stephen.marquard@uct.ac.za\n",
            "From: louis@media.berkeley.edu\n",
            "From: louis@media.berkeley.edu\n",
            "From: ray@media.berkeley.edu\n",
            "From: cwen@iupui.edu\n",
            "From: cwen@iupui.edu\n",
            "From: cwen@iupui.edu\n"
          ]
        }
      ]
    },
    {
      "cell_type": "code",
      "source": [
        "# re.search()\n",
        "\n",
        "import re\n",
        "hand = open('mbox-short.txt')\n",
        "\n",
        "for line in hand:\n",
        "    line = line.rstrip()\n",
        "    if re.search('^From:', line):\n",
        "\n",
        "        print(line)"
      ],
      "metadata": {
        "id": "CvgLIOFGIkzg",
        "outputId": "96d74735-20ea-48f7-8a89-a7493a874f3b",
        "colab": {
          "base_uri": "https://localhost:8080/"
        }
      },
      "execution_count": null,
      "outputs": [
        {
          "output_type": "stream",
          "name": "stdout",
          "text": [
            "From: stephen.marquard@uct.ac.za\n",
            "From: louis@media.berkeley.edu\n",
            "From: zqian@umich.edu\n",
            "From: rjlowe@iupui.edu\n",
            "From: zqian@umich.edu\n",
            "From: rjlowe@iupui.edu\n",
            "From: cwen@iupui.edu\n",
            "From: cwen@iupui.edu\n",
            "From: gsilver@umich.edu\n",
            "From: gsilver@umich.edu\n",
            "From: zqian@umich.edu\n",
            "From: gsilver@umich.edu\n",
            "From: wagnermr@iupui.edu\n",
            "From: zqian@umich.edu\n",
            "From: antranig@caret.cam.ac.uk\n",
            "From: gopal.ramasammycook@gmail.com\n",
            "From: david.horwitz@uct.ac.za\n",
            "From: david.horwitz@uct.ac.za\n",
            "From: david.horwitz@uct.ac.za\n",
            "From: david.horwitz@uct.ac.za\n",
            "From: stephen.marquard@uct.ac.za\n",
            "From: louis@media.berkeley.edu\n",
            "From: louis@media.berkeley.edu\n",
            "From: ray@media.berkeley.edu\n",
            "From: cwen@iupui.edu\n",
            "From: cwen@iupui.edu\n",
            "From: cwen@iupui.edu\n"
          ]
        }
      ]
    },
    {
      "cell_type": "markdown",
      "source": [
        "**Matching and Extracting Data**\n",
        "\n",
        "- **re.search()** returns a True/False depending on whether the string matches  the regular expression\n",
        "- If we actually want the matching strings to be extracted, we use **re.findall()**\n"
      ],
      "metadata": {
        "id": "kwG5BchMjvYM"
      }
    },
    {
      "cell_type": "code",
      "source": [
        "import re\n",
        "\n",
        "x = 'My 2 favorite numbers are 19 and 42'\n",
        "y = re.findall('[0-9]+',x)\n",
        "\n",
        "print(y)"
      ],
      "metadata": {
        "id": "MXu9_PJkJqMM",
        "outputId": "d59a5b69-4228-4ef2-9114-fe71283cea55",
        "colab": {
          "base_uri": "https://localhost:8080/"
        }
      },
      "execution_count": null,
      "outputs": [
        {
          "output_type": "stream",
          "name": "stdout",
          "text": [
            "['2', '19', '42']\n"
          ]
        }
      ]
    },
    {
      "cell_type": "markdown",
      "source": [
        "- When we use **re.findall()**, it returns a list of zero or more sub-strings that match the regular expression\n"
      ],
      "metadata": {
        "id": "fz5reXc-j_DP"
      }
    },
    {
      "cell_type": "code",
      "source": [
        "import re\n",
        "\n",
        "x = 'My 2 favorite numbers are 19 and 42'\n",
        "y = re.findall('[0-9]+',x)\n",
        "print(y)"
      ],
      "metadata": {
        "id": "tXFk0VsykBUx",
        "outputId": "03f3b7cf-77a1-4e60-ba05-20690269c816",
        "colab": {
          "base_uri": "https://localhost:8080/"
        }
      },
      "execution_count": null,
      "outputs": [
        {
          "output_type": "stream",
          "name": "stdout",
          "text": [
            "['2', '19', '42']\n"
          ]
        }
      ]
    },
    {
      "cell_type": "code",
      "source": [
        "y = re.findall('[AEIOU]+',x)\n",
        "print(y)"
      ],
      "metadata": {
        "id": "Vst83VeqkFY8",
        "outputId": "27e6312e-b2d8-47eb-8959-7b1a43301055",
        "colab": {
          "base_uri": "https://localhost:8080/"
        }
      },
      "execution_count": null,
      "outputs": [
        {
          "output_type": "stream",
          "name": "stdout",
          "text": [
            "[]\n"
          ]
        }
      ]
    },
    {
      "cell_type": "markdown",
      "source": [
        "**Warning: Greedy Matching**\n",
        "\n",
        "- The **repeat** characters (* and +) push **outward** in both directions (greedy) to match the largest possible string\n"
      ],
      "metadata": {
        "id": "uK_nRfWdkKYR"
      }
    },
    {
      "cell_type": "code",
      "source": [
        "import re\n",
        "\n",
        "x = 'From: Using the : character'\n",
        "y = re.findall('^F.+:', x)\n",
        "print(y)"
      ],
      "metadata": {
        "id": "O_qA2f7NkOnV",
        "outputId": "10a4e524-896f-42c7-8947-36c8d01afda4",
        "colab": {
          "base_uri": "https://localhost:8080/"
        }
      },
      "execution_count": null,
      "outputs": [
        {
          "output_type": "stream",
          "name": "stdout",
          "text": [
            "['From: Using the :']\n"
          ]
        }
      ]
    },
    {
      "cell_type": "markdown",
      "source": [
        "**Non-Greedy Matching**\n",
        "\n",
        "- Not all regular expression repeat codes are greedy!  If you add a ? character, the + and * chill out a bit...\n"
      ],
      "metadata": {
        "id": "4tCbs7EDkdWx"
      }
    },
    {
      "cell_type": "code",
      "source": [
        "import re\n",
        "\n",
        "x = 'From: Using the : character'\n",
        "y = re.findall('^F.+?:', x)\n",
        "print(y)"
      ],
      "metadata": {
        "id": "zkigimmLkXv6",
        "outputId": "f17e0921-0de9-4ec5-82ab-5a3ff12ea57d",
        "colab": {
          "base_uri": "https://localhost:8080/"
        }
      },
      "execution_count": null,
      "outputs": [
        {
          "output_type": "stream",
          "name": "stdout",
          "text": [
            "['From:']\n"
          ]
        }
      ]
    },
    {
      "cell_type": "markdown",
      "source": [
        "**Fine-Tuning String Extraction**\n",
        "\n",
        "- You can refine the match for re.findall() and separately determine which portion of the match is to be extracted by using parentheses\n"
      ],
      "metadata": {
        "id": "I0nhAsbMkmiB"
      }
    },
    {
      "cell_type": "code",
      "source": [
        "x = 'From stephen.marquard@uct.ac.za Sat Jan  5 09:14:16 2008'\n",
        "y = re.findall('\\S+@\\S+', x)\n",
        "print(y)"
      ],
      "metadata": {
        "id": "2wRuHRTskqcI",
        "outputId": "6eecaf69-a6de-4518-8381-9b867e5a5da1",
        "colab": {
          "base_uri": "https://localhost:8080/"
        }
      },
      "execution_count": null,
      "outputs": [
        {
          "output_type": "stream",
          "name": "stdout",
          "text": [
            "['stephen.marquard@uct.ac.za']\n"
          ]
        }
      ]
    },
    {
      "cell_type": "markdown",
      "source": [
        "- Parentheses are not part of the match - but they tell where to start and stop and what string to extract\n",
        "\n",
        "\n"
      ],
      "metadata": {
        "id": "dFq-zEgzk1f0"
      }
    },
    {
      "cell_type": "code",
      "source": [
        "y = re.findall('\\S+@\\S+', x)\n",
        "print(y)\n",
        "\n",
        "y = re.findall('^From (\\S+@\\S+)',x)\n",
        "print(y)"
      ],
      "metadata": {
        "id": "FvRhjc6zk2jt",
        "outputId": "c8e9a514-9448-411a-f7bf-04a2515a5ce2",
        "colab": {
          "base_uri": "https://localhost:8080/"
        }
      },
      "execution_count": null,
      "outputs": [
        {
          "output_type": "stream",
          "name": "stdout",
          "text": [
            "['stephen.marquard@uct.ac.za']\n",
            "['stephen.marquard@uct.ac.za']\n"
          ]
        }
      ]
    },
    {
      "cell_type": "markdown",
      "source": [
        "**String Parsing Examples…**"
      ],
      "metadata": {
        "id": "4zA1lYL6k9Dz"
      }
    },
    {
      "cell_type": "code",
      "source": [
        "data = 'From stephen.marquard@uct.ac.za Sat Jan  5 09:14:16 2008'\n",
        "atpos = data.find('@')\n",
        "print(atpos)\n",
        "\n",
        "sppos = data.find(' ',atpos)\n",
        "print(sppos)\n",
        "\n",
        "host = data[atpos+1 : sppos]\n",
        "print(host)\n"
      ],
      "metadata": {
        "id": "Q642r-EEk-pk",
        "outputId": "6043ee61-55d3-4384-b0cb-603f71cd6de6",
        "colab": {
          "base_uri": "https://localhost:8080/"
        }
      },
      "execution_count": null,
      "outputs": [
        {
          "output_type": "stream",
          "name": "stdout",
          "text": [
            "21\n",
            "31\n",
            "uct.ac.za\n"
          ]
        }
      ]
    },
    {
      "cell_type": "markdown",
      "source": [
        "**The Double Split Pattern**\n",
        "\n",
        "- Sometimes we split a line one way, and then grab one of the pieces of the line and split that piece again\n"
      ],
      "metadata": {
        "id": "x0AVSwLzlFKX"
      }
    },
    {
      "cell_type": "code",
      "source": [
        "line = 'From stephen.marquard@uct.ac.za Sat Jan  5 09:14:16 2008'\n",
        "\n",
        "words = line.split()\n",
        "email = words[1]\n",
        "pieces = email.split('@')\n",
        "print(pieces[1])"
      ],
      "metadata": {
        "id": "xEJnHmtVlItp",
        "outputId": "d0622a5b-f984-47dd-86a7-3a8674f4ad86",
        "colab": {
          "base_uri": "https://localhost:8080/"
        }
      },
      "execution_count": null,
      "outputs": [
        {
          "output_type": "stream",
          "name": "stdout",
          "text": [
            "uct.ac.za\n"
          ]
        }
      ]
    },
    {
      "cell_type": "markdown",
      "source": [
        "**The Regex Version**"
      ],
      "metadata": {
        "id": "Ox0l-oMZlXms"
      }
    },
    {
      "cell_type": "code",
      "source": [
        "import re\n",
        "line = 'From stephen.marquard@uct.ac.za Sat Jan  5 09:14:16 2008'\n",
        "y = re.findall('@([^ ]*)',line)\n",
        "print(y)"
      ],
      "metadata": {
        "id": "iUMpDtLDlU9M",
        "outputId": "9c32772e-8983-4742-f445-5898b555aa54",
        "colab": {
          "base_uri": "https://localhost:8080/"
        }
      },
      "execution_count": null,
      "outputs": [
        {
          "output_type": "stream",
          "name": "stdout",
          "text": [
            "['uct.ac.za']\n"
          ]
        }
      ]
    },
    {
      "cell_type": "code",
      "source": [
        "import re\n",
        "line = 'From stephen.marquard@uct.ac.za Sat Jan  5 09:14:16 2008'\n",
        "y = re.findall('@([^ ]*)',line)\n",
        "print(y)"
      ],
      "metadata": {
        "id": "gBVqNFaQlbom",
        "outputId": "f64d350e-2050-4006-e923-ef563bcbd5d9",
        "colab": {
          "base_uri": "https://localhost:8080/"
        }
      },
      "execution_count": null,
      "outputs": [
        {
          "output_type": "stream",
          "name": "stdout",
          "text": [
            "['uct.ac.za']\n"
          ]
        }
      ]
    },
    {
      "cell_type": "code",
      "source": [
        "import re\n",
        "line = 'From stephen.marquard@uct.ac.za Sat Jan  5 09:14:16 2008'\n",
        "y = re.findall('@([^ ]*)',line)\n",
        "print(y)"
      ],
      "metadata": {
        "id": "QA6kfGR2liDN",
        "outputId": "461510e4-61fc-4ee2-d890-be7439391bab",
        "colab": {
          "base_uri": "https://localhost:8080/"
        }
      },
      "execution_count": null,
      "outputs": [
        {
          "output_type": "stream",
          "name": "stdout",
          "text": [
            "['uct.ac.za']\n"
          ]
        }
      ]
    },
    {
      "cell_type": "markdown",
      "source": [
        "**Even Cooler Regex Version**"
      ],
      "metadata": {
        "id": "sp7qGISell9b"
      }
    },
    {
      "cell_type": "code",
      "source": [
        "import re\n",
        "line = 'From stephen.marquard@uct.ac.za Sat Jan  5 09:14:16 2008'\n",
        "y = re.findall('^From .@([^ ]*)',line)\n",
        "print(y)"
      ],
      "metadata": {
        "id": "53AKTM2zlj6n",
        "outputId": "80be2890-9495-4700-825b-d49ae890329a",
        "colab": {
          "base_uri": "https://localhost:8080/"
        }
      },
      "execution_count": null,
      "outputs": [
        {
          "output_type": "stream",
          "name": "stdout",
          "text": [
            "[]\n"
          ]
        }
      ]
    },
    {
      "cell_type": "code",
      "source": [
        "import re\n",
        "line = 'From stephen.marquard@uct.ac.za Sat Jan  5 09:14:16 2008'\n",
        "y = re.findall('^From .*@([^ ]*)',line)\n",
        "print(y)"
      ],
      "metadata": {
        "id": "BcyAwEr3l-vU",
        "outputId": "64592e37-87eb-481f-c80f-f19cb526c5fe",
        "colab": {
          "base_uri": "https://localhost:8080/"
        }
      },
      "execution_count": null,
      "outputs": [
        {
          "output_type": "stream",
          "name": "stdout",
          "text": [
            "['uct.ac.za']\n"
          ]
        }
      ]
    },
    {
      "cell_type": "code",
      "source": [
        "import re\n",
        "line = 'From stephen.marquard@uct.ac.za Sat Jan  5 09:14:16 2008'\n",
        "y = re.findall('^From .*@([^ ]+)',line)\n",
        "print(y)"
      ],
      "metadata": {
        "id": "rKqKz_O_mJIi",
        "outputId": "772e1f91-5fd5-4cb0-f4ab-9193e19ff918",
        "colab": {
          "base_uri": "https://localhost:8080/"
        }
      },
      "execution_count": null,
      "outputs": [
        {
          "output_type": "stream",
          "name": "stdout",
          "text": [
            "['uct.ac.za']\n"
          ]
        }
      ]
    },
    {
      "cell_type": "markdown",
      "source": [
        "**Spam Confidence**"
      ],
      "metadata": {
        "id": "Mpsw_ehQmVP4"
      }
    },
    {
      "cell_type": "code",
      "source": [
        "import re\n",
        "hand = open('mbox-short.txt')\n",
        "numlist = list()\n",
        "for line in hand:\n",
        "    line = line.rstrip()\n",
        "    stuff = re.findall('^X-DSPAM-Confidence: ([0-9.]+)', line)\n",
        "    if len(stuff) != 1 :  continue\n",
        "    num = float(stuff[0])\n",
        "    numlist.append(num)\n",
        "print('Maximum:', max(numlist))"
      ],
      "metadata": {
        "id": "pmpSq-0VmLxe",
        "outputId": "58ae18a8-d3f8-4a10-f86e-bf5c2d95a0d6",
        "colab": {
          "base_uri": "https://localhost:8080/"
        }
      },
      "execution_count": null,
      "outputs": [
        {
          "output_type": "stream",
          "name": "stdout",
          "text": [
            "Maximum: 0.9907\n"
          ]
        }
      ]
    },
    {
      "cell_type": "markdown",
      "source": [
        "**Escape Character**\n",
        "\n",
        "- If you want a special regular expression character to just behave normally (most of the time) you prefix it with '\\'\n"
      ],
      "metadata": {
        "id": "nBCvzGrkmbrZ"
      }
    },
    {
      "cell_type": "code",
      "source": [
        "import re\n",
        "x = 'We just received $10.00 for cookies.'\n",
        "y = re.findall('\\$[0-9.]+',x)\n",
        "print(y)"
      ],
      "metadata": {
        "id": "nhekNIfPmfKx",
        "outputId": "be509ebb-d42e-434d-b3d3-9b3d5a78cc85",
        "colab": {
          "base_uri": "https://localhost:8080/"
        }
      },
      "execution_count": null,
      "outputs": [
        {
          "output_type": "stream",
          "name": "stdout",
          "text": [
            "['$10.00']\n"
          ]
        }
      ]
    }
  ]
}