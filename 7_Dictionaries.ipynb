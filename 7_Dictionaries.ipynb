{
  "nbformat": 4,
  "nbformat_minor": 0,
  "metadata": {
    "colab": {
      "provenance": [],
      "include_colab_link": true
    },
    "kernelspec": {
      "name": "python3",
      "display_name": "Python 3"
    },
    "language_info": {
      "name": "python"
    }
  },
  "cells": [
    {
      "cell_type": "markdown",
      "metadata": {
        "id": "view-in-github",
        "colab_type": "text"
      },
      "source": [
        "<a href=\"https://colab.research.google.com/github/ranjithsrajan/PyLab/blob/main/7_Dictionaries.ipynb\" target=\"_parent\"><img src=\"https://colab.research.google.com/assets/colab-badge.svg\" alt=\"Open In Colab\"/></a>"
      ]
    },
    {
      "cell_type": "code",
      "source": [
        "#@title Walkthrough Video\n",
        "from IPython.display import HTML\n",
        "HTML(\"\"\"<video width=\"620\" height=\"400\" controls>\n",
        "<source src=\"https://cdn.exec.talentsprint.com/content/8_Dictionaries.mp4\">\n",
        "</video>\"\"\")"
      ],
      "metadata": {
        "cellView": "form",
        "id": "adkH5VdGvxJY",
        "outputId": "2ed6809c-71c4-4896-bab7-136a8fd4c74d",
        "colab": {
          "base_uri": "https://localhost:8080/",
          "height": 421
        }
      },
      "execution_count": null,
      "outputs": [
        {
          "output_type": "execute_result",
          "data": {
            "text/plain": [
              "<IPython.core.display.HTML object>"
            ],
            "text/html": [
              "<video width=\"620\" height=\"400\" controls>\n",
              "<source src=\"https://cdn.exec.talentsprint.com/content/8_Dictionaries.mp4\">\n",
              "</video>"
            ]
          },
          "metadata": {},
          "execution_count": 1
        }
      ]
    },
    {
      "cell_type": "markdown",
      "source": [
        "Dictionaries are used to store data values in Key:Value pairs. A dictionary is a collection which is **ordered*, changeable, and doesn't allow duplicates**. It allows us to do fast database like operations in python."
      ],
      "metadata": {
        "id": "llSmwG3bPTPa"
      }
    },
    {
      "cell_type": "markdown",
      "source": [
        "*As python version 3.7 dictionaries are ordered. In python 3.6 earlier versions dictionaries are unordered."
      ],
      "metadata": {
        "id": "tKdmTMeoQIgb"
      }
    },
    {
      "cell_type": "markdown",
      "source": [
        "In Dictionaries we **index** the entries with a \"**Lookup tag**\",  whereas in Lists **index** their entries based on the position in the list"
      ],
      "metadata": {
        "id": "olxsTkUq5W6Z"
      }
    },
    {
      "cell_type": "code",
      "execution_count": null,
      "metadata": {
        "id": "6QN7EAFmMP7t",
        "colab": {
          "base_uri": "https://localhost:8080/"
        },
        "outputId": "4860f866-6239-4306-fb58-261e6d4c0522"
      },
      "outputs": [
        {
          "output_type": "stream",
          "name": "stdout",
          "text": [
            "{'money': 12, 'candy': 3, 'tissue': 75}\n"
          ]
        }
      ],
      "source": [
        "dict1 = dict()\n",
        "\n",
        "dict1['money'] = 12\n",
        "dict1['candy'] = 3\n",
        "dict1['tissue'] = 75\n",
        "print(dict1)"
      ]
    },
    {
      "cell_type": "code",
      "source": [
        "print(dict1['candy'])"
      ],
      "metadata": {
        "id": "Q15zTiyt5_3c",
        "colab": {
          "base_uri": "https://localhost:8080/"
        },
        "outputId": "d27711cf-cee0-453b-84e9-c6991307a3ac"
      },
      "execution_count": null,
      "outputs": [
        {
          "output_type": "stream",
          "name": "stdout",
          "text": [
            "3\n"
          ]
        }
      ]
    },
    {
      "cell_type": "code",
      "source": [
        "dict1['candy'] = dict1['candy'] + 2\n",
        "print(dict1)"
      ],
      "metadata": {
        "id": "98PF7naz6EX4",
        "colab": {
          "base_uri": "https://localhost:8080/"
        },
        "outputId": "b4953fda-e047-4712-e759-1375ad1ef6e3"
      },
      "execution_count": null,
      "outputs": [
        {
          "output_type": "stream",
          "name": "stdout",
          "text": [
            "{'money': 12, 'candy': 5, 'tissue': 75}\n"
          ]
        }
      ]
    },
    {
      "cell_type": "markdown",
      "source": [
        "**Comparing Lists and Dictionaries**\n",
        "\n",
        "- **Dictionaries** are like **lists** except that they use **keys** instead of numbers to look up **values**"
      ],
      "metadata": {
        "id": "i_XmHC-S6XXe"
      }
    },
    {
      "cell_type": "code",
      "source": [
        "# Example of List\n",
        "lst = list()\n",
        "\n",
        "lst.append(21)\n",
        "lst.append(183)\n",
        "print(lst)"
      ],
      "metadata": {
        "id": "StD4I_FZbBHi",
        "colab": {
          "base_uri": "https://localhost:8080/"
        },
        "outputId": "8017d0b8-efe4-468e-a117-31997ecceba4"
      },
      "execution_count": null,
      "outputs": [
        {
          "output_type": "stream",
          "name": "stdout",
          "text": [
            "[21, 183]\n"
          ]
        }
      ]
    },
    {
      "cell_type": "code",
      "source": [
        "lst[0] = 23\n",
        "print(lst)"
      ],
      "metadata": {
        "id": "9xwO929tbHPr",
        "colab": {
          "base_uri": "https://localhost:8080/"
        },
        "outputId": "9f85f4ff-c350-480a-e2d8-d66712b038db"
      },
      "execution_count": null,
      "outputs": [
        {
          "output_type": "stream",
          "name": "stdout",
          "text": [
            "[23, 183]\n"
          ]
        }
      ]
    },
    {
      "cell_type": "code",
      "source": [
        "# Example of Dictionarie\n",
        "dict1 = dict()\n",
        "\n",
        "dict1['money'] = 21\n",
        "dict1['candy'] = 182\n",
        "print(dict1)"
      ],
      "metadata": {
        "id": "CxBVb4QcbQy5",
        "colab": {
          "base_uri": "https://localhost:8080/"
        },
        "outputId": "16a0e090-2a35-4582-9369-60e62ce51d9c"
      },
      "execution_count": null,
      "outputs": [
        {
          "output_type": "stream",
          "name": "stdout",
          "text": [
            "{'money': 21, 'candy': 182}\n"
          ]
        }
      ]
    },
    {
      "cell_type": "code",
      "source": [
        "dict1['money'] = 23\n",
        "print(dict1)"
      ],
      "metadata": {
        "id": "VL33SygRbhQ6",
        "colab": {
          "base_uri": "https://localhost:8080/"
        },
        "outputId": "e8633f53-7570-487c-bc6a-ab7d0213eb73"
      },
      "execution_count": null,
      "outputs": [
        {
          "output_type": "stream",
          "name": "stdout",
          "text": [
            "{'money': 23, 'candy': 182}\n"
          ]
        }
      ]
    },
    {
      "cell_type": "markdown",
      "source": [
        "So, the major difference between Lists and Dictionaries lies between the indexes that are associated with both of them. where the index of the list is starting from 0 and index of dictionary is key we are provided with associated value"
      ],
      "metadata": {
        "id": "gFiKWQmte2Vx"
      }
    },
    {
      "cell_type": "markdown",
      "source": [
        "**Dictionary Literals (Constants)**\n",
        "\n",
        "- Dictionary literals use curly braces and have a list of **key:value** pairs\n",
        "\n",
        "- You can make an **empty dictionary** using empty curly braces"
      ],
      "metadata": {
        "id": "jPVpq3-5fVkC"
      }
    },
    {
      "cell_type": "code",
      "source": [
        "dict1 = {'chuck' : 1, 'jeff' : 42, 'jan' : 100 }\n",
        "print(dict1)"
      ],
      "metadata": {
        "id": "--C9NG64fXvB",
        "colab": {
          "base_uri": "https://localhost:8080/"
        },
        "outputId": "40159ded-c246-41f0-e163-56b3b8d76ad0"
      },
      "execution_count": null,
      "outputs": [
        {
          "output_type": "stream",
          "name": "stdout",
          "text": [
            "{'chuck': 1, 'jeff': 42, 'jan': 100}\n"
          ]
        }
      ]
    },
    {
      "cell_type": "code",
      "source": [
        "dict2 = { }\n",
        "print(dict2)"
      ],
      "metadata": {
        "id": "SXTCqFKLfXrl",
        "colab": {
          "base_uri": "https://localhost:8080/"
        },
        "outputId": "99d485ad-82b9-4727-f42d-f0cb6f987068"
      },
      "execution_count": null,
      "outputs": [
        {
          "output_type": "stream",
          "name": "stdout",
          "text": [
            "{}\n"
          ]
        }
      ]
    },
    {
      "cell_type": "markdown",
      "source": [
        "**Many Counters with a Dictionary**\n",
        "\n",
        "- One common use of dictionaries is **counting** how often we \"see\" something"
      ],
      "metadata": {
        "id": "Co0H4cvQgKFs"
      }
    },
    {
      "cell_type": "code",
      "source": [
        "dict1 = dict()\n",
        "\n",
        "dict1['mark'] = 1\n",
        "dict1['steve'] = 1\n",
        "\n",
        "print(dict1)"
      ],
      "metadata": {
        "id": "-CUhJFFBgjnU",
        "colab": {
          "base_uri": "https://localhost:8080/"
        },
        "outputId": "7606bdc6-2791-48cf-ea56-d6dd21a42f9d"
      },
      "execution_count": null,
      "outputs": [
        {
          "output_type": "stream",
          "name": "stdout",
          "text": [
            "{'mark': 1, 'steve': 1}\n"
          ]
        }
      ]
    },
    {
      "cell_type": "code",
      "source": [
        "dict1['steve'] = dict1['steve'] + 1\n",
        "print(dict1)"
      ],
      "metadata": {
        "id": "BGEbINn6gth7",
        "colab": {
          "base_uri": "https://localhost:8080/"
        },
        "outputId": "be5537dd-d058-4a00-be24-c050c29a309c"
      },
      "execution_count": null,
      "outputs": [
        {
          "output_type": "stream",
          "name": "stdout",
          "text": [
            "{'mark': 1, 'steve': 2}\n"
          ]
        }
      ]
    },
    {
      "cell_type": "markdown",
      "source": [
        "**When we see a new name**\n",
        "\n",
        "- When we encounter a new name, we need to add a new entry in the dictionary and if this the second or later time we have seen the name, we simply add one to the count in the dictionary under that name\n",
        "\n"
      ],
      "metadata": {
        "id": "UByWr15bg468"
      }
    },
    {
      "cell_type": "code",
      "source": [
        "counts = dict()\n",
        "\n",
        "names = ['steve', 'mark', 'steve', 'zhen', 'mark']\n",
        "\n",
        "for name in names:\n",
        "    if name not in counts:\n",
        "        counts[name] = 1\n",
        "    else:\n",
        "        counts[name] = counts[name] + 1\n",
        "print(counts)"
      ],
      "metadata": {
        "id": "iusmWypchKmv",
        "colab": {
          "base_uri": "https://localhost:8080/"
        },
        "outputId": "d347db7f-8cbe-4ac9-ef1f-518c243e8440"
      },
      "execution_count": null,
      "outputs": [
        {
          "output_type": "stream",
          "name": "stdout",
          "text": [
            "{'steve': 2, 'mark': 2, 'zhen': 1}\n"
          ]
        }
      ]
    },
    {
      "cell_type": "markdown",
      "source": [
        "**The get method for dictionaries**\n",
        "\n",
        "- The pattern of checking to see if a **key** is already in a dictionary and assuming a default value if the **key** is not there is so common that there is a method called **get()** that does this for us"
      ],
      "metadata": {
        "id": "8zkqQNGileVb"
      }
    },
    {
      "cell_type": "code",
      "source": [
        "if name in counts:\n",
        "    x = counts[name]\n",
        "else:\n",
        "    x = 0"
      ],
      "metadata": {
        "id": "7W_tUs3ml4nL"
      },
      "execution_count": null,
      "outputs": []
    },
    {
      "cell_type": "markdown",
      "source": [
        "Defaults value if key does not exit (and no Trace back)"
      ],
      "metadata": {
        "id": "Dn4XC3HcmB9Z"
      }
    },
    {
      "cell_type": "code",
      "source": [
        "# x = counts.get(names, 0)"
      ],
      "metadata": {
        "id": "hm26JN2VmIWx"
      },
      "execution_count": null,
      "outputs": []
    },
    {
      "cell_type": "markdown",
      "source": [
        "**Simplified Counting with get()**\n",
        "\n",
        "- We can use **get()** and provide a **default value of zero** when the **key** is not yet in the dictionary - and then just add one"
      ],
      "metadata": {
        "id": "qjRswuCHmarb"
      }
    },
    {
      "cell_type": "code",
      "source": [
        "counts = dict()\n",
        "\n",
        "names = ['steve', 'mark', 'steve', 'zhen', 'mark']\n",
        "\n",
        "for name in names:\n",
        "    counts[name] = counts.get(name, 0) + 1 # '0' is default\n",
        "print(counts)"
      ],
      "metadata": {
        "id": "Vmwi5rqBmyvb",
        "colab": {
          "base_uri": "https://localhost:8080/"
        },
        "outputId": "7093c6ef-27e7-414b-c1c3-366eb0029f1a"
      },
      "execution_count": null,
      "outputs": [
        {
          "output_type": "stream",
          "name": "stdout",
          "text": [
            "{'steve': 2, 'mark': 2, 'zhen': 1}\n"
          ]
        }
      ]
    },
    {
      "cell_type": "markdown",
      "source": [
        "**Counting Words in Text**\n",
        "\n",
        "![image.png](data:image/png;base64,iVBORw0KGgoAAAANSUhEUgAAAkoAAAEMCAYAAAA7ypl1AAAAAXNSR0IArs4c6QAAAARnQU1BAACxjwv8YQUAAAAJcEhZcwAADsMAAA7DAcdvqGQAAHMySURBVHhe7Z1NaxXZ9+/X/4KjfgEK3dJJnHrBjOIgIoqzyyUGRLRBxTfgE9jQNGgiSIOCif0GRAOtNEIMlzsTJZiBGSVwM00nP7ob2hfQIwf/u9Z+3lV7V+06D8mJfj/NoWOdqv2w9lprr72rTq3/+vfz5/8mAAAAAABQ43+Y/wMAAAAAgAoIlAAAAAAAMiBQAgAAAADIgEAJAAAAACADAiUAAAAAgAwIlAAAAAAAMiBQAgAAAADIgEAJAAAAACADAiUAAAAAgAwIlAAAAAAAMiBQAgAAAADIgEAJAAAAACADAiUAAAAAgAwIlAAAAAAAMiBQAgAAAADIgEAJAAAAACADAiUAAAAAgAwIlAAAAAAAMiBQAgAAAADIgEAJAAAAACADAiUAAAAAgAwIlAAAAAAAMiBQAgAAAADIgEAJAAAAACADAiUAAAAAgAwIlAAAAAAAMiBQAgAAAADIgEAJAAAAACADAiUAAAAAgAwIlAAAAAAAMiBQAgAAAADIgEAJAAAAACADAiUAAAAAgAyjHyj99ZJ+uPySPpl/En2kR4cO0aN180/m06uL9M3Dj+ZfAeu/0DeHfqHgVIe6JioXKHml5PjVUte1cv6h3y9fpN//Mv8MgO5VaLDTvUPGer/bkCJo1wjIqV13+7GZBOL/oz6P6jh1RfzDIfrh1T/m318xaowPsW6n/eUo8F//fv783+bvEUUM4wmN7fxOF7/jf4pQx68SLf1Jv106os5Yf3iIVs99ph+n1D8zSDnv6fTnn6jxtK+Y9YcX6T/XjJxB//DE9sPOdaenwCKTxA2ix6Oka6PqH/a7Xf3UP5hxDv27BGq36dcvzqa+1H6VcBD6fgBuvZ2k03PLtPu3/tentWU6sfSCaOW9WdV8pNW5B3RarFjtiPzChs3Rqax63G6UGPspmqd7dFZFruZjdk/EEB/xdfa4Xw3pqN+dH32nkeDi93UbEQcrBFU3t0VdH64ITVnhqiw87r7TOxKPuHw5JvVKO+NzhPg8HZVLf/V5fsUS9iW1IhM5TtL3zqH5MqJIvypjc1ghfWaZ+nbaeup9qcrWyzWsVz6m7mq9kcx8++pjGdTjdsu6yMyUHY0nf1rHj/l2LNDTANUX05bg2trqUuoMyq3qXtQ+hfTByDy6NjMO/0f6VOlHYkdR7SLYsuT7lG5n67PH+KPKlmNH6frrZbo+Hnxn2qHGz/WzIn97ris/JFUXE7WVP2F/Q117+N4cq6BkEut7aId2zKJ2yzWuHt+H8LqwHaHO6vIy7VJ9MdeF7VLn+XGLxqvynSLQuci2mbhv/5fLz/nNYGwUVvfscfl/MM5yTUW/pJ01nU8wde0FbS5Kvz/S8yuTdFNNqPF4O9mHMmKyddT0KS7Pt1P3J/YV5itLVKcuJ9KFQF6hD7Q6I22cuLJMK1eO8ndN9hQi5fHxYCxtnXV9StiwIakrqj+BfUdtqfYt1kFfXtjmQJ+DsRGivpvv0m2ty28vORDPKE2de0Dzb7XAdreJxqbH6cTrXdqVA3/t0OaFMeIpSTO3QWM7n+nfl5fpsDkkwdaPnz/QfXpA7z7zd/JZe2C+08xvjdEf5vi8Mkpm/RldP/7Bnz/3IbFrxY5gkWhBztnhAO7KM68gr+8R3ZL6eDUmyjZNrv53x6/SbaXErACLG/RM2vz5T3p2YZaePbZtX2YndUedL/VO/ayvtdc/dxX58/5YInZMsgPH54Xt4b68mfnTXJ9YHUZyFKU8RbRm6lubpOt3AwVPytgwd0qt/lQb5+7RU+ek4r6sPzzq28Pt3JzWhvXp1RPaXNLH/1iapZmlX/1qNKx36id9rXykfc+98UdjOX2UdtUY8PjPPQmcXIHMqrjx5HEiK/+G8fvuDJ3nelarjtUh13qdqK2ovrtMv5nvlIysXjqO0OkZojdrRsbr72l+7gyPLZd7d5du2mvXiM46hxOMw/+O27f+9h7dP3dS/8PCenubJydnNz+b70PdztZ3hC6+NMdENlsifzlm5KRkxh/uG3dDEdo6/fWe3tAsnf6uqT+WVF3mq+S4iQ6e8rp2bIPlkiHUO54cnh6zdvQnnV+5oeoJ2/1ph7g/Vq7ip6QPTfbrdVZ0oHO7It3WwYQeL+Pz7JhZcrbDfTu79ULbDn9+u/S/GvxmTvcslXGWNkyd4Xa+N7b1D62uEJ2fLthFYDu4KfLioNHWkfMfZYg+XaUT1r8pHW7Qn6qvCHyNIrJzPd6bThc2ApuKfaDl8KXfja+T/jTZUxUOYN+eMecE8xYT6pOM68TKrBlX6dspE2g06Epo301+KNLBUzSxrfsX+n7x6W4uqcwZUd+NfaXbKqTltxccjIe5eWU+s7XDg2N3PWSX6R6tsgBlh4lmznjhz93paZv3/i0zgGLMNggrxF0rBnNhg/5jDezCC7pmB/RvLnHpunMkskpK7jZEsJO5Fji5ILI/O2eOKfx5h8cnvQy+44BSHWVkd4Oj9uwKjtu3cnzcyFH6H7R96jpPMMGE3yTjoM8yeaxsW0mGffmH/rP1wKwMGXGEZjwbieplZ2JXgNNs1AFuPERvXHs4CLwg/7cUyKyKK0smCXaGOxlZFnOEvj8uq/W8k3cr/PGrxPNKjcPTs06PfKDD48eOzu0CiHyU/QjhOISTXbAzG1LRW0eo2031yapTHZfdBXVyM8Fk6m27qT8BubqS4xbr4OFLd3iiyBDonUx8euVv6zG73a7dOgC4eWtSH5cAwtpV1n4Dne2pXfGueztp21GTumtHO2nda8L7bR8E62/aULtKPClr3e3Rfzgq/s2S1dXAV3Cf9VwUEtgRj/fmzB0OnOQcrQtj35rTIttrolDfw/Iq81Y4jvG4ckB4K1iM5Ijsm7uV80NOB8W/+vaMHWPdMIh/nZ8u2wVqbmup/AbPwQiUbMS+vsPGolcUdgUnO0xFq5JekImWo2StrNZIe0MUII1MlvY2BBvo8TAYCJFVxjKdN6vwdxVH24pZFSzQDa6nZfUlu0vmz+EgjsD8WUGMyk5EE26bvc6nVzf8itKtcveD0vFLo3cZztAq97cWxLLjPktmRzPYdYlwq9kg0FG7g35nQH1Su3+Mm+xqOwKavN4GZOv7SI/cLqrsLpjzG7GTabDjUNSfrnXldbCJ3e1luu92IvRHr25lopBFEpd7nOXIvkN2FXwAUWq/vbXLI+2wk6zsTNWD3JztSN86kdK9Fqzfri1w21ALGPtoQJ8ySvq3XnTVo/wWLwplN/H89En6Xs1X3YJBRwf7LSE/ru26oijxQ02YHczTb7meyq23Kp11cI84GIGSmYzeLLIQj5mbbGqX6Qk9jZ6rGSzqeSjnFPMPJLotT1klvU63R01IwS2d9edXjaNgJxNsd7tbG43Iisr82RHZ6nzHKzO362VR8jSrFuUAg1sDcguy1OBfB7c2eJKYseMVoSdDd1uOV9pPjaNdf2tvY8kncYswQdFkPjR6Gb8qJ+lHdkDkdt8SyI6f+TPGrGbvPvGBTnX8mjCT3e3F9I5AVW+TFNVXPrmpyXSRJ3Orc136oyipK9jdYOT2QPYWV4BuW8rZ+3HYFJ2XiX3rPetGKoBost/e2uUQH2QfF+BP2wOyoe3k+5YjoXttqJ23J3TbBsE9kfcfSu5uZ0VuLSUm3lZ96iEQC/ol/n/sGJfyllvRJRi0FOs7L9DcbVNe6ISPoATE48oBu7X1jrqiyPqhdqZ+5gBUZGv+nSLb1n3mgARKWoArrLzOuIyDXyk1UGNcEj2XPEAo2C1DvR2bj4bvH9+lCfl+XO57Zyb37y7TwtKG206VZwEWlGKKcl/V15tPeotSOyW7cyGTSBfCB+TOUmLXI3IwR+jiY7nvb9oku2nuuakWLvAKddHU4/pYZ+rnD3TC3sII5CYOJnrIN3lv3k7gZueJLbfzKmdgNIxf6+2F4CHH8WU6X92xVM7X7GgubmT7qGTxejlwKJXx409e57VerbzO7AhU9DY9Hrn6vM19c4gDCLdKD3Q5VZ66jRDuOJT0J1dXHnU7x5R5m8cpe4srhFfH8nyRH2+/O2vH4cS46Dy35/g9mpfdJfVtuf321C6L2LHVGfWpP3yctZ1K36pjmNKhuu6FpMZZymO/be1C3e7q8nyRJuc/pPxrTl+fEM2l5FzVJ6m/u/7E2H7pYEXkIrcKS4NBPybSllL7Fd14os9p8tHRuMqut3nWtkBXFIV+KIf/gYA8V5bZtbLk2rrPHIDXA+wfMsD+tQNyX7/+U9f4nB6Q5xbuEi3YrVVxHPKAXk87E/0x8L50pipjCSRG/JUOTePHfx+E1wOoX57IQ5j7oHNgwFT8h4ztqP30WvyMPBA/6nYx2qTno04cAF0ZFQ7MjtJ+EK7sdHTb7fmTIuRBxHCF2uezUP2gtj3bHvIbKrySujUZ7Cg13DcfFbLjJ9vG5SvK/UM/C7RfOgcGjPzwYsvvEjQ957c/6OeZRqtNXykjryujA3aUAAAAAAAyYEcJAAAAACADAiUAAAAAgAwIlAAAAAAAMiBQ+qKQX0LkfkraEfk1l3rIL/OT0VFBfrlR+4m5/tl9yZtgRwH5FZBua3u71WseWl7aNhKI/jS2c4C62pGcvN0rNKTdof6rXI7df8KuSOpnC62y209k3Lr6hD0e66zMe2n7kBjQGA/OH/hXlRwUv7mXIFD6ojii8hUN4ued6s25KvdQf5m/9wfJ7bf3+YD6p73d8sLQft7S6+hlAh8og9PV3gnlbX79Jy87ZflSqP9T8lb7AbyiYpAy3/fx68IojPUwkSCjx0C6TwbnD+TN/Prlk/37zf2Tx7AYXqCkDPkXF6WKUbsVWyBEWd3pY/wJImO16jMZkOWjotxqFJ5yFuocrlflMtL1+Hr5487Xq5zm476d+TJymaV9hF6P+OProgz38ulafvCdXy13v9YifY0yOidkqmRvr28ct6Bv1bESorJNWa7soF1ynilTl2uOB6gxUnXovutre5dDVb+kfL0qDvrEH9eWin7682O55FfWQbtzdQfHkzaiiNsXf8dIGZI/Sr1ELpRT5nxHSqfbrgv6pJAytA4NQldrfU3pGCN16XN+oVVzzLdN/n/UZ7rn83w2d3NdZVzd8Zq+MRU9UCRlHhDo9w/Pg3cXy3W2LntdoizfP/5U61Zk5JSyP/1Ne5mBLgqRjprrIv03uhHKr6YvfO0Prz76trp6tYy9z5RjoW5UZbqTKCOmPo5CXI8u19dTt1357hTNS4La4Pt02XVWrYxb5B7KL9K3YAzUOX37A7HNoHwh0Od8HZb+5DGqDHdHqSCzcElGbZcZ2byNuzHbuRBmPuZBvm3qVXWQzUasVzn6uGQpNtmiU1n2WZFKMhqHmaWbMiZrwkzImbYo8uVns+w7eru2ltFZDlZk+oPLi6TH7XbgQMqy9we4suUV91dpYlFfH2XqNrnqpL5aBmtGDDH/0sQeZajeSFvPdt5r5vIoo3cbmbqr1GxEDkrKGZuaQHJ58UoxWiVK7iVz3O4YlvQppdPt1+m3M+ezzFt61fMm2zGw/bqs+DtjtFnLsyZl8LU2072ry/fLvY1Y/InLuM6f0pd0JmTu4YkpyGZ/kycZHm6NXGfrspn+E2U1+VFNg5wq9mevbS0zqaNEvy9631DX9Y/03PnS9O7FyhXWs8f19sQ+UybzU14fRTZ3A58wt5wpw5CdF4SKLo4/0fMY60E9nY/sSprM+3y+6m/jfBHw+irtnqu3MSX36B13DW/8798ftO+cJutw9CGPEWbIgVJ7ZuFwJZXNqK1SGkh6jdDpNiRiDDMfS24aFSn7OlzWd4mk1XFZTepDqSz7pRmN5TX0Nl9ae8bkSibkVFsU6fLL6OfaChWZhhnl5cWcNou44GQl+ePcdaID8v8E7hzJ6eevFxmGuJVWLYM1B+FiiNlJq1c56LQGcbbz3jOXex0qIVW3/iakbiO9UNanuk4XXifpGVqzzPehq1nb0UT2q9qoDvdGRfcHg4ybty+xJ58mItgNkFV/jgY/6sjJKbC/0zOz3j+2lpnSUbFh2U3ILR5Myp/MLo/CzRuV9gQ6UpWZenkiBzh2EZ0vw9A0L4S6KD7IliUpP9TRZprni4Aucg+C0qaEwoPxB810raNYHiPMPj+jJCupbhnxndPNrkxjZJDcytB89CrnYzpbtNm5CLPs95TR2KwESzImZ9vSgBhwSZb9FP1cK4hM9xx28tkM1rwSSq+imymRg13JeefEjiExGQ+Det2FSIBqJ4GiN70X9qmm04XXuZ3g8izzlvYxaredQWYkH4ruJ7PZa3KZ/mNK/GhXH1Pmm1M6qndEztAqj1n9VpXZ2XpMdJu/73lnoUFmJeTnhf7pT99ycrdBaX53OUtnfzBYBml/+8UIPcxdmBHfON1ctvMqKrBqy36ecPhhln3lDNwWIytyh4zGJRmTY8omn16y7Fv6uVaoynT9+dVuE3m/JDJYS5JMmq4+p9BMkRzUSi7Mdq4dVs+Zy7tQq7sMmbTsbZyyh/Eb+pTA63TpdWYnuEuWeUM3XU3bTnzbQtqo/+yFtD+RXZRl2v1b/0vsoaqfjVQfKchcXxaklfjRMh/jaSgzq6Mn6Ue5VbWd8XyyIOXAr7bTI7hb9BIU2CTDFZTMgsWR3F4Kd12jW4L1Msrmhd7oZ76IieWuy+XAOexnAd39QZ/6XGFw8tg/9jlQ0g60JKO2R1+TzXZehQ0yyn7uHvrTTr6aLTp86Mxl2eeVtOxYdMlo7B/IK8iYnGlLE6VZ9lP0c62iIlN5/mNhQKuxLMohm1VRMoM1O+bqcwotlMlBxibIds70l7m8C/W6S5BdGLlF5vqV2tF08tT2kO+TJ6XTJdcJamLKZpnP0z5GBbYT5rS6yxN6H4FSzZ+Y9oR5IZ/Sg4R+MhWZe+R2hM9xuHrM75jqCd3sqPFs5cqNyirxo119TKlvruqoPMyr+/HN+DKdr+5eBLeVvpmm9G723CTtmnrzvpZlFmbYr2TPn1kaUzta2TKy80IveNmqHbQe5gtPg9xlzNmGui5Ki/xBhSJ9zjJIeYwGBzLXW/ODu18DHJX3nGW/n2u/JMrlIAHCQcp2Lu1dPed/9t53lvF9A7p6EBiofchzVEFGe9A/X44/2D9G6NZbKfoe7V7fZx0t4hVotyz7/Vz7JVEqh4OX7TxcDeoVnH2w9aABXR19Dp59fG18Of5g/ziQO0oAAAAAAHvBAdxRAgAAAADYGxAoAQAAAABkQKAEAAAAAJABgRIAAAAAQIbhBUryM89O7+eRny22vctCzkm97RWEyM9B9y6XTsm4jQjyDpfkO0T2sg/Be2aCj9LprM3oa0rGdKBjn5XXF0ZnXwV6Q/S4LC9iT+zXOEJ/RgZ5ddAw4oMDtqN0RL3+/qC8zwaAOpI0Ur8lV9IT3DdvzG3WaX3NQXtJ2+jS74R9gBYHBxUEHxHDCgBAGUMOlHbUDpBaNYdKH76dNeWw5Hs+X1bH1XP8ilk7q0cP7Zu0Q8dVXbXXnVr4Bm6/Ag+v89eoOh+y4brz9c6W+ndkzOnr7U6Yv94cViv2X+iR/S5avefKCmiTI5PqZ3gs7YzC9vpy266LdzPCyaStL7F8km3K6oSux+qB1w1fnm+TZjWhVxFJucb16H74fg3OiaVsJpRl2LdM+3d8+6N2yeRjjse61iwvhVxb212KrwvHra53iXZXJsNm207LOq2TTTKSck7RPAVvDlbk5G7Lscfl2FG6/npZv98paL/F66gvP2sbGRtW5xuf88Or/+fPV0gf7Llp2wqvl084pq3235NfKjj+8L05JjSMkeiFJACO3mIej0VSRwNUH03fmmSRtIlIL6X9vj9SbtrWM3NdUi7B+DNhW/X5sTzk+4kryybnYfO4h6yz/fy+nvAF0fia8lJyEMLj7jvdfu9z47HxfYnP0+307U7KMarP96tMny/S821zcMAMN1CaWyZ6LCvmDyofkFOSu7t006yq/10jOhsploGNRN4mqlfeQT6piGV2eHfUOX8sEV1/rsv59OoJbZqEh38szdLM0q+VF2x9pOeSbd60wb+x9BSRzYlTSYcxvzWmz197QPPTR2n3lpwX9ksG8wmN2bxUO7P0xly//lBSPpgEjDvy8q/AEF6zQ1BlSf4sn7soV5anRI6JfrKR3Ja3mptj7+hU3emsP/PttW9BZgVWGfrVMW7rVv26OKeWz3jf3he9U6jrk7K9TCOyOuH1QPrYLO+rtNuoV01yrejbuOmX5LQaVN6opM0EpMamwvwK0YJ8H7ZLnKNLisp9P36Vbpu+N8pLEOe1yPr/0qeI0OTGLaF3Be2OKZB1Tpcb65LdOZYtPVCycDt5Sbmn+ifH+O8LszoHXfUN0iwreUu1veb8yg1VVto2mm3Y+pzfLv1PldbizZrRVZcQvIPPsrm2Suxf6OiX8sflJaFaHn8c2+AxNTSNkSRflgTAc5IEW79BulVHA1RgUcnckJNF0iZUehiTK+6vHaILXva7PBEn8y7m5rrk+Og0JWGZM1u+vs1KPkTJO6rnMem/yKp53D0czC8mfIHgxpfLy/oGrmfR5lo0Ou/SxIQ+t8l/d/SZJvG2+ki/zJwuZPX5yqRp+x09DkNgyIGSfQOozgekk+xJQkabc4g/snLY2qkP8oUXdM1oiziZlWRyRR4484ZuyYk0kyonyRj/d5UmopWSJPn0dar8UDzINlHl/VtGQSQTs2sbl+NyJkkCQ7PKlH6NX6UVlSBVjgdvrv3uMt3kCXrVaogrS4xn1iSJzJUVUiLHRD8loaxaqenrzs5RPTEl91HyS4URvyTkdDKQCeRW4PgtgYPx2cRL+sK4lYSs1s2xKlmd8HqgZVci75xeNck10LfxSa/fkgxXHR0ASZsJSIxNFTdOkjj0gk7sLONOwVut5W29tPKe+9UiLw4sJ8SJ1oIkQ3LcEnpX0O6YAlnndLlzXUxO7iV6GSB2olf+9hpTVtI2mm3Y25v2b3q8uElvbVJRsaMCn6VyhBmbK7F/oZNfajrudevwpTscoBo6jVGLjoZw39SCrhLA5mSRtgmdq0zKV2N16w6dUH5C3kI+Sd8rPamQm+sy4+PHk8vcmqWbHDiJnar6jrFsGsmXWyXpC4TAD+bl0EToc5msnXT1mRIEGj0SewhoH0PJtZnLSdgfe/+MkkTMPEh2tak+OSfcIzIg1llNcLTpDMxhIuDHRLf5HLWiknbpL3uEB+61XqW6fqnoX46bU4rJlRVQJMd6P8WR65WJv672fAw7ot/4+ALdYBnqldvudkmkbh2MTjOjV14FfWFn8citaGTlYg73RC/yDtgD/eyLxNiUkM883yIvlsW7pY3Mjm5u3BL21WO7m8jq8sDq6q6XYif2uTP70TvWCdvoomsqW75MhjpliEoI3oPPKrL/LDlbbjpuLq3SaYw62PTcB7UjYnfAmsjbhCRj1sHh7vYky5oDf9nxcTt5hTSNjwQKMtnzORI0T43LDhOPrfObDfQw7k3k5XCEvj9uA2AOgLKpTwbnvz+9uuF3DmVXsYWmMRwkex8oKYMvUGReybrtXl5BzbRG2Z71t3a70BpsBjFWHgy1Wqq2a/0ZXedouDxru3aE9Qmlcvyvl/TUOrosubICSuUoBP3U2cjLbhPJlu+7Ob0KUbcO7HanRP2LdlUbo89jZXeyK+hLRINTLNKJFnnzCt+uvJJldJHrPhKOTZXoFs9rvQKujvv686tmV6NdP8cu/UrnV46mb9E4EuMW2pchave3Y34XWNUrf5TTpstNMupO2WQd20lMzTY66Zq5XXP3iZ+se/BZXey/Ts6Wm4/bnR95JMLdejOUjVG7joZM/fyBaDr93E5I3ibMdys36OmW7I5KwLBBqzyvpHxelsbxMX26ywvQcQ6MZIdt+z1rWcGc02Hc/S0q7wuq5OUgu11BIF+UqLhDUNtCSRCkx8nufn2k51dKFvTd2ftASVabj8MkfZmHui5wNLmovz/Lg7VQvOqR1YDcC/Xlxw/XMWxo7gFKjoT1jlOlXdMcbLn7sWWIgZ5w2+78MfVGx8ev0om1huDNkCvLUyDHVD958lpY2vDb/YkHAf3DcSx7MquIqZ/USm1CHZfVxQezUq6gtkVZWY3DUYda+6Kdhm7TE15lm8NVCnWiUd5zbFh3m8oo1M8cSubtTrpXkmMTMUvPjr3X54R9r4x72Pd2/bQyqa78M+OW0Ltku7lNN61Oje/SiY6BUk6X22Xk2908tjm91EGL8jFVXY7sRD6BzGq20U3X1KTA1/vJugefVWD/TeRsOXs8SMh6m3XT3nprHSORlbpFqNvXrqMhJ+nHtdxzOwENNqGDkWVaOT6u5Dl1bpIDVNld0l+X0Tw+6tY/BxVj3/I/pL6te7QZ+M0QHcxI/0Wfysf9/vFdY18NMsvKwdxCN8flk14sFfrvAnw/D9HECpuKOZ4l9CGH3tPYkG69jWZSXHG0d4kWerrlIfc4bxA91g8Bqm1BFuDppp0lMPr0pRMAfAGIDXBAeRO+DBQgvxSTH78kF7QlVH2uPIf09kzhztKXxT7sKA0bjrZv8WrC7SjJry78g2oAAHAQUQ/6wpeBvSLareGP7FyFD3B/RYzmjhIAAAAAwAjwBe4oAQAAAAAMBgRKAAAAAAAZECgBAAAAAGRAoAQAAAAAkGHvAiX5aWHt/TlfKfKzyyh9yh6xX/WCoaDeRWPGUyWNNO84Cf8Oce+uYTuUczq9H+rAIa8JGd77rL5O5FUr/bzpPIFKfZEp8yuYM8QOrU0Oj/JxS/sOud4cD+eQr2hOH2Kg1K9RwdEdSBAQ7xnyVuPy9Co6dYZN5Dr1c5fUFfvFECbmJr4A3ZVgOBcAN323b6gkqPa9UHs83vuOTkejUn+M9LuJJJF0H+9j+gIYUqAkCn+K5qn69tsdn/DOOaQgCZ47Lsd0Qsnk228FtRIx1wS7JCoifui/C6NjF73zx7YpfENsqp44wg6DNx1l62uDgK7ibNMReoCcH+4KZNqe7G+0Q6Tl6K5pcPqrVg6B3KrjoMsJ+2tk5cpMODWpUxIZBm/UTZdbga/74dVHf17Uv1/okTpu68rIPTruvwtlKmMe6oDvv+7no4dWF+RaX17b5DIMHYmOyfmVtqqyGsY4Rq4J7KnaLynHtZM/qq6wH0xtJcnj4s7V7a2VWyFta7l6RHYpH8J00fs127eK/G077HE5VtNdQ1QfE9TRrU8BJX2Qc1w7g+/VtdYu+GPKkbZMXFk2eS5j20x/l7OlkOCch+/NMUMox2r/hEBOuhxfh7RHjamTQ268U3OGJ297Wqa2fbHsfFtdO8y11gf4MjWqng7zSrv9xv3V52bGI5JjUHZGDzQN4+YIzqmNX6iToVwzBLoQ2eoXwpACJYlAP9B90tGyW7nOLRM9lrwx/N3cEyP4IzqBpson8yc925LjckyS6826FXCEKIhLwvdZpQy4HQzO/NaYzk+zFuRd4oGUV7PbvDWqTVzO7e07pm4uh05FBiCo/Exh7iyVU0cU5xQ7YX3dvyWvy08hyrXIbQ12BZJtz/XXvGZf5y7bVXmCNk1bJU9OMi/R66u0e07KYfkG+YLWHx71yQh35PX44kxNfqk1LdvdbaIZSQ4p/5DEjNUEkbI65HZLYsp/P+s3o6fLrbNy5YnRjbhd9Jonr1tyXFadeblLHqlNk+zzj6VZmln61aVFsDKVMZedFHUtf+LkmcvstLQu/LEk6Sme0JjoHre5LTfWMHQkLPOT5M2sjHNrPqiIij2pPtpX/XM7FzfMcXNOSeqeuQ0tH9Fd1uOnx2yi1T/p/MqNulPlc1RWd3POs626rcVkfIhQrPccGG6fMf3lMX1uxkjtYmg5qHGR4wnddUT1cVds9v7OfQoo6cN3OnGsaqfYTphDztmFtxfZYdS6L2MRv727/l2Zfq4/lBf2Grs6tsE2YmjxwQqVhsT7C7oQ+5I4+WuXOcOTtr1yvxPjfUBq9yQ3r6R0v91+4/7+ONWjv0jogZAdtwDxma6+aGda2nKUdrncsl0k8SFeFyJb/ULY24e552xOH8kNs0y7f6ujStl0NCqrXnOsib93ozfUSj4hnxiP6P4tM+gqt5IopnE+9riFy1lRK0gdCZ+doyiBpyIwdvVmXJWLR8p8QddcA66zknpHWgQHLBPiaCq3TlJtz/c3CGTW39PmzB12vpJkVN9mUTmEqlyw7ZZrdYZsUfT/bD0wOe8YeSPrnE5m6ZMOSoLEWbrJ9UkCSyWL1kTF+XJrON0I28W49gq9yT0ad3HwwXh7OEAwb509PD7p2yNZvtXRBoahI65MPZY3b01qe5EM5ib/1L7ixkvblt6psDYc2LYhtj95e34wwXWmVO+DMWU9dgl4+Ty32yC7SK2ECwafvb+/PpX1we1WjF8lPuxJ2nEXSvQztt/Dl+64XG1tPlijc4CJvSu7uHWHTmyLRxMZphO01sjNGZak7XXwOxFeX1KkfHNW9zvbb4/+osCfR+MWIH5ufjreHRPmp3WQWX6rTZIGy85YSTB6MNnbQCnJR3rkViayojWHGxDl7MruNhtRBSlHr7BMVJ2Mhq2xa4VXqyDZTTHf9gwr+LuljUTG7TpN/RVlX2HnI6uW89Mn6XsxLjZGn72/BDbSXIAqgYI4BVkRshOaGhfnzo7OyqKRhnJ7oUHuSg42meKVSe8kI3iCvLtM582uyruuSVizDENHxmjsgmRVZxkeZ7l/O6Z2HNxuxsAQJ2dvybGjP+4DoFLEtu7blan5VJ1syv76oR+9//Tqht9tkF2kAtyCQSY6s5Pab59a+8ALyLMkO1zczp0XxHHV4CjSz7z9lvrgsWN68t7dloSyrNOyIx3IsH8Stjdov9NAXvc72u8g5hRHYf/Nzurpt2z7wa23+2uSgLh5F72K3qk/Q6vsf3HrbeiUDbDOMOwHcv35VbOSyKO2QsOta6ZaTg59LTtX68DUtnlw22b9GV2337FBuJXrXy/pacNkPHbpVzq/crR1u76xv2rl8oRus5OQFdrYMZbiW17rtMgjRjsbF7SpdutVs/uOAwwaZyfE/aPt9zxSJYFYU7kV3La6OLxlOiF1VWmQ+/pbe/tIPiVJQ2XVZf4cAIPXEbPjcPcJbcrOnQSsPMms8kqxWwbzNmSn0N+S9re5dQBlV/Cic6xiSVK2VSU+R7bq7YRRXk/EQPS+w6LL3Cq77do9gD516YPsfps/B0KTfjpsEKL/Jbdq7C2cUh+sA8wb9HRLMtGLXDZolW11kMF+zfaa/I5d+KkvPtLzK/0Fu3nd72i/A5pTNPlxSzH1s9y2szIRTtKPa0Rna88ttcHXyaMKatfwy2KIgZIerNqDmDX8ed8cYqVyO0pa0ZIPc393mRaWNsw1h9SzRwvJHYQAjp7lPrpN8KfaVCkn+0Cj2mplg3KO4AhdfCz3vc11kizQPtch27y2nvFdOtGo1Lacli3Lxv6K/JbZiYoj0o5pc26jYLcnZupnWUWYLeTxq3RizQcb4gxWOIBVtwPEoLfu0WZuQlLO3z8Q21RuxNwk7bpdjQ+Zbd+83GWSCR9UTj34GekU1yOOtRvy8OPe6YiaZLhMHTTyOB+/R/OyOtVfDwjRmyDxJX9s4C63U2z7n9KD/I5GxbaSP/eOzonHOF9Pkw/pXe/1JG92Hzn6cPVVdDdG687K62Ci66lPIS19cO3hchY3inaUfN/qYxB/16CfAWE/brO9uFs4pT7YBJgr5nbT1LlJmmdbTwf7TePdQM32+FDW75yka67dT9jvdPUBFRp0X8m72H4HNadosuMW4B9Cl1ttlWTLpl+1586SBA+Fjy/TeXP7UpWf9MMHDyTFLUIUQR7urTzkCQaDPKP29kwfP5GVZ05uED224yPj9Z5OF+0sdYBXcz/cJVpI/iT/gOpItU99j8WXi/rlmPz4A7IZMeCfwXAZsVtvI4q6p9792Q2wV/Bq7NZksKMkv/iorJAGwPpzXi0lVt2Kg6oj4WpVPrKSbXig9etFPwMD2Ywg8M9gyGBHCQAAAAAgA3aUAAAAAAAyIFACAAAAAMiAQAkAAAAAIAMCJQAAAACADAiUAAAAAAAyIFACAAAAAMiAQAkAAAAAIAMCJQAAAACADAiUAAAAAAAyIFACAAAAAMiAQAkAAAAAIAMCJQAAAACADAiUAAAAAAAyIFACAAAAAMiAQAkAAAAAIAMCJQAAAACADAiUAAAAAAAyIFACAAAAAMiAQAkAAAAAIAMCJQAAAACADAiUAAAAAAAyIFACAAAAAMiAQAkAAAAAIAMCJQAAAACADAiUAAAAAAAyIFACAAAAAMiAQAkAAAAAIAMCJQAAAACADAiUAAAAAAAyIFACAAAAAMiAQAkAAAAAIMPoB0p/vaQfLr+kT+afRB/p0aFD9Gjd/JP59OoiffPwo/kXqFGTYTvrD2MZK9Z/oW8O/ULVw/uFjPsPr/4x/0oR6so/9Pvli/T7X+qLFsJz6/q2Vyi9zo2bjAV0fjgMUM/VGLL+ZMdxUHzt+hD0P+m7Guh6/t4hvifUQ/FLh2KfJ/0etm4Vk/OxiXan6FOHZRyVrQ3BDkY/UPpunE68XqZVK/y/dmiT/7e544W+u71M98+dNP8CQ2PqJ/r38080Zf45+pykHz9/ph/7avAgyuiNw5d+p39fXqbD6l9Vp3mwaA9qR4iB6fk/tLpC9GznczCOo8jwdetAjf/IMEZjF+7RqhuYXdp9TbSyvWv+zXLd2aCZmTP7pFuli88jdPHlZ/rt0hHz72HwkVbnHtA79tX//jz4WOAA3Ho7Safnlmn3b/2vT2vLdGLpBWvLexNFawGdVl5Nr/5VVHkoPYAu6oxWeXrAHz3Uqz+9umgvy60W3TUVxQl2ctSq5aGsVE1kraLnX3Qdth1yzJQXrhLiFU/g1MIy5BNG0lK3Of7Dc29YQiiD0Hn547/QqjkWEe5MNdUd0rVPqg4ul1cgqVW9l/lFer5tDjJhn6rjWh27uO42Y/ff56/L6ErQ9+okEZUl56XarGQscpXyT9E83aOzUVk7fK6pNyP/UEfdOU1jYnRUPo/WpS2Va1X7eFyCMqJ+BO2wfZQ2TFxZppUrR/n8YJzN9X6cdd9DO6zbWEBVV6Iyq+1K62okH/tdqOdRHfwJ5JW81iF9OUrXeZF3fVyPWShfO4bJ8anIQeuU17GqLlWRelyZ0fhyOeteRrqctG7l25UZ+9AGgjoFKas2/jmbiUifE/avTRaeprYzO14u0fHg/GZbMV8wedmZYwm/luYInZ6Z9ZsC6+9pk+e++3Pvnb1IIH5+Wgcg6XpjarLrwWY0sX5H369ZucRjZstukp1F9SXZh5ROxDqcKq9fDsQzSlPnHtD8Wy20XZ4cx6Zll4mjazkgO0wXOPLmP9cfPqExWb1JVLkzS2/uxgYrTP1svufPu+NX6bkT6jIL+o46LrsH7WV9pOcrs/SHKatkx2F+a0yd7yLruQ1dh6w2RWGnSUfE/JG23S5xAraMzx/YgJ4YxWElvnuVTqzpsm6yArE9adgAnh77U/fr8590fuWGvoaPn916ofuzM0abc/r0RpJ1B/Tap9f3iG7JNZVVPZd3+8qkKe8O179svmga1zqhPtFf7+kNzdLp7/Q/m8hdl9YVHoNF3/fqaios69MO0Qzrn941Fb2utkd2tVjGpFdMXn+4/4+l/Lz8vbz4IyutljGxOvrvGrdv+ijtqnGols8O6e0ZXaact1i3sxDZGftjaZZmlkTvZExFP3fppmnDv2tEZ51TDO2wwMZCXfnuMv1my9x5QZthu5K6yuU7+Rj5plajro4/6RlZ3Wq7VlbRfP6FWbWjZMcs8gFscxOuf3zu1qnAyXs5/LFEPBkZHeN+0ZVnjRNtk4+7zjq5IN+5chK61diu9Nh/evWEJ0hTb2X3LDn+l0/589cm6XrCV68/PMWBgfVVv9NFsYmc/yoir7fz7CCVXMLjXWwluOb2th43dQ0Z2a0/ozcztt3lu5WHp2fdpoDsHp0YP0NjFzboP9ZXvJ6k70UuuXpDQh/PHzXWnW3GEuu338VhHdvWMlZ6+9zadUxSdgYVWEtfaraY05tYh4ex+38wHub+doxmtnZYILJ7JIohu0x6S1J2mEhtPf5D/9ky0a1Em+NXacUGUyGi/CYiPRsFAzzg1+zAlJQlwdlVmqisnpq4f6uy/T53Rxu/8DeXvnTdGdDUtXDXrAFXRrjzJm19QddMYVLWjP5TGZte2Unf9IpArpHjrn1sPDeLAqVU3QG99umCb3tEVN5JusbO15Ed1wRTZ9jw9arM608ByetyunKEvj8uK5zM6tGVpVeFN29NavnxqnH++HhZezrKX9EyJk4HxObcOMgtAPm/JbAV6UfKzhrh8zn4kNWfktk0ByLKvoXQDgtsrKIrbsUs42COKdpk1YSro7LC74HQB0Q2JxPPLZ40bCAeyOHw+KRvvzyKoI420GAL3sbP0Hk34caUtisce2nj/HTpaj72TzR1nQPQ4PEKhdjVA7ppFwWGnP8qI6+3rr/h8VJbqVyzMnfKtE/LX+kL2xNxu8t3wAzq0RMpW/uJsW9FB4nerHE54ivmzuj25eoNiMfVM1ibCfSWgzw9b9dJyk7gPqggPbVg4bPa9WY4HIxASYxaBLK+Q5tGMeyKXHaY9NYjC/G1jihVtKk+1chdVrLLdF5FyRx1ZyfUkrL0fdd/HxPdZiUrcxB5RIkHhnmOK4V6nstG5OYjEbgcHzQD7ROTL690XC1i+BJox1vX7aSuy+uKXtmfoVXWj7qDlOBDJiq+/jjrNDvSTdbn9bf3Bva8XUpegx6TnlC7wH5lqz7JZ3g62pismOmDLo9Xx3ZxkEfGwAZssntRCSob6edazTBsrrst1OmpXeq5rs90+i3Lo23x2OCfPGJX5s+AnP8aBr3Yilyjd858+8KdmwW6wfpSeutNsD6H5cFBiOw0212mda7L+opsvQHJce1sM0Nm7kP+jkCR3gyHgxEoscP8/vgyvVnkgT4mN9kYtcv0hJ6qHSY5oBXqaXHELisW82eNDmWJAaw9MNG7bqeNvNefVyL0BpTyB1vqcq3d6Rg75lexssU9r/5qwAaWJtIO26ECzMpWpxDfVnrJctV/9sNA+8SE29D61kfKoTeNq0fL4UbxbTdL/bo2XTlJP8ptjuABTI1ZGd59Qpui07Jy3HpPq7yK1s/b9U9V/kLTmJSz7LfUZVVrbn37nV+mSYeUfjbfHo2IbKwQWWGbP7PI7dPjZpJITCyN9HOtIbZFDnAWBxcka+q24G8RcfvtbZsKze3KjL1h6me5PSmTegPV8V9/Rtdrdpi2q7htXWlue5VebCVlcyFyG/LdXHonL4fylYvsI+1Os/mB01NW8LFv1Smt9QqtsiuxmT1g6ucPRNOJ59aK9GY4HJBASQ/yCq8w3OrfBAMrduuREQGfcNuy/Kk9DKYnJ32b5Kia7HK0lhVsb38zTW6LWLZnN6f18af0oDxC58lgYWnD3Y6Qe8kLpszDl+64tkxsT9J9dbQJ2S6fdLeDVo8FKwVe+UnEPmHqcasb2cbcMlu3d1nOAwiUBtsnhsu76dr+nsbcrbfycXWoLV8OtLoGCYnr0roSPHQ4zit8dzvJo5wbl3ViXGTCE8Pxe+wMvT7H6IlDZFm8fV+Rv2pXw5iUM8vj9USXOb1Bzx6b3aBwfMZ36USgQ9qRi4xE31g/H3s7kU+yTxkbyyJjY28/LPIK2xzOIhNOcLsi/1Bxgn6utUS2eJSuc+DV/+5Isy3cP75rxkeeYbS75BXdamxXeuz9Q8Jc50x9d61x/EMdCojtysg357+KyOhtjl5spWpzpt3hg9ZnydzSUvrdrjfWT/hgVcaL5z7ujwsSMvVGVGSnx7qjzUQEulaba/uBF5fJ59bK9GYY/Bevhv7b/A3AV4QEMvKArHlIFBTyD/1++QbR4y9Abuu/0DfycK95HkIms9v0a9nuUD/X7hMSzKye6+dW1UEe+y9Ib8Gec2B2lAAYKOpBSPuwIvgqCXdR+TNxZbJ918rSz7UAgAMFdpQAAAAAADJgRwkAAAAAIAMCJQAAAACADAiUAAAAAAAyIFACAAAAAMiwd4GS/Jx2oO9aAPuL/NxWv8NEJdvs+g6Z/WAIOqjej9Ihjc0wkJ99yztRpC3F71gKkfe57HMfeuIg+hT3bqgRtZmsLoi9d3iH10Gms16JbDqOZ1SHf+da89vn9RjYX1q6j5TTlw330P4WxCf1m61ilBhioCSD3+VlYF8ePU9cB4BPr27oF8uxwbsXqH2FyJt20+k3NH3rQKvTlrcvz6oXsUqKAv3yyoPO4B33qKByBKpUE6PyPp9SWet0MqP8nqgDi3pViX7Le/M7rvQYyHk+yTD/O5kXDQySIQVKEiSdonnJ1swRr58odnxEHDp/t8qSTxBcySRhjrsycucGqFW+PScRtYerORX5PvT1PFoPovagjWrXZN3X7dpTmchsJC1tmLiybBI4mnYm264d1SMuX9fPh1L9tkRlhFF70O6kXMLvg+sqK5FwYg9lU22HnZQlN9mMSSuTlRGTHBNV9y/0SLVLtzk8z7UxkEe4e1MfO/NFVkYpYrmEY1lvS0LG0fgHOsbt3KrpQK4uOe51wOmnlD19TyWKjI6Z65V8/3pPuzO/0kV6SU8p8WbnWvu87odjLayyPFXZ0co0ozcVZCyidoVjFu6eqPbwmNvvAnlrpD6d7NS98TdXVoAaK1NWUtcq1Nqb05mwvUYuJeWnzpFjTh8iGTMJufgyvD2H7W63Ba1XXl7VxWtC1oaULqg6gnJr+qoI/WzwXTCGoc55Sv2zPl4lPSaV/oe+LjGuMcFcFX4f6UkoS2bNtjOos0135Xtn45XyeiBtw2nZ1ujS/oT8vG7+Qqv6LHOeHY+M/+mpjpweDYchBUon6cfPH+g+6WShbhUyx6upxxIR83dzT4xAWJnv7tJNiYzls0Z0VgmWjy+SSzaqy8idG8CKfPvKpE9SqqJtMZhTrAj2uvj16PNbYzpB59oDmp8+Sru35LywjQI7E27Pgpwnubta8urIToOP+iVVQFPblzmovKOO/ziV6nfAdzq5oiqD27Fpc/esP6M3MzYpYjWBryiYpBYw38t102VGaWVTbYckfJVJWf7vv8vISMZkW/dPPu/olHd4r9lJKHlLmz/Sc8kcbc5Tk744pmkvD3kF/+3AQKKxs7LIySiJX6X9+/lPerZlxzzRlhYZS846p2MvL9Pxmg7k6hK8DvyxRDon1dRPql+SKFLvQCR0g/v6o/n/b6mVpUpR8N6Mww7RBZN5nPEJpZnXV2n3nGlXkE+pSG/YoUl6Bysr1S5pu/m3sjebY0uY26AxlbS1amOCyIjbcGGWnsk50qemshgVgIh+yblNumZJtbdJZ2x7ZeewsHyVAV2dI+Osz4l8QmoXMpLLKd0nqSPIeaYTLZu62RbCfHl1WzD5BM14652LMEVOQtZCRhdiEvrKiA1smp0O3VcO4lN6G9HBP6dsOSPvVsJxNYccbq4KZdDsw69vn1HHQ3m06W5s43Wf0omsDUsGAtOGnVl6U0sNIvTQ/lB+oU3tjNGmTV9U4n861PH0mPW/f9L5lRsV3zE89vZhbvcmZJ2rRiePlSzRNgs3fyS6Vok1JcGsHA8dc+7cgL93iWqZvCVJ4wu6Zg/KW3VZMWzS2Pu3jKFIUs8L9jzJDi7/97jzJM+cyvyuDhfS1HZ2VC4XWKrfMS6qHg+S7nLbJZdSOsqW2zMP/JuDeVK4yc53NVdBgOtzIUkZSbLFIC/WWTYil+DUyVuQJJVXaSJcDVXGU3Lp+cS4QX0qB5tPxpmUUQ42QN02WV2bY6m2NMqYJ8LxSQ6086teRbIuweuA5HZyyWUj2nWjjs7jJWOtbvvcukMnVILej7TqEkozbhxkcrUJi8v0RjKX1/VEJj8zBqLrIUk/0ERTWRxQyCRpJ/kmXTOk29ugM+Eb3DuXz8HILZ7gbcLpJlw94nu8PkhSVIcsHIK6Q1K2oPKEGXuR3d+ipLtJXahSoq+WNr0t9M8VG7f0L+8E7rtQBmU+PJZHg+4OmqwNmx1DaYPodkKGPbU/kF80BspPqMNMif8pr0Pvzsu5eie03XcMhr0NlFJwlLnJA6xXA+ZjIny9ejpDqywYNTk1nGsRYdaQ68yf+0ZB2y21fodI5E4mazmvfF0SQ7MiXqAbrERVhyQGbv7cB2RM3P1086mvKgWz4/KY6Db3XQKO5Hi2kZNRko/0yO1YyeraHE60pVnGjFkZnX7LhhxtfVtydZXTqBsZVPZxdpq725N0eoon4S1e4dV2F1KU6Y3chq2in2EzYy4r5j5oLItX4uHOSomupdpbqjM9lz8QeEK5u0znze7Au0qglMQkD1/9SyamBzz+5viQkMWCnczCtC6Netunfx6evCt08OGWQdpBb4gN6zs7rs0ddq5K2980Bm3+p0sd9+2uo/k0P9M1OPY/UFKGnNveFU7Sj+y4SKLQ1nPNCqp6W6x63fozus4RtMu8XIjb9v3rPb15baJh2YWy0Tev9p7mnFdB22OCfueQ1a350yLb++/mqrtdOqq32/e6ncZpShZ0t8L4SM+v9Od0UjJKjkkTEpCwwYhxVa9df361W8b/hIzyJAKDoC2WtIw9Uz/L1reVaY6yICRNgW4EKBmu3KCnW7JLJqv7DVp9yyvA1t2FBr0JmDqXuSVi6CnYzZAqS7LM07R+tqFE19ra26Qz3cvn4GaxcCenE7JTYP5sxNx+u/ukIDDun3XWK3UbT01k1Qk5o7d9+ue8vEXX/a6D+I5iX2BvF3F5qyvmRxKdfXjMIO2gnIoN90FT+9UY2F28yjzYxf+01tFkt0NkiIGSHqD4Ye4UvHJ/LM8+mK03d37wANo4r6LUtmDu3ACe2BaWNvz2qLqHXLlumo35cfNKIMX947s0IdePX6UTa8YJcH03eUWrj+/SiaqCqNWV7D4UtF2R6neAuudrtv4XeXVrDocPM6Z+hSaTyQm7bRm2n8fpmpPXE3YQ3OY+yMkoGpPcA4XBbYVvpkmvRivXyn3wheRuVEBGRmm8nkr/N+0uT6ItbTL2DxrKcz36dmGsA5m6mnB9EZm16EYO5eCXaeX4uNL5qXOTPGnK6k5/3URebwKmflK7Omrc+SN67ft9iCZ4dmoegyp6crcPGLeXxROwPNsgz16U6FqivcU607n8o3T9eOIh+54I5CI6xsFECUp+r3k1ngzWYln3y9gx2z7zUWW26W2f/rlB3nKr3pb7lB4U6+HM0pja/YrLK/Xhnq52oHzIAMYhJLJh+XQov7j9YZLou0Tnww2DFv9TXkdst8ld/SGBpLiFiAKvntu7rb6DCGQEwAgiQT8v4m72+7BwK/KsyQ2ix/bVBxIgvafTQ68XgOGy/7feAAAADA397qbqD1yGwRG6eGsy2FE6RZt7Ui8AwwU7SgAAAAAAGbCjBAAAAACQAYESAAAAAEAGBEoAAAAAABmGFiipn1InX7oHUsgvxopeu/+1ot5ovXc/B+0d/ZbZ5p8NyznmZ+Xyi6RiOwmuK0b/NFvpVqe6RoPR8CO9yL2APRyPg+NfSuynR9iHqHJF7vIT+Zr8A1sxKP1TP6cfkg4MEvGRmZ/+79n4BzINbfegz29DC5Tasqp/DYiiDMXgR5yh9HtK3no9oj8zjhzUEfVG7/Sbx/eDk/Rj8g22MinkAs+m74ZNXDf8SI80TJojx57YD+uVeh8a6beby7uc1Mt2faoU+4bw8OWy6m3QPb4s9Gv1/5YvyXaHd+stUH4VTe5DBmip15bnVhLBeV6RdR21DP4lmYvD8+Rj2i1lx5nj6/jygmzL0kZbFn+0rKqrmfRElpafnGvLC8pItNtf78teZ5n8vu7b5PqdkWWy31GfwrK9XqhypU3VeixRfUGfEuPe2Gdz3JYfyszpZbK9sY64cqXM6Xuks3/ba3xZoc607Ywoedg2NK1gXZbv4Hw1nnbMw7JS5Yh8TtE8pV4Im/4urVsxyXMCmYf9D8dePrqtcd3uOlNW+homo4sa6b8vq+iaBj1sH6O4vlBWSV2zSJ0J/YjrE/lYfQx0vHpdpJNB+3a8Xof1l4yttEOfwz7DtanS/4pM/TWhHCvtjtrqz4/7bI8Hdcl1Cb+bRaUfGaOxMKuCegGsf3O3vEbhxFKYSzKR9iWRYT/spx0LkWnW/6u22/ZK/3xZOT2s2U4kn0r5hnDM3PziqOpuWE6TzL2c43YkqJyv0fZhr0vryOixZ88o7XkGaC6vliG8EZ8N262+SzMX2/OCbOgSTceZ4yuE7QuzLX+XymJu0hBks4Az7KRuX5n0OX1UklBRynxW7rjd6WzlKqv0ItGCaU9b+oZ6v7kN2YzbXi9+k5VeY4ZxTzVLf3XFks6Wze2olf+Rnjuds+Pe1N5ExnTZ6ZL8RCr7t74mzMHVlO29SpwGgB16Mo2Dz/KdtaVWZJeJx5x0DqhY1onvSmwzpX8ycbrcdrr/twNnWPcJcd22jyGtfqTC+kN5S7qxW7Gn6fSk4knpiad9jPSOiKpPyUr7g7SuGVi+3yxyvzqsvhttINJJ+/JHlt2KseNQdjJuxu7l844SY5vzVU1k/GWt3Y3208V/WTlnEL8q9Sn/6v1xOJ6SzX5sOkjpZIMr9a2QzrCfsvFG/6/eAt+SUb/FdlppHbPcnNIi876Qso/S7i2j/xkdGUX2LFDa6wzQcXkl+OzJjtLMxe68eIUSUl1NRu1j4/XZlll/bJQtmZ7NMfWa96Ys4H+zRGsvdxM557Ny+3azM8hlK2d8O8/Q+Qv5HGdpJKdZsEMgq8cg03g45qWZ8Zuz9OeyZafKFyd4lSaiFXlTe7tkTDeIwzNlVbO91wgcqHpJYDKnXaCnGVsaNEW2mdK/yjFJJ+FX6+0+IUW3a0QXHrjErNrOdCbzPC16WDJGEvioMRc/YY4ldY15zcdkQuwQJAnNNpAmKTvJaxfs5oiOhreehCZflSPnL7u1W9pY4r/yfrcVl6vTZrPXaYZctvtofDP238XGFZU6Uhn1W2ynjZIxS88pLTLvg/lpvWixi4ScjowiexYotTHoDNDDKK+fzMXqfm1wXbZ9shJIZTE3+XJyWcBF6WqYe+77ilqVlWXcLs6Mr55XymXpZ0PPZMuul29W/4+JbvMx5bw7tLcd2Z1a7pDt3TpQScRpVpYjQIktpfQvqZN7iuiC+bMDzXrYNkYf1bMwWv/+pGcun19C1wTWtXdLG92TljbaQDkyRnrXQ+uofKq7aL340qy/7NLuvfBf1q+uc11ml97uMrndnUa62rimNaN+n7ZTNGapOWWIMr+/Jjnn/B2JrI6MICMTKMWZgVn5+swAHZdn6CNTfrK8Pgi3fGVFEmZbdshqz/wpclBbpZks4DqxYOW2mDKE3rNyW/w2fXB/v1SW1Ta0crI4M346S7+eyPITT6J82Y5fe6BX0p3bW0pZtnetZzcyt92E5Xi73N4acCtjJqdPPZK3TU9K/6rHxHbTu2R9ktXFii4ouZgJoVV/83rYPkYWLr8aqIW6Zhi79CudXzma3GWxE6ogt63m1V+etA2Uk/QbFfK+Ku+bY52pU9TuAfmvZnQf3izy+B8zN9mULT3hftpnmUops3FB7+bkM+o32U6bTgj5MQtJzClNMu/bx7BNyaMMJkBu05FRYmQCJVlp+MzAYcZm/qqXDNBReXZl2Eem/Ep5tQf0EmhlTzzMJ+SyLautfXO8ksVclZfLAs4OOMpqrp6r4VVsP1m5DfeP7+p+R9nj87KM+11pA3/Su0XBA4QtmfH9A4A+S39IOlt2onw2dvfQtvpFjKweS9sb4MYsfDhSCDKzS1vZ4bSibouw084GFA/Ykd0wbQ7GU7bXrX6O79KJViemgwgZv9yuifuuwTYdKf2rHJNnJhYquxV1mtqVI6+LkS4U6W+BHjaOkW+/lLtpd5SSumaxOlf3E4cv3XHtn9iepPvmeJsN5HWyQnXcUuc3ZIbP+uaMv0y2u8F+evFfUke57nD1PGGvcEDrdo9UsLBMK4kFaZ28jTf6f1tHJqN+k+3kdCKiYcxC6nNKg8w7+5gERi/U81Y9zKn7BXK9HSTE2e5JFnCPOJ3Vc6O7JfrlIRO1PIzuH8IFo8bXPUaj7RPkgeEbRI9hP0Xsw5xyEBmdHSXQinrwD9m4v2zUcwrpHyiAEQFjNLqsP6M3M79ibArBnFIGdpQAAAAAADJgRwkAAAAAIAMCJQAAAACADAiUAAAAAAAyIFACAAAAAMjw1QRK8pPWLq/7Hw7y01X7zgj+uBxi8nNjeYeIfN/y3hMAAAAA7BkHI1CS3EkuqDhIVAOfI5WEmSYBpUqbIW8/lTf5dn0bLAAAAACGxfACJRXc/OLfcsuBjk8MG76BM3gTbuqtsFLO9D2i6M2t8c5MbqfIvwX2F1o1xxQuaSV/kvmGdIDz6KFtb9wuX65/A6wcs39LP3949f+4DJ3oT721tSHQ+7S2S+cfXyZSmbXx4i8AAABgVBjujtLcBo2pZIEf1CvqJ7bvqN2Ud0H+pfWH8oZbs8uyM0tv7lYCl6mf6N+1B1yWJIrVb1tdfyivvzeJHHfSr/5XyWW3THLTnTHatK9blzeRuqSV3Bb7OvUayzRPur1/LBFdf24CHS736TGbRPJPOr9yQwVROlXCM1rn8m9fmaSbl/4nXXwpSTFn6Zn072efCkEHWj4VxOFLP6l+SeJcvAEbAAAAGB2GHCjZt9eO0ZgEDCZvkiT100gSQbPjIjs041dpxSWqzCHXPPC5kiT/DAdeq5VISbIv378V5KixgdLfXHrwJlLJVUQr7xO7Sr69kg/HJgOUcldcHjG9Y6STQprcUVE+qTwqa3IQPAEAAABg9NjnZ5TkmZwHbndHf9qCDLnG/NnA7vay+StGAp1+kHJVkBO0uboLFGYGTzF27AGNfWv+AQAAAICRZZ8DJZ1p296GK6NyzV8v6encA5912SAZoeffmttl6hz9p87o/Mzdqlt/frUhU3sdVe5i4rkmueW2Mkt/7LyIyk9hb7UBAAAAYLTZ50DJPttjb2XxJ/XQ89QZ9YyTfag6uiZ3q2vquvpVmTrnLtF5e+vtu8u0ILfITH3yHNOCvY1XwtRP6rmmCXO9fjD9H/r9LrdDbvXZ8lU/jtDpGao9zD0aryoAAAAAQBtIigsAAAAAkGHfd5QAAAAAAEYVBEoAAAAAABkQKAEAAAAAZECgBAAAAACQAYESAAAAAEAGBEoAAAAAABkQKAEAAAAAZECgBAAAAACQAYESAAAAAEAGBEoAAAAAABkQKAEAAAAAZECgBAAAAACQAYESAAAAAEAGBEoAAAAAABkQKAEAAAAAZECgBAAAAACQAYESAAAAAEAGBEoAAAAAABkQKAEAAAAAZECgBAAAAACQAYESAAAAAEAGBEoAAAAAABkQKAEAAAAAZDgwgdKnVxfpm0OH3OfRuvkC7AEf6dGIyX39YaItf72kHy6/pE/mn2CEkLFROnSRfv/LHPtKEV/2w6t/zL8GzT/0++W0jNP15s8fCdZ/oW8efjT/KKG0P2U+Leln9hTpzyE/biNnR930Z//l2RsHIlASA59YmaU/Pn+mf+Wz84I2p0fYuDsx4o5KWH9P83MflOx/nDLHSujs5L4ehjtZDo5BtfPT2jLR0p+sQ7/Txe/MQQD2i159mmHv7PcIXXz5mX67dET9C3a0PxyAQOkjPb9C9OzxZTpsjtB3l2lhiejNmihqJdAIdxXURP2LXjkkdhokurU7VFbpxQDsMT/J6zoePbTfSX1+RRJF+3yNL/cXssFzHEnLtfKdlHuUrr9epuvjvr5kG1S/uC+8urDlhufVonTpuy0jWH2odrBM5Lhtd0oODiln+h7R3Cn+nut1Kxr98fVKX+xxPi+6rh4IhnX6sUnJWX2hCOW6ao6lWLXnBWOerK8SyHnn58c2uXILdUyw5WRkHpXH121xPRNXlmnlylE+5nVEE8qRP8nx1+V8cvVV2hi2w7VTy9adF/ZBtd/YiXwCPay2s1HnmJTuRuWEchMSdfsyQtlkxqT4+liuru1Vu1LlpXQiIJRv0JbQtqI6GN+mi/R82xysEtmWbXtTv307Vd1BfZaieoW1dLtDu6nJIWcHjK+XP7adVVk3XB+z48cu/D4prwD5ns8P/YY6R+oJfVqTbSSQvtXtt8VnMPEYyfn22lA36/2w10X1Ru2L269k7+QU1tPexmZ9q/uIkLh/FZnW0H1W50d6wZ+ob4n2ROMTlCNkdag/Rj9Q+muHNmmSvq9Ez4fHJ2lle9f8q4G5DRrb+Uz/vgwCLYEFenbrhdulUhE7H/M7V3/Ss61TwcAv0zzdUef+wUHa9fEnutydF0RXnnnlZuNbPafLfDd3j55WnUuErBa4nguz9EzK+vmkUoLb27oeVQYFbXjNxn1Ljv9EU6xAz4NdttqqaOonV8a/a5N0/blXnvmtMXWd7fPTY7JCkXP/pPMrN2LllnLWHnC/ZPXF9XKQ+pstV3b2Fo3Crj+jNzO2HD4vuq6++pn62ZTBn3fHr9LznJxtu8Px2hmjzTl9uMbrq7Sr5M9yJV9usr6pM3R/7r1zVqsrROenj7DBm7FVdc3Sm7sVp/ndGTrP7Vw1clp/e4/un+Oxy8j806snPBGZ46yHxy/9zn2bpRm1MpSxDNErSF2O6OATPx5u/HXfJhb1OEZyEicyTfTOtEP6ertRBw3WTj5/YJnoOg/X2tmicxn7icqp2qEQ1X2KJoz+h/bTOCZF1x/1+ql2pIMJKbSrjE5EFNiW6P68tQ2x6SuTZkzucHuX1bkx7PDvXqUTVk+UvGUSOOV1R+qq6mITRfUKvFDbPmPqCNrd5htydlDqw3LXV5F2P5ZrvG5qee3STVPHv2tEZ1MTZMofV32aObWUul30OU5V32kOV8nb0RE6PWM3Doh2OSCe2TI6LPPn3BlVZqtfa+tHwkeETJ1j3Xlr/dB7ekOzdDq56yX1HKVd1gPnQyq+zfrtZJsjvdnl/2Zp09T7aWcjrUN98uU/zD13J7lFqQR6K3ba8TGesG4FA8+D8eyaHgAJ0ly5343TCXXUcOEFXTODL4pTFMyF/L1LK2qlo6PosxwQbO6YiS4om2iM/+PJMrvyEWU0kbisngLCfkuf9cpIztW7W7t/my8zuBXa+FXieUTz7RgHjEfrq84cMqEHffQEcp5mp7C1o/oXjQ0HazdzgZKTkTgPNiAru2R9J+k0O89VMUpn2P/Qf7bMDp/t42sxxpDQMX2k1bkHdFrVmZa56Mv8dLjaaoEnKFWGGg9zTAj69v1xP45KHy2sP7R03TnbqWscyK+8b3fazk5EJjkdaNa5ZvtpwNXN5cuiwYz/2LFZ9X+Ra+OYFF3/gG6a2xdaf8y4C5FdpXRCf+MpsC0JuGwbozE5Sdd4sqsj54btECrHpq7zJOIDi1aK6hW8zMJ2t/uGjB0U+7CcHVVI6ia3kSfXs6YONQ7GV0QE9fXkj4voc5y6+s4E4iu1nbMct2bpJsv1P1y/ulV3jMtvsyFFSz/afESwyFD1zpxx80zI/LRetEQLraTfzrU50Jv197Q5c4cDJxl7vbAZ+1bKGSyjHyipQGRDDXqIGPGMUoDe2N2ur65Sx/Ya1S+1UjFRNH/s/ekYs/PwmOg2K1F1Ev706oZfpcjqKYP0+b5bxepP4z172dkhfW9fVuasrxqz07RAN1ip69vHMTzR3F2m82al8C4X9AT0Nzb5+uwqyBu2OOAHbkdGf+qrPOeY1LMOesWWlbnZgTj9lo09G9haPtIjtyPEq6sL5nAhoj/Do1nnhmc/ZWOSR643fxZQ14mYUtuyFI2J2jmvkDrWgX51ocQ3JO2g2Ielry9CZMOTq93dVJ/UbuVe0Oc4dfOdGWSelCCC2yI6OzUugQQHTW5HtMCG+u2HW2RkdmIN99c+0InwLkyWfJvtHaVP3N3z0yfpewnoWIfyu1j9cQB2lHT0Gm5v6y1lOxCyuvbR7frzYJejAeUM7RazIT7Gk+tiZiu4idfBtuHbey6Yk9WtXVXJrZh59Vcd5TiKlMggRsbO2q3YEjQ5zJQcipGVo/nTItvD7+bqgW0eWTWYPxuwk5eCx/9pQXCVplKfWgU9odvOsLWxN98yZcz27+2MjqRkPvWzbCuz8Zt/t9Ntgheq+iP2oCf73uwkSUbnBmI/SQrHJEvleqU/md0LoaYTeUqCERcMqH/JM5eJgFLpU3gLmqkeW39G1+1E8O2Y223N2UNRvYpls6vDSMByQXYOq+OZIWEHnXxYix1lSckrRcYfx/RpG03jFNA2B3T3nSFGx3lBSOOss7JLtf2ePYhtR4ENFfajCa0zvJBovO4k/Si3SlsXjQ1tDmxUHssZO8be8i171swuVr8ciFtv8nzJO/Jbud+My+6Af+5Fbi9sTuvvntIDv8vRBK/y5fmNCVOm2vaMjh2l68c/NO+upLjAK8xFXaY8U7NgVlKHL93hKFpvY09sT9J9dVTQ24juYW6ehBaWNvyWcu6hu+BW0jfT5G8rGLSzMvWxMmVlUpFD64pGKagZi0VeOZrD4cObZ8ls0bpzq30I+sxyFqNqRbaBt0y9d3kC6xQoNdUnxrjMjtEb9tTPsuKxtxz4k3w4UJe5wiseO+HmZO4fJpUtZ30rxJ9blbd2Dnr8n/Cq2RwupaI/oQ72YidRO1t0biD2k6FsTPJE14/Ls0BNO1J1nQgpti0Lj8lNJ5f3NJa8BXaELj7246P1onJsesP/qCUsc3yXTqTsoahe4QFPkLKbUamjyDfU7aDYhykS1xdRlVfiYXMh44+rdLWN2H4bxikgNwckfWcPSJCywgsrdetJgp6te7QZBA7tNlTWj0bE579O78RGGN1qe34y32Zrozqol/HY5CCzbWHTK//17+fP/23+Bv0iEwlP4gv7tQUMABgIEtzKg8y5W0ZgcKhfc8nD3/JjlkECf7wPyK/U5AHsL+v1BV/+w9wAANAJ/WBxbccMDAH9PIt7mBwcbNSzZr3vio0q2FECAAAAAMiAHSUAAAAAgAwIlAAAAAAAMiBQAgAAAADIgEAJAAAAACDD3gVKkpah47tPPJIyoOldHKArcQLDEaNVV3SixD1vf186/LXx9dhs1pbk5+mJl+r58wM9zpzbikp3k3q/0eCRn/H3k2ZjL4nGxL3/axj6OCJ6ntUfaV/mHVNVetXBr4AhBkriBPbGgEefgzhpjPL4naQfP7ekWqnSS5DzhQZGIzvhfXWBaA96XGVK0uPYl2c2+ZkD7I/71AuVikalVPmS3u1TOqccUWmH8D6w/hhSoCRGeYrmSb9h2DvlHRXd1t4K6iJ++bQYc3RusGpQxvSLWqFVyw/ffOq+q0TP4eQhqxF3bhhhSx1hOea7qPyaQYtC64SS7u3bQlhWJooPy3WrTr7ety+UlV6d6uPegLJ9cegVh5OjIj1+zf3UpM5Rx8J+q7+lXm5/IIe4DZp0+0Mnof9+9NDWm3AeUsf0PZJM4v77tLwcyWuE3nU4Lb/8uD1ifbbnP1rX4xRfK+fxNeu+bmdrTs4aVR43StowcWXZJDs17Uy2PZZrNDaR7eh2ue8r9dKa7UMgw2DM3fGsvJmoTJGX/176U6afoc5UdFKVGfbbti3oV4O/iAhk+cPztmQ1cZsc0l9bV5teuXZJWQk/oxiEPV+k59vmoCIjpxA1bmmfnOpXNCZ2zJv0ogAp0+l7MH7l+pC2zzSBbqpx4b5bGUV1J8p04yho2WZtqmGsV62/DOqzti+EY54cM4vUWW2jHK75JX28qg/uu0rbfVsq5wfnhG0Mv5Nr7bGk7Q2RIQVKslL6QPdJJ7Rz0ewcR/aPJbEdfzf3xAifBXZ3l27apHeSAyZSigrf6QSC6tydF7QZ5iKa26Axlfg0LF9yHE2axHqmTS1vgJWUKap8/shr1nXuG27n4gY9U+VLstJZ/Xp3VvDb8lZZez6dqiigRPTmfLlW6hajcIlPdR31V7lzu1dmXdJHt+pkh7F6zlwX5MFZfyhvQ9XH/92ZpTd3tVzSfbFog9u9VV3VJsaPFX7CtYf7s1XtJ5ORxeFLv/L5Mh7sIOS1+O7lcuy4357R56+l80o1t9+yzJOArvePJYrzAgqy6pbkpXOSzFdWldLvUzyJm7LXJum6kZejdo053qsOi2ycHvJH6WBzO+a3xrS8RTbTepziegV2lotEC3Ie20Nbji3JJ/XH0qxJWio7EU1t93KN9MPk59JZxSV33Sxtmjx8kvvM5+zitm3r8Y3GRe2C2Pq4z3I8J29BpcLRWcklcSddsBnnuXaevFXaggI7lFQZ4XUzW77MTZOQdf2hzmyuyhH/Mp0ITrKILCU9im7DTdbvFfNNMTKxLPK4q7dJF+iVI+FnHH3Ys9PZO1r3DcVySvrkdL+SfqJJLwqI9D16Q3epPqT9ah0JfipvpH7NAZ6yWZZvkEMtWWaxTQmZsX59lXbV3BDX58nMKSlSNmqI/JL12ZIX7rhJlm7Gq3mnVO906TpE/6xuZOZr1ld5U749//zKjcAHDp+9fZjbvbFT52nRSQgl8afNbcUfWT3YZI8ZXGQ5XklemCy/BySQMe0525ZTTBLDqtWOP78pQa2Cr6ElnfNLkDxDPnmlRXLYXKWJaCXCXHhB18yFKrfPtqxaJdGrWV1YuUgmaTmpoS8y+Yqza1ZojTLWW9bRsJLfYiOxSWotWVnI+Wxs46doc+nXwNmxodugSeUIMm0OKRoLX47k/HHJQrNIPV6OKo+cc1It9KrDlTHXNLfDyVsSoLpxZ72o5H9z54mzvdA1qWZT24PxiQgmmfX3tDlzh528XKPfsqxyTSly4yIBYlBfKyJryUrOeii3UW7doRNK7+UN2pMqKWaJHar8XMrO+LqtWbrJfRBZqTJVslSxo+CN3JIrzdRbRjyeYtdtOcMieKKbkAWUm9AL9KpHSu3Z6+xJuuZyxXWQUyd7yfmJ4VCmDxm/GiHnyIKnEsg5mxV7sQlxc2WW2lQDyfpCMnNKkryNOr3J+exSZFGgdEB2x8yxDKKvehfcnt/H/N4DexsopZDonQfYRrnq05Sbh4V7lkzkyiuZdkckE4s1SjHA6mRVRVY7knRXt+Wdm5x1hmmt4DxQx7UDkAHUq3Pf/rb7wXJNOybifkx0m9teW+1FiOPRq0XfDrtbkOqL5v6aJBwsy/K9u+1XkzlKZKEDu1Ka298zonPmz4FQoMPJMR90O3qhq/0ZDo9PqrH8tCM7Oifpewnw2ME3Zw3XfHp1w+9GyOqzAJt5fXd7kk5PsU3L6l+lS9Ar/yI7/G6cTohj5z5L0s6pcZmYeJLkiUgn0xQ70qf2RL/jyePwbmnDZ0vvcWxKKLXnNAOQU0u/uvmJHinSh5RfrcILgrXK3Y0s+TL7sakyyueUzjYqizm7UInuGuSQXUN7V0V2x8zhzHwt+nrf7rybT8kCf1Dsf6Ckthxzt1RakFWk+TPLX6xodkuQP855WiNR/5DtvpTjkOjf/KlWHYFxm+1OtSopDDYs1WvWn1/NZ1uWW42sqG51wKtOt4X79h7NqJWPXnE7B5sk7IvlJP0o294FKwzZvfK3xjiAWbxX2Q5ukoU1isRtI7ulK5PeBVnx5Ei1v0eqOifbxv04owIdTspmQO1w4yK6/trssIjjsrsPf72kp7kgs1f7U7fDntBtNkCpb+wYO7O3bE1tWcMrlC0ajPxWbtDTLdERWbRs0Opbf0uizA6NnXDwTePsB1hGtP2efYCVecWOlNxMVvsSf6Fk6XcExa5b/VOFsUu/0vmVo3oS63VsCii2Z7fTHfa5QU4lZPuV8xPDoqM+NPHtZVqYWaaJpsdGFA1lDsimWqnOKS2U2KjswtlbztEt0iI/JMGj+TMzX8f6uvcMMVDSCiGRYfODVxzlPpZ73BJB6k/j+UqZTOS6yKtIcziLOLhgS94/mCZbyRsmcn1CNMdOQaG3QO3OkUTzGnHQV2nClWMicla6BVeOfFIP/AVliiFVrjnLAdhCdfUb3HL6hp2H2+a+wNH9Yv26qZ9ld8huTfJHGWyuLwFTP2WekaqMnzlP91921BL3oDOyWH9oVwYSmIXP4czSfXqiz5VViDzzpY5bCtpfitMbaVNF55J1M9E15liSAh2uysaMT1E7Wrh/fFePy7g8H2NWvFzfTTte47tsA+pUhQ4q7MPcHe3PIfqxzIGADm6lzM25DbMSb8bXf4gmeFJwNtwkbxOErBwfV/KZOjdJ83Oyu6S/LrNDue4BrbBTVrcypMyte7QZTESRHYXyzPqLEJalunWk27B6rOOtN4Udj17GpuJnInqzZ6dDh97TmLv11iSnEtL9yvqJil6oRy9aA5IyOumDfBrq1c9YJZ71qpAvs4tNNY11htyckiBroxlkN2w+GE/3MHnWD3l9FHvatDtKufk60lf5dHl2sH++/KS4ch9UHhg2O0DyRP1t+rX19lgNUbK7RAt2i7hS7p5QbcOBhlexl28QPe7+gCbwyKQhD/fv5TY0AACExH6oD98+qPl6wOz/rbdhIw/IcpRvI9SJK5ONkXSWaHXFn6L7sAAAAMCXjfxwwe8Q+md4OzOo+XrAfPk7SgAAAAAAPfLl7ygBAAAAAPQIAiUAAAAAgAwIlAAAAAAAMiBQAgAAAADI8JUESvJzxfR7VeTnh2XvjUkjP4vU783I1xEhP/EveoU8KMHLf9gUju8oIz+97fj+mc7yjeqQ/Ff61yvNZXwBst0DVLLQpO8Q+ZW+/6qQkfVTWqd6s/kB6VkPduRIyrW38RuI75P2KBttkUtWH/oZj4MDdpQy9BtAeUSR9vblWHtCP87CMogyurIfdX6tqBQj+i278Xue+p+wBmefo0zsOyTBq0v1EenxEZWaYj/eNbMX4xDXIQl+9/i9YUP3Gfs4fpLXTqX+qb7zqHTe2ofx2AeGFCjFjlCthJyihQOgo1H9zoSM43QRr3xarqsodC7iVu0x1z7fNgcD5PuJK8smCZ+pM9mONqSdp2hesuTzdaFDWeW2qbLCKL2kjs7y+MV/x7Lxffflrz/ka9Z9ua6dlVWEc1hSriRKjN6inG6DGgNuQ1SukCxDr6x0GflVipSpz/mFVs0xTYs+Jer0ZfGn0ld7vN4OqceUL2Wa86L+OcrHJklQvm9fJdAIxyksN9Qtx46Xcfh9k+7t+O+cLMJ2tco6LE/arpNa1t4qvGbL9OWlxidpnxbV/9DX+LKc/pq/Xbn2fCVHlp2Sjy43eV5I8TXSb/4+kFuoV2E/dRul7d532O9UeZFs/XeqvKj/cZ/rdRSiyqzrqpRd5ie1vj5iP+Pa2WQX5ri0Ma6jcn4ke/6E+hyUU/uOEVl4+VfsKSSSdXhOYEcVebs6g+NJpGzTLt+eWFZV2/JjGPu+sN5QryypdkWyjeQT616oK/V5K5RdQ9tz41EZ71FlSIGSfr26yoTM7HIwMiNJLOUfkhDRJLJcf/iExkzC0393ZumNS21hYcHfldfj2xwy8pp8GQzJ1GyORSkxCmDjun1l0iTju8MGUM/ZJCu3P5ZmTZJNU+fdXbqprpE6ic62GYFCou0PdJ90EkS3Ynh9lXbPSVl/0jOX86ikjh7kMbdhZCz5k07RxPYddd67KN8QT1qLRAty/c6L9pxZUz/pRIlqt0CvRJrGcn5rTOXIi1ZMyTKO+kSM3A6dxqECG5akblE593bGWJfM8RK9SNQ59bM5nz/yinw9Fh/p+cqsy+sXr5bEiUhf5Xquk+VmE1zWV4RdxiaR20omApc4UrevnmomgS039QZ30ffHUl657s2vGN1g2bl8SyJLdz73y+bss0SyDtNbyOpZkmDO0jNpo3uzPevg9hlV3h9L5MpLjU/dPgNUugvva+hC7IdUOgjxAcYOVLkUpJ14zZPiLTnO5TadF1J8DU888tZh+S6UJev002NG73lczq/cYF2IfYe9RhHJ1tRj7SDsP4+rS/CarEOdVEZCV7v5yWWeeLVcxJ7S/qJuT3EdcjxMoMo42Vf0eXFD65c6n3WtkhpI5Q57a9om+cVcfrcKCZ+hcHYU2G6pvggSICyyX0xmWfCyCm0h7/ua/BXD102471keJs1KJNuoHV3mrSqptufGoz7eo8rQbr2pXDEqoaIkk52lmxw4/YeVSW31qUSukuTUZuPnz/hVWnFJJy3y7xd0LRr4yjF5kycPjk1E2crfXIPJSCwKcY0VpR1J2hes7GSFYRP99cIF234JKHVW9LI6epDHnH1D6hiNiYKat4lLNvaQ+7eMoUi+owsbaqzKaR5LV3YjUsYD/xZWeRM6B3OrFWOUBI2+rXKOOsy0yCGHBCNG5mddWSavX2UVqibzcQl8rMOU5KwyZomATlE6NjrH0+7f6qgn0lW+/BoHsS5JaQOu3ATuu3Ldc/KWSdiNKzs5u6KW8/vG66b4jjCRZn18mtA5pERvlK+5dYdOqEz07IfmTMJgSaYd7MZIuS5BqLNNpum8kOJrfB9DWYpO+x0TvdtW04VifP/DAKDvOtp0VdGkR0Hfs/6izZ4SJH1pAUFAqfSka+LZlDxK9YUDjglZAGVTUaVtIe/7cv5KE13Hcrp4KwgSu1Ak64wdJ+lhvPeJ4T2jZLNty6qOlXBqXFZ27KzsCkcZVbBaUp/K6lB2n8yfjtSxDojSdEbqZCWxEbv6ZJW8R0rqGII8BkPBWLYiZZg/G9jdZqeWoic58GR/d5nOm5WtW5WLM3nJxx4T3WaH51eF7ATWXtBmkMVa73icoVU+r7Z13OfY9KSrvVCiexU+vbrhd//sTsfAyY1PM7IIECe+uy1Jc3kSkd1s9byU3skWufodCv1JrWZLzwvp5RrR6ftul1h/+nnmw+6WhAHAoOtIUqxHeX/RaE/FyARsA7FcOg0bUAa7bn1SPPYso3dLG8GOfhlZ35f1V5r8dXtFfjwGM97DZ4gPc2tFfMqOjsZZWb4dI9p+zyZitzjN903CURnDK1t81WPrz+i6LZPrCFeiTxOO1e90CR/p+ZUCJUq1Y9CU1NFVHh1wtwFkFfrarLxtsCvHG2VVMJatVMpQ4/fAZ4c3xFvmwRj3LQdZ5Zo/Lbxq+42DgGjl9O1lWphZponotuhJ+lFuWaqdi4A+26R0NbgNuv78qpn4tOOxq3o5zr6+jOi2zDKdENss0b0G9iagS4xPBm3jN+jplqy0RVYbtPqWV9Xn/Eq39fYyU3peSPM1PFm42ygcuF2Q9hmdDoLvvlG7JU/odhAADLyOFMV61OYvMvZUjNzFCAK2TOJyLRMO+Hvwlym66MvYpV/p/MrR/K25BFnfZ0n5KyYee7nddc/Zwt7QNh79jvfwGWKgpAdo5TUrxbf8DzGirXu0GWxxTv38gU6ED+nVnsnhSPlxmGxPtugqxyQ5rb3/LNuRNnHt+C6dSK1Aw3MOvaexzK03rfTStkSd/CmPfrVTqD4UV6ekjo7y6MD947tGbvIMlN0NkluTG2Yr/QlPsoGslDP2Dzi2j2WCpjKidgSESRPv8kTgxrhQDlGd+lk6u9IRh6kIbvd8M021pIyH2cnp+/zBA6njy3Te3Vqw9Dk2rKsLTv6H1PMJC6YtYRLKp/SAuBtFzCyNqdWbXtl9MLsKJboX4+3jEE3whFxavyaQe6OeZMaHie2zgpqwl2nl+LiS9dS5SZqfk90l/XVVrtUHZh2l54U0XjNL9+mJPh7qwtRP6vkrl3Db9anBd1RsJ0au4/6HAUCuDqXrBf3K0KufTPuLtD01jnUScyvKlsWfZEAiMnzNiz87JylZJOpolHVAJ32xsirtE5PzfS3+Kh770O6bKJ23SsiNR5v/HB2QFBeoX1KsnhvCVjwAwCDPdN0gehw8EAyGgwQOHEgs2Nt+8uC0PERf28kIf5jB/8yeB/qieDxGl6HuKAEAAAB7ynfhXQP+yO5dardCPbdmn5eRW1JE7xAkDZ7S8RhhsKMEAAAAAJABO0oAAAAAABkQKAEAAAAAZECgBAAAAACQAYESAAAAAEAGBEojSpy0sZ2u548qLnlj5nX8A0N+olryrqck8lPv+jtSVNs7tluu6f89Jf59JI06ID/TTbZP+jOI96WUkJbdvpKVyyhix5plqBJZd3gPj0KuT1zTlz1oetH/YdCXTYkcusp0P/RnJGz56+ErCJRG0DGPLBknumfodAIqeeLLy0QDCSIsw++bJJkceGqbEtTPnHWC1PhdWKW6f0SlQBhWUsq+g8EBTOJfDG6sf6eLU5fpt86pgobHvun/IJEkuCMk0+4M15a/VoYaKMkuh9od4I91lGrVYY5556cd+qOH9jtx7n6V7JysRNF8jS/XT3zxjoqdFKVcnQAyfAtwsg0qQv+FHqlEn/Zac05mgq31T61G7LFgglKOnsu232WcftivVXNM42XR+LbXHVlh6vPCiSkvc1um9E/qOEXzkuG8cr0i0zcld+6bHLfX1ORSI6zbjltlrPj4xJVlk8jTyj8th7ANvryQXN92fDvCMRFdMGXlxt4jZZu2BBN6U5v8eFyk59vmoBDIOCm3cAzsalKOSfJR9ebgsK1p3RdW7fgEK1LVXnWxXFe1RXUKE8o/+K6h3dLX+jgya/aaoPywf2HZrn9hWxj5zvUrGAdG6rVtSet/nbpctCxcneEqXtUd27Svx/cztIWavJP6EdpGRfciWVTOifwXf4K6onF7+N4cSxHYQ3h9OC6ZPihZh+ORkI8m7J/+1Ow1rC8Y055sypHSay8Xp7ctY+wIfMQPz/OpN7JtDuthvL4WttPgdLaic7aevMwytgySDC9QYiWTlAs2v4uKcPnYxMqsOfanSQNhzqdlnsjuqHP/WJK0BfLGVD5PcsCE+XPYSchbpOW8d435ggSJrrkeyZovZcnLxFhBb2/relQZFLThNTuhW3KcVxTrz3zSz9QKI9U/tRrR//53bdLndRLmNnR/Pn8gycNUU8qwvJ0x2nSpOcRwJGN9UO7d0Al65leIFtT1gcxy/a317yT9KG0jnayytiJp6Nv81phqtx3jp8dsuX/S+ZUbtb6uPzzq6+a26tf4V8aKv/tjadYkmdTyX39odEJdN0tvAjnYNkiC1npOq0zf5paJHkt54ZiwvO/u0k0pS5VHdDY7uYqzCd7sWyHZJhmPK5MmIegd3QYF1ysvvDP11uQvjlUyjpvvJSXBbdF9GRdJSqt2GUI9Tei+8Poq7Sr74e+yebkqtmjG+tOrJ7Rpkn7qsfmV+93cbtllqI6jynm2faZWflLHov5V5KxSS5jcdX/tEF2QxNvaH+zyZKnynDXZe0iRXCpENn2KJkw9oV/SST9N3TxmYblJ/WjyO5EsTL3mK4XzX3Ef1h+e8uN2bIPHNoOzh+D6nN4ZItuvkvJ5ku/wuGm/6UstI0CBr4lklrWpKoVzTEjSb4uPkBRLcvwz3eQFWFOuxWbflKKwnU5nY52rkqo/bcv6fFBnaIGSJMq8fyveho2PsSO/xQNnk/wRO3Sb22d8khXUvDFVErOqo4YLL+iaMSyVS65rIr2/d2klWJGd5YDEJREMylZJfHkVXI3gLan+6aDGROiy8gtxb4DVeZhsQlNLVJ68ydQFSpKUNmiX5PthQ1qtBlqMv/4Mnb+wQf+Rc3L9belfnXzfQjlIP/TugZyrdzTivkpy0wc+H5Hqq2Tx1v/MI9f53SbJBbfiEvYGbVD5m/zxRpJjIpnN9c6T66tNtBwhbZEANp+SItkmHg9aum4mQMmlZ/OXSfJWqbeyi2CJruMir7HTdMmdO+B0XPKo6Sz7dQJbnGYnmuy/paXdSXLlN9hPEp2PSnRHZcq/dYdOKH/wkVbnTGLnJnsPKZJLBac/YzQmAanp09gxn5NOBRpB3SFJ/ehslwHJPsT2dvjSnTi4CnH9Ca5v0bvQ9mu0+Lw8Bb6myKaqFM4xITkfEfhkkYnNdSg7OFrX/A5Nd9802Lmwe/2gytACpd3telSfOrbXyESuV7c6EpdPcjXEE/hv/N0C3WClr08Cqb58enXDrwZltdSBrGx4pbxp/uyFbH9b+leltG/Sj/t298t84hUjG+pr82cn5Dq9I+TLrqy4B4HImx2QWoHZT/K5C3Zmay9os2iF6JHxyKF3H86opLXVibLpur1CnLYNgid4BW8n36Z2d6EX+5GgRCb03W1JessBy9Z7WlfP8ZxRulFs70NBdh6W6bzakZBVvzncREe7bKdXe9MMXO84EJyxgWsmlUVXPdhz22jwyX4HMb+AGgVytgzSDC1Qkgi3us0YH2MnsniP7p+rG0ojr4Mt5bf3aOYYr8AY6zAF2VbMbS/rTNSZbdYEcuvg3ZzZnQlI9S+kq/Gq8uzuGq9Cn1qnqjKhB1v2snXNk7TLCh7gr39Pb17rFXVbf3P9a6Kpb21ysbsAbptY9fWBz+xewa+SKtcNi6q8m/j2Mi3MLNNE9tZcHTUebkX+kZ5fqQbIJ+lH2WKvrA6r47j+/KrPer5HrL/lic1M+vUgNd3uXim1Hy3PG/R0SzKUy+7WBq1yO61f6WrvMVKe3wkRmTfdYmlGdnbMnwX0Ypdp/K6b0OQbyd7G5LaurizTifEjA9c72fmzt6xKgokSPWi3qQGjfITf1e9JL2R3yO3u9Njm10EbgrmwhGZbBlWG94zS1E/qfrZNhKdWmtGxo+pedeeM9Rd4hbGoy5RnehZMJCxbyidshMyrS7+9LNvIcp+Xr5EJjVdsC0sb/tZK5iG28AHQs2S3XwMS/dNOxbSBLcduxxYht9S2zErrLtF5t/o8Qhcfy3M8pr2yCnuc2eE49l6fMy73z43yZ/qb7p92qqmHuYv7VpFLalU89fMHN1ZRWytInXr1qcuIrpNPhwClqW8xFXm3nH/40q+VZ+1a4PHwCSLf05i7TRA8XDm+TOerK+3KOIa6n6ei+30ydsyUZdupymxpN+N1p3mHJKtjcstA6UHCVs2ktXJ8XNnE1LlJmp+T3SX9dam955DbKlYXntKDbjYdyp/93Ru20TZa/U4PhH24zW3I3XqbWRpTu4KRb+5J7/LITsZ8YFvxQ+eazn40a1PDQh4bmXS2sHrM33orR24RWrk+4SC1hzbLNXd1G7qOS9qWOYCSW4cD8BVfGgcrKa7c7+cgYuGg/wQVgAOHPDdyg+ix3QWQAOk9ncZqFHRAJmL5MY5eIFd1CuwNsOWuDG9HCQDwBRGvor85JL+k8g/5AlBCuLuld64Gs2sGugBb7srB2lECAAAAANhDsKMEAAAAAJABgRIAAAAAQAYESgAAAAAAGRAoAQAAAABkQKAEAAAAAJABgRIAAAAAQAYESgAAAAAAGRAoAQAAAABkQKAEAAAAAJABgRIAAAAAQAYESgAAAAAAGRAoAQAAAABkQKAEAAAAAJABgRIAAAAAQAYESgAAAAAAGRAoAQAAAAAkIfr/HyhvtrhRl80AAAAASUVORK5CYII=)"
      ],
      "metadata": {
        "id": "_xumKtG5nsmI"
      }
    },
    {
      "cell_type": "markdown",
      "source": [
        "**Counting pattern**\n",
        "\n",
        "- The general pattern to count the words in a line of text is to **split** thje line into words, then loop through the words and use a **dictionary** to track the count of the each word independently"
      ],
      "metadata": {
        "id": "2lYuphFIoCsi"
      }
    },
    {
      "cell_type": "code",
      "source": [
        "counts = dict()\n",
        "\n",
        "print('Enter a line of text:')\n",
        "line = input(' ')\n",
        "\n",
        "words = line.split()\n",
        "\n",
        "print('Words:', words)\n",
        "\n",
        "print('Counting...')\n",
        "for word in words:\n",
        "    counts[word] = counts.get(word, 0) + 1\n",
        "print('Counts', counts)\n",
        "\n",
        "# Input text: the clown ran after the car and the car ran into the tent and the tent fell down on the clown and the car"
      ],
      "metadata": {
        "id": "fXfdU_SLoWbt",
        "colab": {
          "base_uri": "https://localhost:8080/"
        },
        "outputId": "c0d889af-6148-4eda-d35c-7ce70c2bd5b6"
      },
      "execution_count": null,
      "outputs": [
        {
          "output_type": "stream",
          "name": "stdout",
          "text": [
            "Enter a line of text:\n",
            " the clown ran after the car and the car ran into the tent and the tent fell down on the clown and the car\n",
            "Words: ['the', 'clown', 'ran', 'after', 'the', 'car', 'and', 'the', 'car', 'ran', 'into', 'the', 'tent', 'and', 'the', 'tent', 'fell', 'down', 'on', 'the', 'clown', 'and', 'the', 'car']\n",
            "Counting...\n",
            "Counts {'the': 7, 'clown': 2, 'ran': 2, 'after': 1, 'car': 3, 'and': 3, 'into': 1, 'tent': 2, 'fell': 1, 'down': 1, 'on': 1}\n"
          ]
        }
      ]
    },
    {
      "cell_type": "markdown",
      "source": [
        "**Definite Loops and Dictionaries**\n",
        "\n",
        "- Even though **dictionaries** are not stored in order, we can write a **for** loop that goes through all the entries in a **dictionary** - actually it goes through all of the **keys** in the **dictionary** and looks up the **values**"
      ],
      "metadata": {
        "id": "Ut6o275drk3A"
      }
    },
    {
      "cell_type": "code",
      "source": [
        "counts = {'chunk' : 1, 'jeff' : 42, 'jan' : 100}\n",
        "for key in counts:\n",
        "    print(key, counts[key])"
      ],
      "metadata": {
        "id": "iyUOxdNWr-i3",
        "colab": {
          "base_uri": "https://localhost:8080/"
        },
        "outputId": "20b1652a-1146-4768-c0ec-0c9369318e19"
      },
      "execution_count": null,
      "outputs": [
        {
          "output_type": "stream",
          "name": "stdout",
          "text": [
            "chunk 1\n",
            "jeff 42\n",
            "jan 100\n"
          ]
        }
      ]
    },
    {
      "cell_type": "markdown",
      "source": [
        "**Retriving Lists of Keys and Values**\n",
        "\n",
        "- get a list of **keys**, **values**, or **items**(both) from a dictionary"
      ],
      "metadata": {
        "id": "p_bdC7LCshGR"
      }
    },
    {
      "cell_type": "code",
      "source": [
        "dict1 = {'chunk' : 1, 'jeff' : 42, 'jan' : 100}\n",
        "print(list(dict1))"
      ],
      "metadata": {
        "id": "GeDJtrAasvdN",
        "colab": {
          "base_uri": "https://localhost:8080/"
        },
        "outputId": "60d3f042-49cd-42d3-f3e4-d23facda7acf"
      },
      "execution_count": null,
      "outputs": [
        {
          "output_type": "stream",
          "name": "stdout",
          "text": [
            "['chunk', 'jeff', 'jan']\n"
          ]
        }
      ]
    },
    {
      "cell_type": "code",
      "source": [
        "print(list(dict1.keys()))"
      ],
      "metadata": {
        "id": "v8ZXcu5us3Ag",
        "colab": {
          "base_uri": "https://localhost:8080/"
        },
        "outputId": "97c9f2fd-9906-493d-9b82-171735bcf2c4"
      },
      "execution_count": null,
      "outputs": [
        {
          "output_type": "stream",
          "name": "stdout",
          "text": [
            "['chunk', 'jeff', 'jan']\n"
          ]
        }
      ]
    },
    {
      "cell_type": "code",
      "source": [
        "print(list(dict1.values()))"
      ],
      "metadata": {
        "id": "MIdS-Ua6s7TP",
        "colab": {
          "base_uri": "https://localhost:8080/"
        },
        "outputId": "b3302612-38d7-4bb3-c9ab-27ea4aff24ff"
      },
      "execution_count": null,
      "outputs": [
        {
          "output_type": "stream",
          "name": "stdout",
          "text": [
            "[1, 42, 100]\n"
          ]
        }
      ]
    },
    {
      "cell_type": "code",
      "source": [
        "print(list(dict1.items()))"
      ],
      "metadata": {
        "id": "p5hZmUgDs-wW",
        "colab": {
          "base_uri": "https://localhost:8080/"
        },
        "outputId": "7d4e21a7-fdf8-433b-8b7a-0e4ac15695fe"
      },
      "execution_count": null,
      "outputs": [
        {
          "output_type": "stream",
          "name": "stdout",
          "text": [
            "[('chunk', 1), ('jeff', 42), ('jan', 100)]\n"
          ]
        }
      ]
    },
    {
      "cell_type": "markdown",
      "source": [
        "**Bonus: Two Iteration Variables**\n",
        "\n",
        "- We loop through the **key:value** pairs in a dictionary using * two * iteration variables.\n",
        "\n",
        "- Each iteration, the first variable is the **key** and the second variable is the corresponding **value** for the key"
      ],
      "metadata": {
        "id": "70pRErSTtYXZ"
      }
    },
    {
      "cell_type": "code",
      "source": [
        "dict1 = {'chunk' : 1, 'jeff' : 42, 'jan' : 100}\n",
        "\n",
        "for keys, values in dict1.items():\n",
        "    print(keys, values)\n"
      ],
      "metadata": {
        "id": "divlMPsot0PO",
        "colab": {
          "base_uri": "https://localhost:8080/"
        },
        "outputId": "8113e0b3-e7c2-4b66-9e18-89b9f2992f36"
      },
      "execution_count": null,
      "outputs": [
        {
          "output_type": "stream",
          "name": "stdout",
          "text": [
            "chunk 1\n",
            "jeff 42\n",
            "jan 100\n"
          ]
        }
      ]
    },
    {
      "cell_type": "markdown",
      "source": [
        "Till now we have learned **get method, dictionary loops, counting patterns, retriving list of keys and values, and two iteration variables usage**.\n",
        "\n",
        "In this example program we will use all the concepts we learned"
      ],
      "metadata": {
        "id": "4s_6HO1OuQ8g"
      }
    },
    {
      "cell_type": "code",
      "source": [
        "name = input('Enter file:')\n",
        "handle = open(name)\n",
        "\n",
        "counts = dict()\n",
        "for lin in handle:\n",
        "    words = line.split()\n",
        "    for word in words:\n",
        "        counts[word] = counts.get(words, 0) + 1\n",
        "\n",
        "bigcount = None\n",
        "bigword = None\n",
        "for word, count in counts.items():\n",
        "    if bigcount is None or count > bigcount:\n",
        "        bigword = word\n",
        "        bigcount = count\n",
        "\n",
        "print(bigword, bigcount)"
      ],
      "metadata": {
        "id": "BcujJQYVuyGq",
        "colab": {
          "base_uri": "https://localhost:8080/",
          "height": 390
        },
        "outputId": "28c6d61a-4e37-4b93-966e-be9ebf6d26cf"
      },
      "execution_count": null,
      "outputs": [
        {
          "output_type": "error",
          "ename": "KeyboardInterrupt",
          "evalue": "ignored",
          "traceback": [
            "\u001b[0;31m---------------------------------------------------------------------------\u001b[0m",
            "\u001b[0;31mKeyboardInterrupt\u001b[0m                         Traceback (most recent call last)",
            "\u001b[0;32m<ipython-input-25-7311463cb1e9>\u001b[0m in \u001b[0;36m<cell line: 1>\u001b[0;34m()\u001b[0m\n\u001b[0;32m----> 1\u001b[0;31m \u001b[0mname\u001b[0m \u001b[0;34m=\u001b[0m \u001b[0minput\u001b[0m\u001b[0;34m(\u001b[0m\u001b[0;34m'Enter file:'\u001b[0m\u001b[0;34m)\u001b[0m\u001b[0;34m\u001b[0m\u001b[0;34m\u001b[0m\u001b[0m\n\u001b[0m\u001b[1;32m      2\u001b[0m \u001b[0mhandle\u001b[0m \u001b[0;34m=\u001b[0m \u001b[0mopen\u001b[0m\u001b[0;34m(\u001b[0m\u001b[0mname\u001b[0m\u001b[0;34m)\u001b[0m\u001b[0;34m\u001b[0m\u001b[0;34m\u001b[0m\u001b[0m\n\u001b[1;32m      3\u001b[0m \u001b[0;34m\u001b[0m\u001b[0m\n\u001b[1;32m      4\u001b[0m \u001b[0mcounts\u001b[0m \u001b[0;34m=\u001b[0m \u001b[0mdict\u001b[0m\u001b[0;34m(\u001b[0m\u001b[0;34m)\u001b[0m\u001b[0;34m\u001b[0m\u001b[0;34m\u001b[0m\u001b[0m\n\u001b[1;32m      5\u001b[0m \u001b[0;32mfor\u001b[0m \u001b[0mlin\u001b[0m \u001b[0;32min\u001b[0m \u001b[0mhandle\u001b[0m\u001b[0;34m:\u001b[0m\u001b[0;34m\u001b[0m\u001b[0;34m\u001b[0m\u001b[0m\n",
            "\u001b[0;32m/usr/local/lib/python3.10/dist-packages/ipykernel/kernelbase.py\u001b[0m in \u001b[0;36mraw_input\u001b[0;34m(self, prompt)\u001b[0m\n\u001b[1;32m    849\u001b[0m                 \u001b[0;34m\"raw_input was called, but this frontend does not support input requests.\"\u001b[0m\u001b[0;34m\u001b[0m\u001b[0;34m\u001b[0m\u001b[0m\n\u001b[1;32m    850\u001b[0m             )\n\u001b[0;32m--> 851\u001b[0;31m         return self._input_request(str(prompt),\n\u001b[0m\u001b[1;32m    852\u001b[0m             \u001b[0mself\u001b[0m\u001b[0;34m.\u001b[0m\u001b[0m_parent_ident\u001b[0m\u001b[0;34m,\u001b[0m\u001b[0;34m\u001b[0m\u001b[0;34m\u001b[0m\u001b[0m\n\u001b[1;32m    853\u001b[0m             \u001b[0mself\u001b[0m\u001b[0;34m.\u001b[0m\u001b[0m_parent_header\u001b[0m\u001b[0;34m,\u001b[0m\u001b[0;34m\u001b[0m\u001b[0;34m\u001b[0m\u001b[0m\n",
            "\u001b[0;32m/usr/local/lib/python3.10/dist-packages/ipykernel/kernelbase.py\u001b[0m in \u001b[0;36m_input_request\u001b[0;34m(self, prompt, ident, parent, password)\u001b[0m\n\u001b[1;32m    893\u001b[0m             \u001b[0;32mexcept\u001b[0m \u001b[0mKeyboardInterrupt\u001b[0m\u001b[0;34m:\u001b[0m\u001b[0;34m\u001b[0m\u001b[0;34m\u001b[0m\u001b[0m\n\u001b[1;32m    894\u001b[0m                 \u001b[0;31m# re-raise KeyboardInterrupt, to truncate traceback\u001b[0m\u001b[0;34m\u001b[0m\u001b[0;34m\u001b[0m\u001b[0m\n\u001b[0;32m--> 895\u001b[0;31m                 \u001b[0;32mraise\u001b[0m \u001b[0mKeyboardInterrupt\u001b[0m\u001b[0;34m(\u001b[0m\u001b[0;34m\"Interrupted by user\"\u001b[0m\u001b[0;34m)\u001b[0m \u001b[0;32mfrom\u001b[0m \u001b[0;32mNone\u001b[0m\u001b[0;34m\u001b[0m\u001b[0;34m\u001b[0m\u001b[0m\n\u001b[0m\u001b[1;32m    896\u001b[0m             \u001b[0;32mexcept\u001b[0m \u001b[0mException\u001b[0m \u001b[0;32mas\u001b[0m \u001b[0me\u001b[0m\u001b[0;34m:\u001b[0m\u001b[0;34m\u001b[0m\u001b[0;34m\u001b[0m\u001b[0m\n\u001b[1;32m    897\u001b[0m                 \u001b[0mself\u001b[0m\u001b[0;34m.\u001b[0m\u001b[0mlog\u001b[0m\u001b[0;34m.\u001b[0m\u001b[0mwarning\u001b[0m\u001b[0;34m(\u001b[0m\u001b[0;34m\"Invalid Message:\"\u001b[0m\u001b[0;34m,\u001b[0m \u001b[0mexc_info\u001b[0m\u001b[0;34m=\u001b[0m\u001b[0;32mTrue\u001b[0m\u001b[0;34m)\u001b[0m\u001b[0;34m\u001b[0m\u001b[0;34m\u001b[0m\u001b[0m\n",
            "\u001b[0;31mKeyboardInterrupt\u001b[0m: Interrupted by user"
          ]
        }
      ]
    }
  ]
}