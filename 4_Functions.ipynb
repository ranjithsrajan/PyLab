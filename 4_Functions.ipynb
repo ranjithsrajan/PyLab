{
  "nbformat": 4,
  "nbformat_minor": 0,
  "metadata": {
    "colab": {
      "provenance": [],
      "include_colab_link": true
    },
    "kernelspec": {
      "name": "python3",
      "display_name": "Python 3"
    },
    "language_info": {
      "name": "python"
    }
  },
  "cells": [
    {
      "cell_type": "markdown",
      "metadata": {
        "id": "view-in-github",
        "colab_type": "text"
      },
      "source": [
        "<a href=\"https://colab.research.google.com/github/ranjithsrajan/PyLab/blob/main/4_Functions.ipynb\" target=\"_parent\"><img src=\"https://colab.research.google.com/assets/colab-badge.svg\" alt=\"Open In Colab\"/></a>"
      ]
    },
    {
      "cell_type": "code",
      "source": [
        "#@title Walkthrough Video\n",
        "from IPython.display import HTML\n",
        "HTML(\"\"\"<video width=\"620\" height=\"400\" controls>\n",
        "<source src=\"https://cdn.exec.talentsprint.com/content/3_Functions.mp4\">\n",
        "</video>\"\"\")"
      ],
      "metadata": {
        "cellView": "form",
        "id": "3quYJabZumM5",
        "colab": {
          "base_uri": "https://localhost:8080/",
          "height": 421
        },
        "outputId": "5b324523-3500-49f4-99c0-32e5376f5027"
      },
      "execution_count": null,
      "outputs": [
        {
          "output_type": "execute_result",
          "data": {
            "text/plain": [
              "<IPython.core.display.HTML object>"
            ],
            "text/html": [
              "<video width=\"620\" height=\"400\" controls>\n",
              "<source src=\"https://cdn.exec.talentsprint.com/content/3_Functions.mp4\">\n",
              "</video>"
            ]
          },
          "metadata": {},
          "execution_count": 1
        }
      ]
    },
    {
      "cell_type": "markdown",
      "source": [
        "**Functions**\n",
        "\n",
        "Sometimes we store a set of steps to be used over & over as needed several places throughout the program\n",
        "\n",
        "Function - A named sequence of reusable code that takes arguments(s) as input, does some computation, & then returns a result or results"
      ],
      "metadata": {
        "id": "q5B1s4EADN9u"
      }
    },
    {
      "cell_type": "code",
      "source": [
        "#stored (and reused) steps\n",
        "def thing():\n",
        "  print(\"hello\")\n",
        "  print(\"fun\")\n",
        "\n",
        "thing()\n",
        "\n",
        "print(\"zip\")\n",
        "\n",
        "thing()"
      ],
      "metadata": {
        "colab": {
          "base_uri": "https://localhost:8080/"
        },
        "id": "J2bK-i4-DOqk",
        "outputId": "d6d70056-e9b1-47b6-8688-85f8538f326f"
      },
      "execution_count": null,
      "outputs": [
        {
          "output_type": "stream",
          "name": "stdout",
          "text": [
            "hello\n",
            "fun\n",
            "zip\n",
            "hello\n",
            "fun\n"
          ]
        }
      ]
    },
    {
      "cell_type": "markdown",
      "source": [
        "**Built-in functions:** Python has many built-in functions that are always available to the program\n",
        "\n",
        "some of the built in functions are min(), max(), divmod(), input(),print(),abs(), round()...etc\n",
        "\n",
        "\n",
        "**User-defined Functions:** User defines the function & uses it later. To define a function we use \"def\" reserved word"
      ],
      "metadata": {
        "id": "06iQsOrdDXES"
      }
    },
    {
      "cell_type": "code",
      "source": [
        "# Built-in functions\n",
        "Big = max(\"hello world\") #max function is some stored code, that we use, it takes some input and produces output\n",
        "print(Big)"
      ],
      "metadata": {
        "colab": {
          "base_uri": "https://localhost:8080/"
        },
        "id": "HPmD1WmeDTdL",
        "outputId": "9a3909ae-8f66-493a-b952-b23df8c7a534"
      },
      "execution_count": null,
      "outputs": [
        {
          "output_type": "stream",
          "name": "stdout",
          "text": [
            "w\n"
          ]
        }
      ]
    },
    {
      "cell_type": "code",
      "source": [
        "tiny = min(\"hello world\")\n",
        "print(tiny)"
      ],
      "metadata": {
        "colab": {
          "base_uri": "https://localhost:8080/"
        },
        "id": "-yzeLp_dDaqk",
        "outputId": "a9d791fb-e358-4f16-b1dd-4814de65bb92"
      },
      "execution_count": null,
      "outputs": [
        {
          "output_type": "stream",
          "name": "stdout",
          "text": [
            " \n"
          ]
        }
      ]
    },
    {
      "cell_type": "markdown",
      "source": [
        "**TYPE CONVERSIONS**\n",
        "\n",
        "\n",
        "\n",
        "Here the data type can be changed using built-in functions like int(), float(), complex()..etc\n",
        "\n",
        "- when you put an integer and floating point in an expression, the integer is implicitly converted to a float\n",
        "- you can convert this with the built-in functions int() and float()."
      ],
      "metadata": {
        "id": "fqRBJbsrDrZQ"
      }
    },
    {
      "cell_type": "code",
      "source": [
        "print(float(99)/100)"
      ],
      "metadata": {
        "colab": {
          "base_uri": "https://localhost:8080/"
        },
        "id": "P-bnFbgIDjl6",
        "outputId": "4762a25b-5282-46db-af2e-30f6161a39a8"
      },
      "execution_count": null,
      "outputs": [
        {
          "output_type": "stream",
          "name": "stdout",
          "text": [
            "0.99\n"
          ]
        }
      ]
    },
    {
      "cell_type": "code",
      "source": [
        "i = 42\n",
        "type(i)"
      ],
      "metadata": {
        "colab": {
          "base_uri": "https://localhost:8080/"
        },
        "id": "0oSeLXY4Dt_x",
        "outputId": "f790b132-478d-4558-aac2-c6fcb9cf4e99"
      },
      "execution_count": null,
      "outputs": [
        {
          "output_type": "execute_result",
          "data": {
            "text/plain": [
              "int"
            ]
          },
          "metadata": {},
          "execution_count": 5
        }
      ]
    },
    {
      "cell_type": "code",
      "source": [
        "f = float(i)\n",
        "print(f)"
      ],
      "metadata": {
        "colab": {
          "base_uri": "https://localhost:8080/"
        },
        "id": "e2-jWYoFDvnI",
        "outputId": "4d4890f6-ca26-40bb-b601-66ba3d0fdadf"
      },
      "execution_count": null,
      "outputs": [
        {
          "output_type": "stream",
          "name": "stdout",
          "text": [
            "42.0\n"
          ]
        }
      ]
    },
    {
      "cell_type": "code",
      "source": [
        "type(f)"
      ],
      "metadata": {
        "colab": {
          "base_uri": "https://localhost:8080/"
        },
        "id": "Ue5rGhQSDxPw",
        "outputId": "02d47f52-fa6f-46d6-c6b6-c9fdc4ab289b"
      },
      "execution_count": null,
      "outputs": [
        {
          "output_type": "execute_result",
          "data": {
            "text/plain": [
              "float"
            ]
          },
          "metadata": {},
          "execution_count": 7
        }
      ]
    },
    {
      "cell_type": "code",
      "source": [
        "print(1+2*float(3)/4-5)"
      ],
      "metadata": {
        "colab": {
          "base_uri": "https://localhost:8080/"
        },
        "id": "WKKVe3JmDy-C",
        "outputId": "0a73b87d-d2e7-49c8-ac69-6979339130f6"
      },
      "execution_count": null,
      "outputs": [
        {
          "output_type": "stream",
          "name": "stdout",
          "text": [
            "-2.5\n"
          ]
        }
      ]
    },
    {
      "cell_type": "markdown",
      "source": [
        "**STRING CONVERSIONS** : Here we can also convert string data type to other data types.\n",
        "- you can also use int() and float() to convert between strings and integers\n",
        "- you will get an error if the string does not contain numeric charecters"
      ],
      "metadata": {
        "id": "0muV7uK6D70u"
      }
    },
    {
      "cell_type": "code",
      "source": [
        "a = '1234'  #string function\n",
        "print(type(a))\n",
        "\n",
        "ival = int(a)  # converted function\n",
        "print(type(ival))\n"
      ],
      "metadata": {
        "colab": {
          "base_uri": "https://localhost:8080/"
        },
        "id": "HgRbtJCmD0vu",
        "outputId": "c6219740-bfea-43ea-b063-9d5383406895"
      },
      "execution_count": null,
      "outputs": [
        {
          "output_type": "stream",
          "name": "stdout",
          "text": [
            "<class 'str'>\n",
            "<class 'int'>\n"
          ]
        }
      ]
    },
    {
      "cell_type": "code",
      "source": [
        "sval = '123'\n",
        "type(sval)\n",
        "\n",
        "print(sval+1)#gives error because sting cannot be added to neumeric, hence we need to convert it to string"
      ],
      "metadata": {
        "id": "rNhgLqHaD9-s"
      },
      "execution_count": null,
      "outputs": []
    },
    {
      "cell_type": "code",
      "source": [
        "#contd....\n",
        "sval = '123'\n",
        "ival = int(sval)\n",
        "type(ival)\n",
        "\n",
        "print(ival + 1)"
      ],
      "metadata": {
        "colab": {
          "base_uri": "https://localhost:8080/"
        },
        "id": "288pxz8eEAsP",
        "outputId": "796825c0-d081-441e-b4fe-8ecd3916718c"
      },
      "execution_count": null,
      "outputs": [
        {
          "output_type": "stream",
          "name": "stdout",
          "text": [
            "124\n"
          ]
        }
      ]
    },
    {
      "cell_type": "code",
      "source": [
        "nsv = \"hello bob\"\n",
        "niv = int(nsv) #throws error because charecters cannot be converted to int"
      ],
      "metadata": {
        "id": "BsYiZejgECX7"
      },
      "execution_count": null,
      "outputs": []
    },
    {
      "cell_type": "markdown",
      "source": [
        "**Functions of our own**\n",
        "- we create new function using def keyword followed by optional parameters within paranthesis\n",
        "- we indent the body of the function\n",
        "- this defines the function but does not execute the body of the function\n"
      ],
      "metadata": {
        "id": "XasfkzJZET3b"
      }
    },
    {
      "cell_type": "code",
      "source": [
        "#building your own functions\n",
        "#User-defined function\n",
        "x = 5\n",
        "print(\"hello\")\n",
        "\n",
        "def print_lyrics():\n",
        "  print(\"i'm a lumberjack, and i'm okay\")\n",
        "  print(\"i sleep all night and i work all day\")\n",
        "\n",
        "print(\"yo\")\n",
        "x = x+2\n",
        "print(x)"
      ],
      "metadata": {
        "colab": {
          "base_uri": "https://localhost:8080/"
        },
        "id": "CuBiIVnqEYgF",
        "outputId": "eeae3e6a-bf14-4c89-a25e-6907f014a92b"
      },
      "execution_count": null,
      "outputs": [
        {
          "output_type": "stream",
          "name": "stdout",
          "text": [
            "hello\n",
            "yo\n",
            "7\n"
          ]
        }
      ]
    },
    {
      "cell_type": "code",
      "source": [
        "#more on functions\n",
        "\n",
        "x = 5\n",
        "print(\"hello\")\n",
        "\n",
        "def print_lyrics():\n",
        "  print(\"i'm a lumberjack, and i'm okay\")\n",
        "  print(\"i sleep all night and i work all day\")\n",
        "print_lyrics()\n",
        "\n",
        "x = x+2\n",
        "print(x)"
      ],
      "metadata": {
        "colab": {
          "base_uri": "https://localhost:8080/"
        },
        "id": "-MEeqpADEbIZ",
        "outputId": "072c2fee-f505-41c3-d4d5-abdb8efbf412"
      },
      "execution_count": null,
      "outputs": [
        {
          "output_type": "stream",
          "name": "stdout",
          "text": [
            "hello\n",
            "i'm a lumberjack, and i'm okay\n",
            "i sleep all night and i work all day\n",
            "7\n"
          ]
        }
      ]
    },
    {
      "cell_type": "markdown",
      "source": [
        "**Arguments**\n",
        "\n",
        "- an argument is a value we pass into the function as its input when we call the function\n",
        "- they are used to direct the function to do different kinds of work when we call it a different times\n",
        "- we put the arguments in paranthesis after the name of the function\n",
        "\n"
      ],
      "metadata": {
        "id": "Cclj2eP0Emwg"
      }
    },
    {
      "cell_type": "code",
      "source": [
        "#arguments\n",
        "big = max(\"hello world\") # here hello world is the argument"
      ],
      "metadata": {
        "id": "2FjvdeOhEiDC"
      },
      "execution_count": null,
      "outputs": []
    },
    {
      "cell_type": "markdown",
      "source": [
        "**Parameter**\n",
        "- a parameter is a variable which we use in the function defination\n",
        "- it is a \"handle\" that allows the code in the function to access the arguments for a particular function invocation."
      ],
      "metadata": {
        "id": "_TfzrW26FE1C"
      }
    },
    {
      "cell_type": "code",
      "source": [
        "def greet(lang):\n",
        "  if lang == 'es':\n",
        "    print('hola')\n",
        "  elif lang == 'fr':\n",
        "    print(\"bonjour\")\n",
        "  else:\n",
        "    print('hello')\n",
        "greet('en')\n",
        "greet(\"es\")\n",
        "greet('fr')\n"
      ],
      "metadata": {
        "colab": {
          "base_uri": "https://localhost:8080/"
        },
        "id": "za4UBQrlE1Qq",
        "outputId": "70351710-6bc7-474a-8308-c9835d533489"
      },
      "execution_count": null,
      "outputs": [
        {
          "output_type": "stream",
          "name": "stdout",
          "text": [
            "hello\n",
            "hola\n",
            "bonjour\n"
          ]
        }
      ]
    },
    {
      "cell_type": "markdown",
      "source": [
        "**Return values**\n",
        "\n",
        "- often a function will take its arguments, do some computation and return a value based as the value to be used as the value of the function call in the calling expression.\n",
        "- the return keyword is used for this"
      ],
      "metadata": {
        "id": "XiPHdjg5GXVJ"
      }
    },
    {
      "cell_type": "code",
      "source": [
        "def greet():\n",
        "  return \"hello\"\n",
        "print(greet(), \"glenn\")\n",
        "print(greet(), \"sally\")"
      ],
      "metadata": {
        "colab": {
          "base_uri": "https://localhost:8080/"
        },
        "id": "JtrFFEJoGx2B",
        "outputId": "707c912f-7a99-4a98-ac63-6fba4a7f947a"
      },
      "execution_count": null,
      "outputs": [
        {
          "output_type": "stream",
          "name": "stdout",
          "text": [
            "hello glenn\n",
            "hello sally\n"
          ]
        }
      ]
    },
    {
      "cell_type": "markdown",
      "source": [
        "- a fruitful function is one that produces a result\n",
        "- the return statement ends the function execution and sendsback the result of the function"
      ],
      "metadata": {
        "id": "Kx7kDYWUHDeP"
      }
    },
    {
      "cell_type": "code",
      "source": [
        "def greet(lang):\n",
        "  if lang == 'es':\n",
        "    return 'hola'\n",
        "  elif lang == 'fr':\n",
        "    return \"bonjour\"\n",
        "  else:\n",
        "    return 'hello'\n",
        "print(greet('en'), 'gleen')\n",
        "print(greet(\"es\"), 'sally')\n",
        "print(greet('fr'), 'michael')\n"
      ],
      "metadata": {
        "colab": {
          "base_uri": "https://localhost:8080/"
        },
        "id": "rvTLhdveF8Cf",
        "outputId": "1405125f-5452-4706-b919-bbc12851b7e0"
      },
      "execution_count": null,
      "outputs": [
        {
          "output_type": "stream",
          "name": "stdout",
          "text": [
            "hello gleen\n",
            "hola sally\n",
            "bonjour michael\n"
          ]
        }
      ]
    },
    {
      "cell_type": "markdown",
      "source": [
        "**Void(non-fruitful) functions**\n",
        "\n",
        "- when a function doesn't return a value, we call it void function\n",
        "- functions that return values are \"fruitful\" functions\n",
        "- void functions are \"not fruitful\""
      ],
      "metadata": {
        "id": "WuvCTnbTH0ar"
      }
    },
    {
      "cell_type": "code",
      "source": [
        "def greet(lang):\n",
        "  if lang == 'es':\n",
        "    return\n",
        "  elif lang == 'fr':\n",
        "    return\n",
        "  else:\n",
        "    return\n",
        "print(greet('en'), 'gleen')\n",
        "print(greet(\"es\"), 'sally')\n",
        "print(greet('fr'), 'michael')\n"
      ],
      "metadata": {
        "colab": {
          "base_uri": "https://localhost:8080/"
        },
        "id": "zYUQ78_IHsU7",
        "outputId": "9d676853-d907-42bc-de46-ae37e8e3362d"
      },
      "execution_count": null,
      "outputs": [
        {
          "output_type": "stream",
          "name": "stdout",
          "text": [
            "None gleen\n",
            "None sally\n",
            "None michael\n"
          ]
        }
      ]
    },
    {
      "cell_type": "markdown",
      "source": [
        "**WHY FUNCTIONS**\n",
        "- A function is a useful device that groups together a set of statements so they can be run more than once. They can also let us specify parameters that can serve as inputs to the functions.\n",
        "- Functions allow us to not have to repeatedly write the same code again and again.\n",
        "- Functions will be one of most basic level of reusing code in Python, and it will also allow us to start thinking of program design.\n",
        "- if it gets too long or complex, we can break it into logical chunks and put them in functions."
      ],
      "metadata": {
        "id": "CzGwh2f2IYLR"
      }
    }
  ]
}