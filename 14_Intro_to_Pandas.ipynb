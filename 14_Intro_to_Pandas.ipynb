{
  "nbformat": 4,
  "nbformat_minor": 0,
  "metadata": {
    "colab": {
      "provenance": [],
      "include_colab_link": true
    },
    "kernelspec": {
      "name": "python3",
      "display_name": "Python 3"
    },
    "language_info": {
      "name": "python"
    }
  },
  "cells": [
    {
      "cell_type": "markdown",
      "metadata": {
        "id": "view-in-github",
        "colab_type": "text"
      },
      "source": [
        "<a href=\"https://colab.research.google.com/github/ranjithsrajan/PyLab/blob/main/14_Intro_to_Pandas.ipynb\" target=\"_parent\"><img src=\"https://colab.research.google.com/assets/colab-badge.svg\" alt=\"Open In Colab\"/></a>"
      ]
    },
    {
      "cell_type": "code",
      "source": [
        "#@title Walkthrough Video\n",
        "from IPython.display import HTML\n",
        "HTML(\"\"\"<video width=\"620\" height=\"400\" controls>\n",
        "<source src=\"https://cdn.exec.talentsprint.com/content/12_Intro_to_Pandas.mp4\">\n",
        "</video>\"\"\")"
      ],
      "metadata": {
        "cellView": "form",
        "id": "o2ydysDkvKg-",
        "colab": {
          "base_uri": "https://localhost:8080/",
          "height": 421
        },
        "outputId": "0449fa53-8f30-44f4-d5d4-9b5817850535"
      },
      "execution_count": null,
      "outputs": [
        {
          "output_type": "execute_result",
          "data": {
            "text/plain": [
              "<IPython.core.display.HTML object>"
            ],
            "text/html": [
              "<video width=\"620\" height=\"400\" controls>\n",
              "<source src=\"https://cdn.exec.talentsprint.com/content/12_Intro_to_Pandas.mp4\">\n",
              "</video>"
            ]
          },
          "metadata": {},
          "execution_count": 1
        }
      ]
    },
    {
      "cell_type": "markdown",
      "source": [
        "# **Pandas**\n",
        "\n",
        "An open source package built on top of numpy\n",
        "-\tpandas is an easy to use package for data structures and data analysis\n",
        "\n",
        "\n",
        "pandas can be used with different types of data:\n",
        "-\ttabular data with heterogeneously typed columns\n",
        "-\tordered and unordered time series data\n",
        "-\tarbitrary matrix data with row and column labels\n",
        "-\tobservational or statistical data sets\n",
        "\n",
        "\n",
        "**Installing And using pandas:**\n",
        "-\twe install pandas using the Python pip install when using Python on the local system or in an IDE using\n",
        "\n",
        "        !pip install pandas\n",
        "-\tIn colaboratory, pandas need to be imported as this library is already available:\n",
        "              Import pandas as pd\n",
        "\n"
      ],
      "metadata": {
        "id": "y6hCAERfimWo"
      }
    },
    {
      "cell_type": "code",
      "source": [
        "import pandas as pd"
      ],
      "metadata": {
        "id": "gVgAM6QIrw4J"
      },
      "execution_count": null,
      "outputs": []
    },
    {
      "cell_type": "markdown",
      "source": [
        "# **Pandas data structures: “Series and DataFrame”**\n",
        "\n",
        "There are 2 main data structures in pandas:\n",
        "1.\tSeries(1D)\n",
        "2.\tDataFrame(2D)\n",
        "\n",
        "      i.e., Series + series = DataFrame\n",
        "\n",
        "**Panda series object:**\n",
        "\n",
        "an analogue of one dimensional array\n",
        "-\ta panda series is a one dimensional array of indexed data\n",
        "-\tit contains homogeneous data with fixed size\n",
        "\n",
        "**constructing series object:**\n",
        "\n",
        "Syntax: pd.Series(data, index = index, dtype, copy)\n",
        "\n",
        "- Here data can be any list , Numpy array, scalar value, or dictionary\n",
        "-\tIndex is an optional argument for indexing, must be of same length data\n",
        "\n",
        "it forms a new series: a wrap of both sequence of values and sequence of indices along with data type.\n"
      ],
      "metadata": {
        "id": "xGra_33qrKPo"
      }
    },
    {
      "cell_type": "code",
      "source": [
        "# construct a series using a list\n",
        "\n",
        "import pandas as pd\n",
        "s1 = pd.Series([0.25, 0.5, 0.75, 1.0], index = ['a', 'b', 'c', 'd'])\n",
        "print(s1)"
      ],
      "metadata": {
        "colab": {
          "base_uri": "https://localhost:8080/"
        },
        "id": "oRzfVwB4rJTo",
        "outputId": "e692e0cf-c094-49b6-8ed6-6d162da468b9"
      },
      "execution_count": null,
      "outputs": [
        {
          "output_type": "stream",
          "name": "stdout",
          "text": [
            "a    0.25\n",
            "b    0.50\n",
            "c    0.75\n",
            "d    1.00\n",
            "dtype: float64\n"
          ]
        }
      ]
    },
    {
      "cell_type": "code",
      "source": [
        "# Construct a series using an array\n",
        "import numpy as np\n",
        "import pandas as pd\n",
        "\n",
        "info = np.array([0.25, 0.5, 0.75, 1.0])\n",
        "s2 = pd.Series(info, index = ['a', 'b', 'c', 'd'])\n",
        "print(s2)"
      ],
      "metadata": {
        "colab": {
          "base_uri": "https://localhost:8080/"
        },
        "id": "LKOW8lQmsT3F",
        "outputId": "8deae4de-3b72-45ac-e4df-3b0981c022f3"
      },
      "execution_count": null,
      "outputs": [
        {
          "output_type": "stream",
          "name": "stdout",
          "text": [
            "a    0.25\n",
            "b    0.50\n",
            "c    0.75\n",
            "d    1.00\n",
            "dtype: float64\n"
          ]
        }
      ]
    },
    {
      "cell_type": "code",
      "source": [
        "#Series object attributes\n",
        "\n",
        "x = pd.Series([1,2,3], index = ['a', 'b', 'c'])\n",
        "print(\"shape:\", x.shape)\n",
        "print(\"size:\", x.size)\n",
        "print(\"index:\", x.index)\n",
        "print(\"values:\", x.values)\n",
        "print(\"dimensions:\", x.ndim)\n",
        "print(\"data type:\", x.dtype)"
      ],
      "metadata": {
        "colab": {
          "base_uri": "https://localhost:8080/"
        },
        "id": "eo_F1A2Ps0xF",
        "outputId": "1002c739-eeed-4d9a-95b2-6e46b6421bcf"
      },
      "execution_count": null,
      "outputs": [
        {
          "output_type": "stream",
          "name": "stdout",
          "text": [
            "shape: (3,)\n",
            "size: 3\n",
            "index: Index(['a', 'b', 'c'], dtype='object')\n",
            "values: [1 2 3]\n",
            "dimensions: 1\n",
            "data type: int64\n"
          ]
        }
      ]
    },
    {
      "cell_type": "markdown",
      "source": [
        "Shape returns a tuple of shape of the data\n",
        "\n",
        "size return the size of the data\n",
        "\n",
        "index defines the index of the series\n",
        "\n",
        "values returns the values of series as list\n",
        "\n",
        "ndim returns the number of dimensions in the\n",
        "\n",
        "dtype return the data type of the data\n"
      ],
      "metadata": {
        "id": "n5DwJZkJtsAL"
      }
    },
    {
      "cell_type": "markdown",
      "source": [
        "# **pandas data frame object:**\n",
        "- a data frame is an analogue of a 2 dimensional array with both flexible row indices and flexible column names\n",
        "-\tit is a sequence of serious objects that share the same index\n",
        "\n",
        "i.e., (series1: city, area) + (series2: city, population) = (DataFrame : city, area, population)\n",
        "\n",
        "\n",
        "**constructing data frame object:**\n",
        "\n",
        "    syntax: pd.DataFrame(data, index = index, columns = cols)\n",
        "-\there data can be anything like list, list of dictionaries, series object, Dictionary of lists, Dictionary of series, 2D numpy array.\n",
        "-\there index to use for resulting frame, must be of same length as data rows\n",
        "-\tcolumn labels to use for resulting frame, must be of same lengths data columns\n",
        "\n",
        "we get a new data frame: consisting table of values sequence of row indices and sequence of column indices.\n",
        "-\tData can be a list, in which index and columns need to give explicitly\n",
        "-\tData can be a dictionary, in which columns default dictionary keys\n",
        "-\tData can be a Dictionary of series, in which index defaults to series indices\n",
        "\n"
      ],
      "metadata": {
        "id": "FLlJTArquPIl"
      }
    },
    {
      "cell_type": "code",
      "source": [
        "# constructing data frame using list\n",
        "data = [[423967, 38332521], [170312, 19552860], [149995, 12882135], [141297, 19651127], [695662, 26448193]]\n",
        "df1 = pd.DataFrame(data, index = ['california', 'florida', 'illinois', 'new york', 'texas'], columns = ['area', 'population'])\n",
        "print(df1)"
      ],
      "metadata": {
        "colab": {
          "base_uri": "https://localhost:8080/"
        },
        "id": "M0bzYXmlthDO",
        "outputId": "95b91595-292d-404f-a43e-bbacffd3bfc2"
      },
      "execution_count": null,
      "outputs": [
        {
          "output_type": "stream",
          "name": "stdout",
          "text": [
            "              area  population\n",
            "california  423967    38332521\n",
            "florida     170312    19552860\n",
            "illinois    149995    12882135\n",
            "new york    141297    19651127\n",
            "texas       695662    26448193\n"
          ]
        }
      ]
    },
    {
      "cell_type": "code",
      "source": [
        "# constructing dataframe using a dictionary\n",
        "data ={'area': [423967, 170312, 149995, 141297, 695662],\n",
        "       'population' : [38332521, 19552860, 12882135, 19651127, 26448193]}\n",
        "df2 = pd.DataFrame(data, index = ['california', 'florida', 'illinois', 'new york', 'texas'])\n",
        "print(df2)"
      ],
      "metadata": {
        "colab": {
          "base_uri": "https://localhost:8080/"
        },
        "id": "u0Qfmt8UvZ98",
        "outputId": "cc23b4ac-51df-413c-c59c-327e4a6e8308"
      },
      "execution_count": null,
      "outputs": [
        {
          "output_type": "stream",
          "name": "stdout",
          "text": [
            "              area  population\n",
            "california  423967    38332521\n",
            "florida     170312    19552860\n",
            "illinois    149995    12882135\n",
            "new york    141297    19651127\n",
            "texas       695662    26448193\n"
          ]
        }
      ]
    },
    {
      "cell_type": "code",
      "source": [
        "#constructing dataframe using a dictionary of series\n",
        "idx = ['california', 'florida', 'illinois', 'new york', 'texas']\n",
        "data = {'area': pd.Series([423967, 170312, 149995, 141297, 695662], index = idx),\n",
        "        'population': pd.Series([38332521, 19552860, 12882135, 19651127, 26448193], index = idx)}\n",
        "df3 = pd.DataFrame(data)\n",
        "print(df3)"
      ],
      "metadata": {
        "colab": {
          "base_uri": "https://localhost:8080/"
        },
        "id": "p_RHYlAlwTri",
        "outputId": "0df9c3bb-783d-4765-d0c1-687d6c1c581b"
      },
      "execution_count": null,
      "outputs": [
        {
          "output_type": "stream",
          "name": "stdout",
          "text": [
            "              area  population\n",
            "california  423967    38332521\n",
            "florida     170312    19552860\n",
            "illinois    149995    12882135\n",
            "new york    141297    19651127\n",
            "texas       695662    26448193\n"
          ]
        }
      ]
    },
    {
      "cell_type": "code",
      "source": [
        "#DataFrame object attributes\n",
        "\n",
        "df = pd.DataFrame({'A': [1,2,3],\n",
        "                   'B': [1,4,9]},\n",
        "                  index = ['a','b','c',])\n",
        "print(\"shape:\", df.shape)\n",
        "print(\"size:\", df.size)\n",
        "print(\"index:\", df.index)\n",
        "print(\"values\", df.values)\n",
        "print(\"transpose\", df.T)"
      ],
      "metadata": {
        "colab": {
          "base_uri": "https://localhost:8080/"
        },
        "id": "Q6EWONaOxK0G",
        "outputId": "84df6280-5880-4629-a96c-29d1cc2779da"
      },
      "execution_count": null,
      "outputs": [
        {
          "output_type": "stream",
          "name": "stdout",
          "text": [
            "shape: (3, 2)\n",
            "size: 6\n",
            "index: Index(['a', 'b', 'c'], dtype='object')\n",
            "values [[1 1]\n",
            " [2 4]\n",
            " [3 9]]\n",
            "transpose    a  b  c\n",
            "A  1  2  3\n",
            "B  1  4  9\n"
          ]
        }
      ]
    },
    {
      "cell_type": "markdown",
      "source": [
        "Shape returns a tuple of shape of the data\n",
        "\n",
        "size returns the size of the data\n",
        "\n",
        "index defines the index of the data frame\n",
        "\n",
        "values returns the values of data frame as list\n",
        "\n",
        "T swap rows and columns\n"
      ],
      "metadata": {
        "id": "CxvBLzZEyCqP"
      }
    },
    {
      "cell_type": "markdown",
      "source": [
        "# **Import/export data with pandas**\n",
        "in pandas we can read by importing the data of CSV, excel, Jason, HTML….etc by using read_*\n",
        "\n",
        "we can export the data to csv, HTML, excel, Jason, SQL…….etc by using to_*\n",
        "\n",
        "-\tpd.read_csv(file name) : read the data from CSV file\n",
        "\n",
        "-\tpd.read_table(file name): read the data from determine text file\n",
        "\n",
        "-\tpd.read_excel(file name): read the data from the excel file\n",
        "\n",
        "-\tPd.read_sql(query, connection_object): read the data from a SQL table/database\n",
        "\n",
        "-\tPd.read_json(json_string): read the data from a Json formatted string, URL, or file\n",
        "\n"
      ],
      "metadata": {
        "id": "v6zMlzA4yN2A"
      }
    },
    {
      "cell_type": "markdown",
      "source": [
        "the pandas functions that can be used to accomplish most of your data tasks are:\n",
        "-\tPd.read_csv()\n",
        "-\tdf.describe()\n",
        "-\tdf.Info()\n",
        "-\tdf.Plot()\n",
        "-\tdf.iloc()\n",
        "-\tdf.loc()\n",
        "-\tdf.query()\n",
        "-\tdf.Sort_values()\n",
        "-\tdf.Isnull()\n",
        "-\tdf.fillna()\n",
        "-\tdf.dropna()\n",
        "-\tdf.drop()\n",
        "-\tdf.groupby()\n",
        "-\tdf.merge()\n",
        "-\tdf.rename()\n",
        "-\tdf.to_csv()\n"
      ],
      "metadata": {
        "id": "1CDwJdI2yXiF"
      }
    },
    {
      "cell_type": "code",
      "source": [],
      "metadata": {
        "id": "lKiQHkeSyAeT"
      },
      "execution_count": null,
      "outputs": []
    }
  ]
}