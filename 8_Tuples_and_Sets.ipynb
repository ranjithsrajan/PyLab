{
  "nbformat": 4,
  "nbformat_minor": 0,
  "metadata": {
    "colab": {
      "provenance": [],
      "include_colab_link": true
    },
    "kernelspec": {
      "name": "python3",
      "display_name": "Python 3"
    },
    "language_info": {
      "name": "python"
    }
  },
  "cells": [
    {
      "cell_type": "markdown",
      "metadata": {
        "id": "view-in-github",
        "colab_type": "text"
      },
      "source": [
        "<a href=\"https://colab.research.google.com/github/ranjithsrajan/PyLab/blob/main/8_Tuples_and_Sets.ipynb\" target=\"_parent\"><img src=\"https://colab.research.google.com/assets/colab-badge.svg\" alt=\"Open In Colab\"/></a>"
      ]
    },
    {
      "cell_type": "code",
      "source": [
        "#@title Walkthrough Video\n",
        "from IPython.display import HTML\n",
        "HTML(\"\"\"<video width=\"620\" height=\"400\" controls>\n",
        "    <source src=\"https://cdn.exec.talentsprint.com/content/8_Tuples_and_Sets.mp4\">\n",
        "</video>\n",
        "\"\"\")"
      ],
      "metadata": {
        "cellView": "form",
        "id": "Dm7KxKfWwk_5",
        "colab": {
          "base_uri": "https://localhost:8080/",
          "height": 421
        },
        "outputId": "aa3d5f42-bb36-44b9-9842-28e0ed8e5154"
      },
      "execution_count": null,
      "outputs": [
        {
          "output_type": "execute_result",
          "data": {
            "text/plain": [
              "<IPython.core.display.HTML object>"
            ],
            "text/html": [
              "<video width=\"620\" height=\"400\" controls>\n",
              "    <source src=\"https://cdn.exec.talentsprint.com/content/8_Tuples_and_Sets.mp4\">\n",
              "</video>\n"
            ]
          },
          "metadata": {},
          "execution_count": 30
        }
      ]
    },
    {
      "cell_type": "code",
      "source": [
        "#@title Run this cell to download the text file\n",
        "!wget https://cdn.iisc.talentsprint.com/romeo.txt"
      ],
      "metadata": {
        "cellView": "form",
        "id": "nBaeX6dZwaLr",
        "colab": {
          "base_uri": "https://localhost:8080/"
        },
        "outputId": "df963ba9-7deb-4bea-d870-93d28267b7e0"
      },
      "execution_count": null,
      "outputs": [
        {
          "output_type": "stream",
          "name": "stdout",
          "text": [
            "--2023-08-21 07:33:48--  https://cdn.iisc.talentsprint.com/romeo.txt\n",
            "Resolving cdn.iisc.talentsprint.com (cdn.iisc.talentsprint.com)... 172.105.52.210\n",
            "Connecting to cdn.iisc.talentsprint.com (cdn.iisc.talentsprint.com)|172.105.52.210|:443... connected.\n",
            "HTTP request sent, awaiting response... 200 OK\n",
            "Length: 169 [text/plain]\n",
            "Saving to: ‘romeo.txt.3’\n",
            "\n",
            "romeo.txt.3         100%[===================>]     169  --.-KB/s    in 0s      \n",
            "\n",
            "2023-08-21 07:33:49 (66.2 MB/s) - ‘romeo.txt.3’ saved [169/169]\n",
            "\n"
          ]
        }
      ]
    },
    {
      "cell_type": "markdown",
      "source": [
        "## **Introduction to Tuples**\n",
        "\n",
        "- Tuples is a collection which is ordered and unchangeable.\n",
        "\n",
        "- It is much like a list, main difference between tuple and list is that tuples are immutable. represented as **( )**.\n",
        "\n",
        "- The values of tuples are syntactically separated by commas."
      ],
      "metadata": {
        "id": "eUMy5yqU1ukB"
      }
    },
    {
      "cell_type": "markdown",
      "source": [
        "**Tuples are like lists**\n",
        "\n",
        "- Tuples are another kind of sequence that functions much like a list - they have elements that are indexed starting at 0"
      ],
      "metadata": {
        "id": "nFw9Af-P2hse"
      }
    },
    {
      "cell_type": "code",
      "execution_count": null,
      "metadata": {
        "id": "YgnAxr60xcQs",
        "colab": {
          "base_uri": "https://localhost:8080/"
        },
        "outputId": "6a232206-ee3d-42b2-e550-39d3edf05b58"
      },
      "outputs": [
        {
          "output_type": "stream",
          "name": "stdout",
          "text": [
            "Joseph\n"
          ]
        }
      ],
      "source": [
        "x = ('Glen', 'Sally', 'Joseph')\n",
        "print(x[2])"
      ]
    },
    {
      "cell_type": "code",
      "source": [
        "y = (1, 9, 2)\n",
        "print(y)"
      ],
      "metadata": {
        "id": "eMVLQZBR22u7",
        "colab": {
          "base_uri": "https://localhost:8080/"
        },
        "outputId": "08029f64-2df3-4d1e-a9b1-9b60bb32e939"
      },
      "execution_count": null,
      "outputs": [
        {
          "output_type": "stream",
          "name": "stdout",
          "text": [
            "(1, 9, 2)\n"
          ]
        }
      ]
    },
    {
      "cell_type": "code",
      "source": [
        "print(max(y))"
      ],
      "metadata": {
        "id": "kUDggyTI27nB",
        "colab": {
          "base_uri": "https://localhost:8080/"
        },
        "outputId": "34823a53-b5c5-4be9-fe42-b6f69289202c"
      },
      "execution_count": null,
      "outputs": [
        {
          "output_type": "stream",
          "name": "stdout",
          "text": [
            "9\n"
          ]
        }
      ]
    },
    {
      "cell_type": "code",
      "source": [
        "for iter in y:\n",
        "    print(iter)"
      ],
      "metadata": {
        "id": "NTtRXGsR2-3a",
        "colab": {
          "base_uri": "https://localhost:8080/"
        },
        "outputId": "afbeba92-6151-42cd-db13-a6a44c68b004"
      },
      "execution_count": null,
      "outputs": [
        {
          "output_type": "stream",
          "name": "stdout",
          "text": [
            "1\n",
            "9\n",
            "2\n"
          ]
        }
      ]
    },
    {
      "cell_type": "markdown",
      "source": [
        "**Tuples are 'immutable'**\n",
        "\n",
        "- Unlike a list, once you create a tuple, you cannot alter its contents - similar to a string."
      ],
      "metadata": {
        "id": "1qT8AY6I3KkV"
      }
    },
    {
      "cell_type": "code",
      "source": [
        "# Lists are mutable\n",
        "x = [9, 8, 7]\n",
        "x[2] = 6\n",
        "print(x)"
      ],
      "metadata": {
        "id": "Te1SNg5g3WXX",
        "colab": {
          "base_uri": "https://localhost:8080/"
        },
        "outputId": "6fd0d460-dab4-4dbf-c10d-8f8d0b0d8034"
      },
      "execution_count": null,
      "outputs": [
        {
          "output_type": "stream",
          "name": "stdout",
          "text": [
            "[9, 8, 6]\n"
          ]
        }
      ]
    },
    {
      "cell_type": "code",
      "source": [
        " #Strings are immutable\n",
        "y = 'ABC'\n",
        "y[2] = 'D'"
      ],
      "metadata": {
        "id": "pPr0mli_8-qn"
      },
      "execution_count": null,
      "outputs": []
    },
    {
      "cell_type": "code",
      "source": [
        "z = (5, 4, 3)\n",
        "z[2] = 0"
      ],
      "metadata": {
        "id": "8xFw9zj-9FVE"
      },
      "execution_count": null,
      "outputs": []
    },
    {
      "cell_type": "markdown",
      "source": [
        "**Things not to do with Tuples**"
      ],
      "metadata": {
        "id": "Qw0ENwPi9PhL"
      }
    },
    {
      "cell_type": "code",
      "source": [
        "x = (3, 2, 1)\n",
        "x.sort()"
      ],
      "metadata": {
        "id": "R1ERAhvy9VvJ"
      },
      "execution_count": null,
      "outputs": []
    },
    {
      "cell_type": "code",
      "source": [
        "x.append(5)"
      ],
      "metadata": {
        "id": "Dnea9JFd9cx3"
      },
      "execution_count": null,
      "outputs": []
    },
    {
      "cell_type": "code",
      "source": [
        "x.reverse()"
      ],
      "metadata": {
        "id": "gA3Jggbb9fF5"
      },
      "execution_count": null,
      "outputs": []
    },
    {
      "cell_type": "markdown",
      "source": [
        "**A Tale if Two Sequences**"
      ],
      "metadata": {
        "id": "sQT9uvC_9j1w"
      }
    },
    {
      "cell_type": "markdown",
      "source": [
        "- Methods available for lists.\n",
        "- Since lists are mutable, these methods help to alter the lists."
      ],
      "metadata": {
        "id": "emVtXCSm9o0Y"
      }
    },
    {
      "cell_type": "code",
      "source": [
        "l = list()\n",
        "dir(l)"
      ],
      "metadata": {
        "id": "5LTmjlUc9xfP",
        "colab": {
          "base_uri": "https://localhost:8080/"
        },
        "outputId": "c844a0ab-4803-4e24-a485-cf48942410f3"
      },
      "execution_count": null,
      "outputs": [
        {
          "output_type": "execute_result",
          "data": {
            "text/plain": [
              "['__add__',\n",
              " '__class__',\n",
              " '__class_getitem__',\n",
              " '__contains__',\n",
              " '__delattr__',\n",
              " '__delitem__',\n",
              " '__dir__',\n",
              " '__doc__',\n",
              " '__eq__',\n",
              " '__format__',\n",
              " '__ge__',\n",
              " '__getattribute__',\n",
              " '__getitem__',\n",
              " '__gt__',\n",
              " '__hash__',\n",
              " '__iadd__',\n",
              " '__imul__',\n",
              " '__init__',\n",
              " '__init_subclass__',\n",
              " '__iter__',\n",
              " '__le__',\n",
              " '__len__',\n",
              " '__lt__',\n",
              " '__mul__',\n",
              " '__ne__',\n",
              " '__new__',\n",
              " '__reduce__',\n",
              " '__reduce_ex__',\n",
              " '__repr__',\n",
              " '__reversed__',\n",
              " '__rmul__',\n",
              " '__setattr__',\n",
              " '__setitem__',\n",
              " '__sizeof__',\n",
              " '__str__',\n",
              " '__subclasshook__',\n",
              " 'append',\n",
              " 'clear',\n",
              " 'copy',\n",
              " 'count',\n",
              " 'extend',\n",
              " 'index',\n",
              " 'insert',\n",
              " 'pop',\n",
              " 'remove',\n",
              " 'reverse',\n",
              " 'sort']"
            ]
          },
          "metadata": {},
          "execution_count": 42
        }
      ]
    },
    {
      "cell_type": "markdown",
      "source": [
        "- Methods available for tuples.\n",
        "- Since tuples are immutable, there are no such methods to alter it."
      ],
      "metadata": {
        "id": "cs9JwVaL92ys"
      }
    },
    {
      "cell_type": "code",
      "source": [
        "t = tuple()\n",
        "dir(t)"
      ],
      "metadata": {
        "id": "JfXkx62V9-7Y",
        "colab": {
          "base_uri": "https://localhost:8080/"
        },
        "outputId": "73e4142d-7f05-40d9-8d2a-f24575a1cc9c"
      },
      "execution_count": null,
      "outputs": [
        {
          "output_type": "execute_result",
          "data": {
            "text/plain": [
              "['__add__',\n",
              " '__class__',\n",
              " '__class_getitem__',\n",
              " '__contains__',\n",
              " '__delattr__',\n",
              " '__dir__',\n",
              " '__doc__',\n",
              " '__eq__',\n",
              " '__format__',\n",
              " '__ge__',\n",
              " '__getattribute__',\n",
              " '__getitem__',\n",
              " '__getnewargs__',\n",
              " '__gt__',\n",
              " '__hash__',\n",
              " '__init__',\n",
              " '__init_subclass__',\n",
              " '__iter__',\n",
              " '__le__',\n",
              " '__len__',\n",
              " '__lt__',\n",
              " '__mul__',\n",
              " '__ne__',\n",
              " '__new__',\n",
              " '__reduce__',\n",
              " '__reduce_ex__',\n",
              " '__repr__',\n",
              " '__rmul__',\n",
              " '__setattr__',\n",
              " '__sizeof__',\n",
              " '__str__',\n",
              " '__subclasshook__',\n",
              " 'count',\n",
              " 'index']"
            ]
          },
          "metadata": {},
          "execution_count": 43
        }
      ]
    },
    {
      "cell_type": "markdown",
      "source": [
        "**Tuples and Assignment**\n",
        "\n",
        "- We can also put a tuple on the left-hand side of an assignment statement\n",
        "- We can even omit the parentheses"
      ],
      "metadata": {
        "id": "T2pIfgqi-GUa"
      }
    },
    {
      "cell_type": "code",
      "source": [
        "(x, y) = (4, 'fred')\n",
        "print(y)"
      ],
      "metadata": {
        "id": "k2muYWRt-FH3",
        "colab": {
          "base_uri": "https://localhost:8080/"
        },
        "outputId": "ee8ed726-003d-4a68-c04c-4f19d5b26edf"
      },
      "execution_count": null,
      "outputs": [
        {
          "output_type": "stream",
          "name": "stdout",
          "text": [
            "fred\n"
          ]
        }
      ]
    },
    {
      "cell_type": "code",
      "source": [
        "a, b = 99, 98\n",
        "print(a)"
      ],
      "metadata": {
        "id": "EhnR-Edk-XxP",
        "colab": {
          "base_uri": "https://localhost:8080/"
        },
        "outputId": "3b45f7bf-5e59-418e-a654-93811bb20427"
      },
      "execution_count": null,
      "outputs": [
        {
          "output_type": "stream",
          "name": "stdout",
          "text": [
            "99\n"
          ]
        }
      ]
    },
    {
      "cell_type": "markdown",
      "source": [
        "**Tuples and Dictionaries**\n",
        "\n",
        "- The items() method in dictionaries returns a list of (key, value) tuples"
      ],
      "metadata": {
        "id": "AYSR4Mz--oz5"
      }
    },
    {
      "cell_type": "code",
      "source": [
        "d = dict()\n",
        "\n",
        "d['mark'] = 2\n",
        "d['steve'] = 4\n",
        "for (k, v) in d.items():\n",
        "    print(k, v)"
      ],
      "metadata": {
        "id": "GIoKxZ-2-0fU",
        "colab": {
          "base_uri": "https://localhost:8080/"
        },
        "outputId": "c2fd8b13-5756-401d-81cc-38a759e73b85"
      },
      "execution_count": null,
      "outputs": [
        {
          "output_type": "stream",
          "name": "stdout",
          "text": [
            "mark 2\n",
            "steve 4\n"
          ]
        }
      ]
    },
    {
      "cell_type": "code",
      "source": [
        "tups = d.items()\n",
        "print(tups)"
      ],
      "metadata": {
        "id": "AvcdE2ld_Avj",
        "colab": {
          "base_uri": "https://localhost:8080/"
        },
        "outputId": "c56f0c8b-c95b-4437-f15d-2297fb3f76c0"
      },
      "execution_count": null,
      "outputs": [
        {
          "output_type": "stream",
          "name": "stdout",
          "text": [
            "dict_items([('mark', 2), ('steve', 4)])\n"
          ]
        }
      ]
    },
    {
      "cell_type": "markdown",
      "source": [
        "**Tuples are Comparable**\n",
        "\n",
        "- The comparison operators work with tuples and other sequences.\n",
        "\n",
        "- If the first item is equal, Python goes on to the next element, and so on, until it finds element that differ."
      ],
      "metadata": {
        "id": "8F2Pw_Ll_Gn4"
      }
    },
    {
      "cell_type": "code",
      "source": [
        "(0, 1, 2) < (5, 1, 2)"
      ],
      "metadata": {
        "id": "gzN4oDou_WKA",
        "colab": {
          "base_uri": "https://localhost:8080/"
        },
        "outputId": "13da5ae7-12de-40de-b1fe-0942be72341a"
      },
      "execution_count": null,
      "outputs": [
        {
          "output_type": "execute_result",
          "data": {
            "text/plain": [
              "True"
            ]
          },
          "metadata": {},
          "execution_count": 48
        }
      ]
    },
    {
      "cell_type": "code",
      "source": [
        "(0, 1, 2000000) < (0, 3, 4)"
      ],
      "metadata": {
        "id": "U7GLudYx_akj",
        "colab": {
          "base_uri": "https://localhost:8080/"
        },
        "outputId": "7ba72672-4562-48fc-c2b5-cec0a9b25ed7"
      },
      "execution_count": null,
      "outputs": [
        {
          "output_type": "execute_result",
          "data": {
            "text/plain": [
              "True"
            ]
          },
          "metadata": {},
          "execution_count": 49
        }
      ]
    },
    {
      "cell_type": "code",
      "source": [
        "('Jones', 'Sally') < ('Jones', 'Sam')"
      ],
      "metadata": {
        "id": "cCfMIhrq_eYO",
        "colab": {
          "base_uri": "https://localhost:8080/"
        },
        "outputId": "7d1bd9bd-9f7f-4a80-b7a7-f6f6ed0eb499"
      },
      "execution_count": null,
      "outputs": [
        {
          "output_type": "execute_result",
          "data": {
            "text/plain": [
              "True"
            ]
          },
          "metadata": {},
          "execution_count": 50
        }
      ]
    },
    {
      "cell_type": "code",
      "source": [
        "('Jones', 'Sally') < ('Adams', 'Sam')"
      ],
      "metadata": {
        "id": "2nNbpHDO_lWY",
        "colab": {
          "base_uri": "https://localhost:8080/"
        },
        "outputId": "38b5e5e4-c177-45ca-899c-d103a45acea1"
      },
      "execution_count": null,
      "outputs": [
        {
          "output_type": "execute_result",
          "data": {
            "text/plain": [
              "False"
            ]
          },
          "metadata": {},
          "execution_count": 51
        }
      ]
    },
    {
      "cell_type": "markdown",
      "source": [
        "**Sorting Lists of Tuples**\n",
        "\n",
        "- We can take advantage of the ability to sort a list of tuples to get a sorted version of a dictionary.\n",
        "- First we sort the dictionary by the key using the items() method and sorted() function."
      ],
      "metadata": {
        "id": "LjqPWrIm_zI8"
      }
    },
    {
      "cell_type": "code",
      "source": [
        "d = {'a' : 10, 'b' : 1, 'c' : 22}\n",
        "d.items()"
      ],
      "metadata": {
        "id": "qdSq2KJHAHXf",
        "colab": {
          "base_uri": "https://localhost:8080/"
        },
        "outputId": "559c9964-6e0b-4f7b-a11a-4c838fdb2204"
      },
      "execution_count": null,
      "outputs": [
        {
          "output_type": "execute_result",
          "data": {
            "text/plain": [
              "dict_items([('a', 10), ('b', 1), ('c', 22)])"
            ]
          },
          "metadata": {},
          "execution_count": 52
        }
      ]
    },
    {
      "cell_type": "code",
      "source": [
        "sorted(d.items())"
      ],
      "metadata": {
        "id": "yUBesKdZAR19",
        "colab": {
          "base_uri": "https://localhost:8080/"
        },
        "outputId": "2d405751-1954-4564-a116-6fc84fd0b892"
      },
      "execution_count": null,
      "outputs": [
        {
          "output_type": "execute_result",
          "data": {
            "text/plain": [
              "[('a', 10), ('b', 1), ('c', 22)]"
            ]
          },
          "metadata": {},
          "execution_count": 53
        }
      ]
    },
    {
      "cell_type": "markdown",
      "source": [
        "**Using sorted()**\n",
        "\n",
        "- we can do this even more directly using the built-in function *sorted* that takes a sequence as a parameter and returns sorted sequence."
      ],
      "metadata": {
        "id": "KSmixt-ZAZER"
      }
    },
    {
      "cell_type": "code",
      "source": [
        "d = {'a' : 10, 'b' : 1, 'c' : 22}\n",
        "t = sorted(d.items())\n",
        "t"
      ],
      "metadata": {
        "id": "LovRJc2yAlxc",
        "colab": {
          "base_uri": "https://localhost:8080/"
        },
        "outputId": "8052e493-fcb6-44a8-cd44-3c9d62e8d47f"
      },
      "execution_count": null,
      "outputs": [
        {
          "output_type": "execute_result",
          "data": {
            "text/plain": [
              "[('a', 10), ('b', 1), ('c', 22)]"
            ]
          },
          "metadata": {},
          "execution_count": 54
        }
      ]
    },
    {
      "cell_type": "code",
      "source": [
        "for k, v in sorted(d.items()):\n",
        "    print(k, v)"
      ],
      "metadata": {
        "id": "gEYNWQJ8Ayp6",
        "colab": {
          "base_uri": "https://localhost:8080/"
        },
        "outputId": "7ca2190f-f3fb-4091-e503-5cbf762a9190"
      },
      "execution_count": null,
      "outputs": [
        {
          "output_type": "stream",
          "name": "stdout",
          "text": [
            "a 10\n",
            "b 1\n",
            "c 22\n"
          ]
        }
      ]
    },
    {
      "cell_type": "markdown",
      "source": [
        "**Sort by values instead of key**\n",
        "\n",
        "- If we could construct a list of tuples of the form(values, keys) we could sort by value\n",
        "- We do this with a *for* loop that creates a list of tuples"
      ],
      "metadata": {
        "id": "9WnJ6C87A4zJ"
      }
    },
    {
      "cell_type": "code",
      "source": [
        "c = {'a' : 10, 'b' : 1, 'c' : 22}\n",
        "\n",
        "tmp = list()\n",
        "for k, v in c.items():\n",
        "    tmp.append((v, k))\n",
        "\n",
        "print(tmp)"
      ],
      "metadata": {
        "id": "eg3Dxh5yBHWY",
        "colab": {
          "base_uri": "https://localhost:8080/"
        },
        "outputId": "3bf77180-4c44-4896-ad78-c954487d813c"
      },
      "execution_count": null,
      "outputs": [
        {
          "output_type": "stream",
          "name": "stdout",
          "text": [
            "[(10, 'a'), (1, 'b'), (22, 'c')]\n"
          ]
        }
      ]
    },
    {
      "cell_type": "code",
      "source": [
        "tmp = sorted(tmp, reverse = True)\n",
        "print(tmp)"
      ],
      "metadata": {
        "id": "438xnG09BT8t",
        "colab": {
          "base_uri": "https://localhost:8080/"
        },
        "outputId": "64124385-352c-492e-e284-65820b1cb70d"
      },
      "execution_count": null,
      "outputs": [
        {
          "output_type": "stream",
          "name": "stdout",
          "text": [
            "[(22, 'c'), (10, 'a'), (1, 'b')]\n"
          ]
        }
      ]
    },
    {
      "cell_type": "code",
      "source": [
        "# If we have a text file\n",
        "fhand = open('romeo.txt') # pass the text file\n",
        "counts = {}\n",
        "for line in fhand:\n",
        "    words = line.split()\n",
        "    for word in words:\n",
        "        counts[word] = counts.get(word, 0) + 1"
      ],
      "metadata": {
        "id": "BqDMvYB-Bsbc"
      },
      "execution_count": null,
      "outputs": []
    },
    {
      "cell_type": "code",
      "source": [
        "lst = [] #empty list\n",
        "for key, val in counts.items():\n",
        "    newtup = (val, key)\n",
        "    lst.append(newtup)\n",
        "\n",
        "lst = sorted(lst, reverse = True)\n",
        "\n",
        "for val, key in lst[:10]:\n",
        "    print(key, val)"
      ],
      "metadata": {
        "id": "f3kfn4jICFs0",
        "colab": {
          "base_uri": "https://localhost:8080/"
        },
        "outputId": "4703b1da-86ca-4222-d649-a4e1c9555814"
      },
      "execution_count": null,
      "outputs": [
        {
          "output_type": "stream",
          "name": "stdout",
          "text": [
            "the 3\n",
            "is 3\n",
            "and 3\n",
            "sun 2\n",
            "yonder 1\n",
            "with 1\n",
            "window 1\n",
            "what 1\n",
            "through 1\n",
            "soft 1\n"
          ]
        }
      ]
    },
    {
      "cell_type": "markdown",
      "source": [
        "**Even shorted version**\n",
        "\n",
        "- We can also use list comprehension to dynamically create a list of reversed tuples and then sort it."
      ],
      "metadata": {
        "id": "8BOLijikCuSO"
      }
    },
    {
      "cell_type": "code",
      "source": [
        "c = {'a' : 10, 'b' : 1, 'c' : 22}\n",
        "print(sorted([(v, k) for k, v in c.items()]))"
      ],
      "metadata": {
        "id": "ePoHdR-DC3hv",
        "colab": {
          "base_uri": "https://localhost:8080/"
        },
        "outputId": "906a5596-d062-4984-e0b4-a20ab3f5d66d"
      },
      "execution_count": null,
      "outputs": [
        {
          "output_type": "stream",
          "name": "stdout",
          "text": [
            "[(1, 'b'), (10, 'a'), (22, 'c')]\n"
          ]
        }
      ]
    },
    {
      "cell_type": "markdown",
      "source": [
        "## **Introduction to Sets**\n",
        "\n",
        "- A set is an object that stores a collection of data in the same way as mathematical sets. It is an unordered collections of object, unlike sequence objects such as lists and tuples.\n",
        "\n"
      ],
      "metadata": {
        "id": "ljbAStCfDHZ-"
      }
    },
    {
      "cell_type": "markdown",
      "source": [
        "- All elements in the set must be unique, this are unordered, i.e. its elements are not stored in any particular order.\n",
        "- The elements that are stored in a set can be of different data types.\n",
        "\n",
        "- However, the set itself is mutable. i,e. we can add or remove items from it.\n",
        "\n",
        "- Sets can be used to perform mathematical set operations like union, intersection, symmetric differences, etc."
      ],
      "metadata": {
        "id": "EmThKT4pDk9b"
      }
    },
    {
      "cell_type": "markdown",
      "source": [
        "**Creating of a Set**\n"
      ],
      "metadata": {
        "id": "aoVvfZztEPE-"
      }
    },
    {
      "cell_type": "markdown",
      "source": [
        "- A set is created by placing all the elements inside curly braces **{}**, seperated by comma or by using the built-in function **set{}**"
      ],
      "metadata": {
        "id": "hRHDzdZgESXn"
      }
    },
    {
      "cell_type": "code",
      "source": [
        "# Creating a set\n",
        "numberSet = {1, 2, 3, 4, 3, 2}\n",
        "print(numberSet)"
      ],
      "metadata": {
        "id": "gIR14qUUDhfl",
        "colab": {
          "base_uri": "https://localhost:8080/"
        },
        "outputId": "04c0ffb8-1fe4-4cb9-8099-0548780c9768"
      },
      "execution_count": null,
      "outputs": [
        {
          "output_type": "stream",
          "name": "stdout",
          "text": [
            "{1, 2, 3, 4}\n"
          ]
        }
      ]
    },
    {
      "cell_type": "markdown",
      "source": [
        "- The elements can be of different types(integer, float, tuple. string, etc.)"
      ],
      "metadata": {
        "id": "kH0xmgeiEsjh"
      }
    },
    {
      "cell_type": "code",
      "source": [
        "# Creating an empty set\n",
        "emptySet = {} # This creates a Dictionary\n",
        "print(type(emptySet))"
      ],
      "metadata": {
        "id": "E6QeVz1SE1Ek",
        "colab": {
          "base_uri": "https://localhost:8080/"
        },
        "outputId": "e91e73b2-a14b-468a-83e7-9022c45d0b1a"
      },
      "execution_count": null,
      "outputs": [
        {
          "output_type": "stream",
          "name": "stdout",
          "text": [
            "<class 'dict'>\n"
          ]
        }
      ]
    },
    {
      "cell_type": "markdown",
      "source": [
        "- But a set cannot have a mutable element, like list or dictionary"
      ],
      "metadata": {
        "id": "Ok6RYJm4E-l6"
      }
    },
    {
      "cell_type": "code",
      "source": [
        "emptySet = set() # this creates an empty set\n",
        "print(type(emptySet))"
      ],
      "metadata": {
        "id": "hGVJtL7lE9vL",
        "colab": {
          "base_uri": "https://localhost:8080/"
        },
        "outputId": "be84922d-26c8-4291-a455-1a282b0c5490"
      },
      "execution_count": null,
      "outputs": [
        {
          "output_type": "stream",
          "name": "stdout",
          "text": [
            "<class 'set'>\n"
          ]
        }
      ]
    },
    {
      "cell_type": "markdown",
      "source": [
        "- A set can contain elements of different types"
      ],
      "metadata": {
        "id": "I3fbZdpuFNA1"
      }
    },
    {
      "cell_type": "code",
      "source": [
        "# A set of mixed data types\n",
        "my_set = (1.0, 'Hello', (1, 2, 3))\n",
        "print(my_set)"
      ],
      "metadata": {
        "id": "qd8b2I1VFRt1",
        "colab": {
          "base_uri": "https://localhost:8080/"
        },
        "outputId": "c8e0002b-4fdf-4d3f-caba-e4700febbf77"
      },
      "execution_count": null,
      "outputs": [
        {
          "output_type": "stream",
          "name": "stdout",
          "text": [
            "(1.0, 'Hello', (1, 2, 3))\n"
          ]
        }
      ]
    },
    {
      "cell_type": "markdown",
      "source": [
        "- A Set cannot contain lists"
      ],
      "metadata": {
        "id": "Pe3zBa5zFcyj"
      }
    },
    {
      "cell_type": "code",
      "source": [
        "# Creating an empty set\n",
        "set_with_lists = {[1, 2, 3]}"
      ],
      "metadata": {
        "id": "IkyDjqXcFcED",
        "colab": {
          "base_uri": "https://localhost:8080/",
          "height": 193
        },
        "outputId": "c82f9717-c275-4d81-c20e-faeaafe14a9f"
      },
      "execution_count": null,
      "outputs": [
        {
          "output_type": "error",
          "ename": "TypeError",
          "evalue": "ignored",
          "traceback": [
            "\u001b[0;31m---------------------------------------------------------------------------\u001b[0m",
            "\u001b[0;31mTypeError\u001b[0m                                 Traceback (most recent call last)",
            "\u001b[0;32m<ipython-input-65-35c0a2f8d7cd>\u001b[0m in \u001b[0;36m<cell line: 2>\u001b[0;34m()\u001b[0m\n\u001b[1;32m      1\u001b[0m \u001b[0;31m# Creating an empty set\u001b[0m\u001b[0;34m\u001b[0m\u001b[0;34m\u001b[0m\u001b[0m\n\u001b[0;32m----> 2\u001b[0;31m \u001b[0mset_with_lists\u001b[0m \u001b[0;34m=\u001b[0m \u001b[0;34m{\u001b[0m\u001b[0;34m[\u001b[0m\u001b[0;36m1\u001b[0m\u001b[0;34m,\u001b[0m \u001b[0;36m2\u001b[0m\u001b[0;34m,\u001b[0m \u001b[0;36m3\u001b[0m\u001b[0;34m]\u001b[0m\u001b[0;34m}\u001b[0m\u001b[0;34m\u001b[0m\u001b[0;34m\u001b[0m\u001b[0m\n\u001b[0m",
            "\u001b[0;31mTypeError\u001b[0m: unhashable type: 'list'"
          ]
        }
      ]
    },
    {
      "cell_type": "markdown",
      "source": [
        "- We can convert a list to set using set function"
      ],
      "metadata": {
        "id": "m4_h2Um-Fk04"
      }
    },
    {
      "cell_type": "code",
      "source": [
        "set_with_lists = set([1, 2, 3])\n",
        "print(type(set_with_lists))\n",
        "print(set_with_lists)"
      ],
      "metadata": {
        "id": "IbH4A-awFoT5",
        "colab": {
          "base_uri": "https://localhost:8080/"
        },
        "outputId": "f0161c0e-1a0f-47bc-9836-d638e96014c7"
      },
      "execution_count": null,
      "outputs": [
        {
          "output_type": "stream",
          "name": "stdout",
          "text": [
            "<class 'set'>\n",
            "{1, 2, 3}\n"
          ]
        }
      ]
    },
    {
      "cell_type": "markdown",
      "source": [
        "**Adding elements to set**\n",
        "\n",
        "- Sets are mutable. but since they are unordered, indexing has no meaning.\n",
        "\n",
        "- We cannot access or change an element of a set using indexing or slicing"
      ],
      "metadata": {
        "id": "oX7ntgOAF0qt"
      }
    },
    {
      "cell_type": "code",
      "source": [
        "my_set = set()\n",
        "my_set.update([9, 12])\n",
        "my_set.update((3, 5))\n",
        "my_set.update('SIKANDER')\n",
        "print(my_set)"
      ],
      "metadata": {
        "id": "y5ohgyD6GFpJ",
        "colab": {
          "base_uri": "https://localhost:8080/"
        },
        "outputId": "1ef9a66d-0d3d-4ec5-afd8-cff9ed5eb7f6"
      },
      "execution_count": null,
      "outputs": [
        {
          "output_type": "stream",
          "name": "stdout",
          "text": [
            "{3, 5, 9, 'R', 12, 'K', 'A', 'E', 'S', 'D', 'I', 'N'}\n"
          ]
        }
      ]
    },
    {
      "cell_type": "markdown",
      "source": [
        "- We can add single element using the **add()** method and multiple elements using the **update()** method\n",
        "\n",
        "- The update() method can take tuples, lists, strings or other sets as its aruguments.\n",
        "\n",
        "- In all cases, duplicates are avoided"
      ],
      "metadata": {
        "id": "sItB7fcWGWvp"
      }
    },
    {
      "cell_type": "code",
      "source": [
        "my_set.update(('INDIA', 'BHARAT'))\n",
        "print(my_set)"
      ],
      "metadata": {
        "id": "ZXNEd7GkGoXe",
        "colab": {
          "base_uri": "https://localhost:8080/"
        },
        "outputId": "4366f253-8db5-4ab8-b072-db86e0de23a6"
      },
      "execution_count": null,
      "outputs": [
        {
          "output_type": "stream",
          "name": "stdout",
          "text": [
            "{3, 5, 'BHARAT', 9, 'R', 12, 'INDIA', 'K', 'A', 'E', 'S', 'D', 'I', 'N'}\n"
          ]
        }
      ]
    },
    {
      "cell_type": "code",
      "source": [
        "my_set.update(4, 5)\n"
      ],
      "metadata": {
        "id": "JTdZn0TJGvY2",
        "colab": {
          "base_uri": "https://localhost:8080/",
          "height": 175
        },
        "outputId": "0b15c4ab-0aee-479f-f7d5-df7f132ad710"
      },
      "execution_count": null,
      "outputs": [
        {
          "output_type": "error",
          "ename": "TypeError",
          "evalue": "ignored",
          "traceback": [
            "\u001b[0;31m---------------------------------------------------------------------------\u001b[0m",
            "\u001b[0;31mTypeError\u001b[0m                                 Traceback (most recent call last)",
            "\u001b[0;32m<ipython-input-69-e3909b7b79fa>\u001b[0m in \u001b[0;36m<cell line: 1>\u001b[0;34m()\u001b[0m\n\u001b[0;32m----> 1\u001b[0;31m \u001b[0mmy_set\u001b[0m\u001b[0;34m.\u001b[0m\u001b[0mupdate\u001b[0m\u001b[0;34m(\u001b[0m\u001b[0;36m4\u001b[0m\u001b[0;34m,\u001b[0m \u001b[0;36m5\u001b[0m\u001b[0;34m)\u001b[0m\u001b[0;34m\u001b[0m\u001b[0;34m\u001b[0m\u001b[0m\n\u001b[0m",
            "\u001b[0;31mTypeError\u001b[0m: 'int' object is not iterable"
          ]
        }
      ]
    },
    {
      "cell_type": "markdown",
      "source": [
        "**Remove elements from a Set**\n",
        "\n",
        "- A particular item can be removed from set using methods, disard() and remove().\n"
      ],
      "metadata": {
        "id": "E9lN7DYtG1DQ"
      }
    },
    {
      "cell_type": "code",
      "source": [
        "print(my_set)"
      ],
      "metadata": {
        "id": "CZ3L4uieG-dS",
        "colab": {
          "base_uri": "https://localhost:8080/"
        },
        "outputId": "a6fc37e1-1dde-4c11-b5b2-84ced094cedb"
      },
      "execution_count": null,
      "outputs": [
        {
          "output_type": "stream",
          "name": "stdout",
          "text": [
            "{3, 5, 'BHARAT', 9, 'R', 12, 'INDIA', 'K', 'A', 'E', 'S', 'D', 'I', 'N'}\n"
          ]
        }
      ]
    },
    {
      "cell_type": "markdown",
      "source": [
        "- Using discard(), if the item does not exit in the set, it remains unchanged."
      ],
      "metadata": {
        "id": "YdlVINdGHBax"
      }
    },
    {
      "cell_type": "code",
      "source": [
        "my_set.discard(12)\n",
        "print(my_set)"
      ],
      "metadata": {
        "id": "ykkifJC3HA_8",
        "colab": {
          "base_uri": "https://localhost:8080/"
        },
        "outputId": "2a85d90a-63c5-4dc7-d06f-db28ff2bf1dc"
      },
      "execution_count": null,
      "outputs": [
        {
          "output_type": "stream",
          "name": "stdout",
          "text": [
            "{3, 5, 'BHARAT', 9, 'R', 'INDIA', 'K', 'A', 'E', 'S', 'D', 'I', 'N'}\n"
          ]
        }
      ]
    },
    {
      "cell_type": "markdown",
      "source": [
        "- But using remove(), if the items does not exist in the set, it will raise an error."
      ],
      "metadata": {
        "id": "tToomejoHMm3"
      }
    },
    {
      "cell_type": "code",
      "source": [
        "my_set.remove(15)"
      ],
      "metadata": {
        "id": "aJ4vgfrFHMUX",
        "colab": {
          "base_uri": "https://localhost:8080/",
          "height": 175
        },
        "outputId": "e90a9f70-6680-4c04-97a9-75fc4b47fb91"
      },
      "execution_count": null,
      "outputs": [
        {
          "output_type": "error",
          "ename": "KeyError",
          "evalue": "ignored",
          "traceback": [
            "\u001b[0;31m---------------------------------------------------------------------------\u001b[0m",
            "\u001b[0;31mKeyError\u001b[0m                                  Traceback (most recent call last)",
            "\u001b[0;32m<ipython-input-72-70ed28938912>\u001b[0m in \u001b[0;36m<cell line: 1>\u001b[0;34m()\u001b[0m\n\u001b[0;32m----> 1\u001b[0;31m \u001b[0mmy_set\u001b[0m\u001b[0;34m.\u001b[0m\u001b[0mremove\u001b[0m\u001b[0;34m(\u001b[0m\u001b[0;36m15\u001b[0m\u001b[0;34m)\u001b[0m\u001b[0;34m\u001b[0m\u001b[0;34m\u001b[0m\u001b[0m\n\u001b[0m",
            "\u001b[0;31mKeyError\u001b[0m: 15"
          ]
        }
      ]
    },
    {
      "cell_type": "markdown",
      "source": [
        "**Set Membership Test**\n",
        "\n",
        "- We can test if an item exists in a set or not, using the **in** operator."
      ],
      "metadata": {
        "id": "OS2t-bKtHai0"
      }
    },
    {
      "cell_type": "code",
      "source": [
        "# Initialize my set\n",
        "my_set = set('apple')"
      ],
      "metadata": {
        "id": "YcZ2wFp5QsUC"
      },
      "execution_count": null,
      "outputs": []
    },
    {
      "cell_type": "code",
      "source": [
        "# check if 'a' is present\n",
        "# output: True\n",
        "print('a' in my_set)"
      ],
      "metadata": {
        "id": "hqjuDoRuRhzg",
        "colab": {
          "base_uri": "https://localhost:8080/"
        },
        "outputId": "a81444a8-f483-4f6b-df38-4cacaba4c70c"
      },
      "execution_count": null,
      "outputs": [
        {
          "output_type": "stream",
          "name": "stdout",
          "text": [
            "True\n"
          ]
        }
      ]
    },
    {
      "cell_type": "code",
      "source": [
        "# check if 'p' is present\n",
        "# output: False\n",
        "print('p' not in my_set)"
      ],
      "metadata": {
        "id": "8DoS_lEASa1r",
        "colab": {
          "base_uri": "https://localhost:8080/"
        },
        "outputId": "2d3d2e06-5604-464d-e307-180292dddf16"
      },
      "execution_count": null,
      "outputs": [
        {
          "output_type": "stream",
          "name": "stdout",
          "text": [
            "False\n"
          ]
        }
      ]
    },
    {
      "cell_type": "markdown",
      "source": [
        "**Remove Duplicate Elements**\n",
        "\n",
        "- Given a list of elements, remove the duplicate elements.\n",
        "\n",
        "- Read a string and find the number of unique characters in it."
      ],
      "metadata": {
        "id": "a0sS5-TwSmwT"
      }
    },
    {
      "cell_type": "code",
      "source": [
        "data = 'cranes varsity bangalore'\n",
        "unique = set(data)\n",
        "print('Number of unique characters=', len(unique))\n",
        "print('List of unique characters=', unique)"
      ],
      "metadata": {
        "id": "U5GSI6i4SyHE",
        "colab": {
          "base_uri": "https://localhost:8080/"
        },
        "outputId": "8a6bebb6-a425-4efa-b5da-e3384247999e"
      },
      "execution_count": null,
      "outputs": [
        {
          "output_type": "stream",
          "name": "stdout",
          "text": [
            "Number of unique characters= 15\n",
            "List of unique characters= {'o', 'v', 'e', 'i', 'c', 'r', 't', 's', 'a', 'l', 'b', 'g', ' ', 'y', 'n'}\n"
          ]
        }
      ]
    },
    {
      "cell_type": "code",
      "source": [
        "data = list(data)\n",
        "for ele in unique:\n",
        "    data.remove(ele)\n",
        "print('Repeated character', set(data))"
      ],
      "metadata": {
        "id": "dq_OxLe8TBTs",
        "colab": {
          "base_uri": "https://localhost:8080/"
        },
        "outputId": "7fcbd627-145f-4513-e62d-4f33fa3586e5"
      },
      "execution_count": null,
      "outputs": [
        {
          "output_type": "stream",
          "name": "stdout",
          "text": [
            "Repeated character {'e', 'r', 's', 'a', ' ', 'n'}\n"
          ]
        }
      ]
    },
    {
      "cell_type": "markdown",
      "source": [
        "**Set Operations**\n",
        "\n",
        "- Sets can be used to carry out mathematical set operations like union, intersection, difference, and symmetric difference.\n",
        "\n",
        "- We can do this with operators or methods"
      ],
      "metadata": {
        "id": "i-sK5AuqTTMc"
      }
    },
    {
      "cell_type": "code",
      "source": [
        "# Example: Set Operations\n",
        "A = {1, 2, 3, 4, 5}\n",
        "B = {4, 5, 6, 7, 8}\n",
        "\n",
        "print('Union          =', A|B)\n",
        "print('Intersection   =', A&B)\n",
        "print('Difference     =', A-B)\n",
        "print('Symmetric Diff =', A^B)"
      ],
      "metadata": {
        "id": "ZqBVgXL2TgFT",
        "colab": {
          "base_uri": "https://localhost:8080/"
        },
        "outputId": "9d69fb39-8659-4c04-8df6-a255a9e3c614"
      },
      "execution_count": null,
      "outputs": [
        {
          "output_type": "stream",
          "name": "stdout",
          "text": [
            "Union          = {1, 2, 3, 4, 5, 6, 7, 8}\n",
            "Intersection   = {4, 5}\n",
            "Difference     = {1, 2, 3}\n",
            "Symmetric Diff = {1, 2, 3, 6, 7, 8}\n"
          ]
        }
      ]
    }
  ]
}