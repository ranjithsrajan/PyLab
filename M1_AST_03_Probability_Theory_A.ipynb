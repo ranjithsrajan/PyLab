{
  "nbformat": 4,
  "nbformat_minor": 0,
  "metadata": {
    "colab": {
      "provenance": [],
      "include_colab_link": true
    },
    "kernelspec": {
      "display_name": "Python 3",
      "language": "python",
      "name": "python3"
    },
    "language_info": {
      "codemirror_mode": {
        "name": "ipython",
        "version": 3
      },
      "file_extension": ".py",
      "mimetype": "text/x-python",
      "name": "python",
      "nbconvert_exporter": "python",
      "pygments_lexer": "ipython3",
      "version": "3.6.9"
    }
  },
  "cells": [
    {
      "cell_type": "markdown",
      "metadata": {
        "id": "view-in-github",
        "colab_type": "text"
      },
      "source": [
        "<a href=\"https://colab.research.google.com/github/ranjithsrajan/PyLab/blob/main/M1_AST_03_Probability_Theory_A.ipynb\" target=\"_parent\"><img src=\"https://colab.research.google.com/assets/colab-badge.svg\" alt=\"Open In Colab\"/></a>"
      ]
    },
    {
      "cell_type": "markdown",
      "metadata": {
        "id": "IogjBmZ71g_S"
      },
      "source": [
        "# Applied Data Science and Machine Learning\n",
        "## A program by IITM and TalentSprint\n",
        "### Assignment 03: Probability Theory"
      ]
    },
    {
      "cell_type": "markdown",
      "metadata": {
        "id": "innocent-wiring"
      },
      "source": [
        "## Learning Objectives"
      ]
    },
    {
      "cell_type": "markdown",
      "metadata": {
        "id": "6QUrjYx0GTIY"
      },
      "source": [
        "At the end of the experiment, you will be able to\n",
        "\n",
        "* understand the basics of probability including the three axioms of probability.\n",
        "* use of discrete and continuous random variables.\n",
        "* probability mass function and probability density functions\n",
        "* some common probability distributions.\n",
        "* Moment and expectation of random variables.\n",
        "* covariance and correlation between random variables"
      ]
    },
    {
      "cell_type": "markdown",
      "metadata": {
        "id": "3eRpgzsvJu2S"
      },
      "source": [
        "### Setup Steps:"
      ]
    },
    {
      "cell_type": "code",
      "execution_count": 1,
      "metadata": {
        "id": "fsOlBlV_Ju2Y"
      },
      "outputs": [],
      "source": [
        "#@title Please enter your registration id to start: { run: \"auto\", display-mode: \"form\" }\n",
        "Id = \"2419592\" #@param {type:\"string\"}"
      ]
    },
    {
      "cell_type": "code",
      "execution_count": 2,
      "metadata": {
        "id": "4dNYcgJgJu2Z"
      },
      "outputs": [],
      "source": [
        "#@title Please enter your password (your registered phone number) to continue: { run: \"auto\", display-mode: \"form\" }\n",
        "password = \"9845319358\" #@param {type:\"string\"}"
      ]
    },
    {
      "cell_type": "code",
      "execution_count": 3,
      "metadata": {
        "cellView": "form",
        "id": "dAZdUXNJJu2Z",
        "outputId": "0b16e3ee-1549-4696-cb9e-7cf7d60ffee1",
        "colab": {
          "base_uri": "https://localhost:8080/",
          "height": 35
        }
      },
      "outputs": [
        {
          "output_type": "display_data",
          "data": {
            "text/plain": [
              "<IPython.core.display.HTML object>"
            ],
            "text/html": [
              "<script src=\"https://dashboard.talentsprint.com/aiml/record_ip.html?traineeId=2419592&recordId=581\"></script>"
            ]
          },
          "metadata": {}
        },
        {
          "output_type": "stream",
          "name": "stdout",
          "text": [
            "Setup completed successfully\n"
          ]
        }
      ],
      "source": [
        "#@title Run this cell to complete the setup for this Notebook\n",
        "from IPython import get_ipython\n",
        "\n",
        "ipython = get_ipython()\n",
        "\n",
        "notebook= \"M1_AST_03_Probability_Theory_A\" #name of the notebook\n",
        "\n",
        "def setup():\n",
        "#  ipython.magic(\"sx pip3 install torch\")\n",
        "    from IPython.display import HTML, display\n",
        "    ipython.magic(\"sx wget https://cdn.iisc.talentsprint.com/ADSMI/Datasets/SIMPLEPENDULUMOSCILLATIONDATA.zip\")\n",
        "    ipython.magic(\"sx unzip SIMPLEPENDULUMOSCILLATIONDATA.zip\")\n",
        "    display(HTML('<script src=\"https://dashboard.talentsprint.com/aiml/record_ip.html?traineeId={0}&recordId={1}\"></script>'.format(getId(),submission_id)))\n",
        "    print(\"Setup completed successfully\")\n",
        "    return\n",
        "\n",
        "def submit_notebook():\n",
        "    ipython.magic(\"notebook -e \"+ notebook + \".ipynb\")\n",
        "\n",
        "    import requests, json, base64, datetime\n",
        "\n",
        "    url = \"https://dashboard.talentsprint.com/xp/app/save_notebook_attempts\"\n",
        "    if not submission_id:\n",
        "      data = {\"id\" : getId(), \"notebook\" : notebook, \"mobile\" : getPassword()}\n",
        "      r = requests.post(url, data = data)\n",
        "      r = json.loads(r.text)\n",
        "\n",
        "      if r[\"status\"] == \"Success\":\n",
        "          return r[\"record_id\"]\n",
        "      elif \"err\" in r:\n",
        "        print(r[\"err\"])\n",
        "        return None\n",
        "      else:\n",
        "        print (\"Something is wrong, the notebook will not be submitted for grading\")\n",
        "        return None\n",
        "\n",
        "    elif getAnswer() and getComplexity() and getAdditional() and getConcepts() and getComments() and getMentorSupport():\n",
        "      f = open(notebook + \".ipynb\", \"rb\")\n",
        "      file_hash = base64.b64encode(f.read())\n",
        "\n",
        "      data = {\"complexity\" : Complexity, \"additional\" :Additional,\n",
        "              \"concepts\" : Concepts, \"record_id\" : submission_id,\n",
        "              \"answer\" : Answer, \"id\" : Id, \"file_hash\" : file_hash,\n",
        "              \"notebook\" : notebook,\n",
        "              \"feedback_experiments_input\" : Comments,\n",
        "              \"feedback_mentor_support\": Mentor_support}\n",
        "      r = requests.post(url, data = data)\n",
        "      r = json.loads(r.text)\n",
        "      if \"err\" in r:\n",
        "        print(r[\"err\"])\n",
        "        return None\n",
        "      else:\n",
        "        print(\"Your submission is successful.\")\n",
        "        print(\"Ref Id:\", submission_id)\n",
        "        print(\"Date of submission: \", r[\"date\"])\n",
        "        print(\"Time of submission: \", r[\"time\"])\n",
        "        print(\"View your submissions: https://learn-iitm.talentsprint.com/notebook_submissions\")\n",
        "        #print(\"For any queries/discrepancies, please connect with mentors through the chat icon in LMS dashboard.\")\n",
        "        return submission_id\n",
        "    else: submission_id\n",
        "\n",
        "\n",
        "def getAdditional():\n",
        "  try:\n",
        "    if not Additional:\n",
        "      raise NameError\n",
        "    else:\n",
        "      return Additional\n",
        "  except NameError:\n",
        "    print (\"Please answer Additional Question\")\n",
        "    return None\n",
        "\n",
        "def getComplexity():\n",
        "  try:\n",
        "    if not Complexity:\n",
        "      raise NameError\n",
        "    else:\n",
        "      return Complexity\n",
        "  except NameError:\n",
        "    print (\"Please answer Complexity Question\")\n",
        "    return None\n",
        "\n",
        "def getConcepts():\n",
        "  try:\n",
        "    if not Concepts:\n",
        "      raise NameError\n",
        "    else:\n",
        "      return Concepts\n",
        "  except NameError:\n",
        "    print (\"Please answer Concepts Question\")\n",
        "    return None\n",
        "\n",
        "\n",
        "# def getWalkthrough():\n",
        "#   try:\n",
        "#     if not Walkthrough:\n",
        "#       raise NameError\n",
        "#     else:\n",
        "#       return Walkthrough\n",
        "#   except NameError:\n",
        "#     print (\"Please answer Walkthrough Question\")\n",
        "#     return None\n",
        "\n",
        "def getComments():\n",
        "  try:\n",
        "    if not Comments:\n",
        "      raise NameError\n",
        "    else:\n",
        "      return Comments\n",
        "  except NameError:\n",
        "    print (\"Please answer Comments Question\")\n",
        "    return None\n",
        "\n",
        "\n",
        "def getMentorSupport():\n",
        "  try:\n",
        "    if not Mentor_support:\n",
        "      raise NameError\n",
        "    else:\n",
        "      return Mentor_support\n",
        "  except NameError:\n",
        "    print (\"Please answer Mentor support Question\")\n",
        "    return None\n",
        "\n",
        "def getAnswer():\n",
        "  try:\n",
        "    if not Answer:\n",
        "      raise NameError\n",
        "    else:\n",
        "      return Answer\n",
        "  except NameError:\n",
        "    print (\"Please answer Question\")\n",
        "    return None\n",
        "\n",
        "\n",
        "def getId():\n",
        "  try:\n",
        "    return Id if Id else None\n",
        "  except NameError:\n",
        "    return None\n",
        "\n",
        "def getPassword():\n",
        "  try:\n",
        "    return password if password else None\n",
        "  except NameError:\n",
        "    return None\n",
        "\n",
        "submission_id = None\n",
        "### Setup\n",
        "if getPassword() and getId():\n",
        "  submission_id = submit_notebook()\n",
        "  if submission_id:\n",
        "    setup()\n",
        "else:\n",
        "  print (\"Please complete Id and Password cells before running setup\")\n",
        "\n"
      ]
    },
    {
      "cell_type": "markdown",
      "metadata": {
        "id": "Baf65OJSgWjP"
      },
      "source": [
        "### Introduction"
      ]
    },
    {
      "cell_type": "markdown",
      "metadata": {
        "id": "TN0At14f2C40"
      },
      "source": [
        "Probability and statistics form the core of data science. It helps us estimate and predict outcome of different occurances which in turn, helps us make informed decisions. Probability is thus indispencable for analyzing real world data. In this assignment we will introduce the basic concepts of probability.\n",
        "\n",
        "In it's simplest form, probability can be thought of the chance of occurance of a certain outcome among all possible outcomes. All possible outcomes is often denoted by the term *sample space* often denoted by $S$. The set of favouranble outcomes can be denoted by $F$. Then the mathematical formula for calculating probability is:\n",
        "\n",
        "<center>$ P(Event) = \\frac{Number ~of ~favourable ~outcomes}{Total ~number ~of ~outcomes} = \\frac{n(F)}{n(S)} $</center>\n",
        "\n",
        "<!-- <center>$ P(Event) = \\frac{n(F)}{n(S)} $</center> -->\n",
        "\n",
        "\n",
        "\n",
        "In this assignment, we start with three axioms of probability which are essential for it's understanding."
      ]
    },
    {
      "cell_type": "markdown",
      "metadata": {
        "id": "aqcmow3CJb5F"
      },
      "source": [
        "### Three axioms of probability theory\n",
        "\n",
        "1. Probability of any event lies between 0 and 1.\n",
        "> Therefore for any event $E$, $0 \\leq P(E) \\leq 1$, where $P(E)$ is the probability of the event.\n",
        "\n",
        "2. The total probability of a sample space $S$, is 1.\n",
        "> Therefore, $P(S) = 1$.\n",
        "\n",
        "3. When event A and event B are mutually exclusive i.e. if they cannot occur at the same time. This means that A and B do not share any outcomes and P(A AND B) = 0, then $P(A \\cap B) = 0$. This can also be represented as $P(A \\cup B) = P(A) + P(B)$.\n",
        "\n",
        "### Other important formulas and terms in probability\n",
        "1. Addition rule in probability: $P(A \\cup B) = P(A) + P(B) - P(A \\cap B)$\n",
        "2. Complementary event of $A$ is denoted by $A'$. $A'$ follows the following properties\n",
        "> The union of $A'$ and $A$ is equal to the total sample space $S$. Therefore, $A' \\cup A = S$ <br>\n",
        "> Therefore, $P(A') = 1 - P(A)$\n"
      ]
    },
    {
      "cell_type": "markdown",
      "metadata": {
        "id": "-qxGEcFIkai0"
      },
      "source": [
        "### Import the necessary packages for the following examples"
      ]
    },
    {
      "cell_type": "code",
      "metadata": {
        "id": "ahB0IZYekiUN"
      },
      "source": [
        "import random\n",
        "import numpy as np\n",
        "import scipy\n",
        "from itertools import product\n",
        "import seaborn as sns\n",
        "import pandas as pd\n",
        "import matplotlib.pyplot as plt"
      ],
      "execution_count": 4,
      "outputs": []
    },
    {
      "cell_type": "markdown",
      "metadata": {
        "id": "AxlpF70XaQLl"
      },
      "source": [
        "#### Examples\n",
        "**Q1. Calculate the probability of getting an odd number when a dice is rolled.**\n",
        "\n",
        "Ans - The sample space $S$ of the dice roll experiment is $S = \\{1, 2, 3, 4, 5, 6\\}$. Event $A$ is getting an even number after rolling the dice. The favourable outcomes for this problem are $F = \\{1, 3, 5\\}$. Therefore, the probability of getting an odd number when a dice is rolled is $\\frac{n(F)}{n(S)} = \\frac{3}{6} = \\frac{1}{2}$.\n",
        "\n",
        "\n",
        "**Q2. Getting $4$ or $5$ in a dice throw?**\n",
        "\n",
        "Ans - The first thing to note here is that, we can never get $4$ and $5$ together in a dice throw. Therefore, $P(A \\cap B) = 0$. Therefore, the outcomes of the throw is mutually exclusive. Thus, $P(A \\cup B) = P(A) + P(B) = \\frac{1}{6} + \\frac{1}{6} = \\frac{1}{3}$\n",
        "\n"
      ]
    },
    {
      "cell_type": "code",
      "metadata": {
        "id": "tsYUE770jiCH"
      },
      "source": [
        "# Let us define a function for probability which we will use multiple times later.\n",
        "# Here both the variables passed to the function is n(F) and n(S)\n",
        "def find_prob(favourable_outcomes, sample_space):\n",
        "  if sample_space < favourable_outcomes:\n",
        "    print (\"There is a mistake in calculation. Probability <= 1\")\n",
        "    return -1\n",
        "  else:\n",
        "    prob = favourable_outcomes/sample_space\n",
        "    return prob"
      ],
      "execution_count": 5,
      "outputs": []
    },
    {
      "cell_type": "code",
      "metadata": {
        "id": "A41M8CB3pIhE",
        "outputId": "4f89a0bb-2cde-4a44-dfc2-d63199eb7424",
        "colab": {
          "base_uri": "https://localhost:8080/"
        }
      },
      "source": [
        "# Solving Q1 and Q2 by this code snippet. This is to check the correctness of the above function.\n",
        "S = [1, 2, 3, 4, 5, 6]\n",
        "F = [1, 3, 5]\n",
        "# YOUR CODE HERE\n",
        "prob_f = find_prob(len(F), len(S))\n",
        "print(\"Probability of getting an odd number in a dice throw: \", prob_f)\n",
        "\n",
        "# Two desired outcomes from a dice throw.\n",
        "F1 = [4]\n",
        "F2 = [5]\n",
        "prob_f1 = find_prob(len(F1), len(S))\n",
        "prob_f2 = find_prob(len(F2), len(S))\n",
        "prob_f1_f2 = prob_f1 + prob_f2\n",
        "print(\"Probability of getting 4 or 5 in a dice throw: \", prob_f1_f2)\n",
        "\n",
        "# YOUR CODE HERE"
      ],
      "execution_count": 6,
      "outputs": [
        {
          "output_type": "stream",
          "name": "stdout",
          "text": [
            "Probability of getting an odd number in a dice throw:  0.5\n",
            "Probability of getting 4 or 5 in a dice throw:  0.3333333333333333\n"
          ]
        }
      ]
    },
    {
      "cell_type": "markdown",
      "metadata": {
        "id": "Yu-HJI_Vr7z-"
      },
      "source": [
        "### Conditional Probability (Independent vs Dependent Events)\n",
        "As the name suggests, independent events are those, which does not affect the outcome of a future event in a sample space. Two events $A$ and $B$ are said to be independent, if the occurance of $A$ does not give any information about occurance of $B$ and vice-versa. For example, if a dice is rolled then probability of getting $2$ is equal to $\\frac{1}{6}$, and when the dice is rolled again, the probability of getting $2$ is again $\\frac{1}{6}$ without any change. Thus, both the events are said to be independent. If events $A$ and $B$ are independent, then the following holds true -\n",
        "> $P(A \\cap B) = P(A) \\times P(B)$\n",
        "\n",
        "\n",
        "\n"
      ]
    },
    {
      "cell_type": "markdown",
      "metadata": {
        "id": "aMUujeSTxLli"
      },
      "source": [
        "On the other hand, for dependent events, the probability of $A$ given $B$ is represented as, $P(A|B) = \\frac{P(A \\cap B)}{P(B)}$. Here, event $A$ occurs before $B$ and has an effect on the outcome of $B$.\n"
      ]
    },
    {
      "cell_type": "markdown",
      "metadata": {
        "id": "-lh-nG966tn3"
      },
      "source": [
        "#### Examples\n",
        "**Q3. We roll a dice twice. What is the probability of getting an even number in the first roll AND a prime number in the second roll?**\n",
        "\n",
        "Ans - The sample space $S$ of the dice roll experiment is $S = \\{1, 2, 3, 4, 5, 6\\}$. Let event $A$ be an event of getting an even number in the first roll. Therefore, $P(A) = \\frac{1}{2}$. Let event $B$ be the event of getting a prime number in the second roll. Therefore, the favourable outcomes for $B$ are $\\{2, 3, 5\\}$. Hence, $P(B) = \\frac{1}{2}$. Because events $A$ and $B$ are independent to each other, $P(A \\cap B) = \\frac{1}{2} \\times \\frac{1}{2} = \\frac{1}{4}$.\n"
      ]
    },
    {
      "cell_type": "code",
      "metadata": {
        "id": "vZuRfg0Hl3LI",
        "outputId": "8d596619-77b5-4e93-bdd8-ecbeacd5ed74",
        "colab": {
          "base_uri": "https://localhost:8080/"
        }
      },
      "source": [
        "# Code for Q3.\n",
        "S = [1, 2, 3, 4, 5, 6]\n",
        "F_even = [2, 4, 6]\n",
        "F_prime = [2,3, 5]\n",
        "\n",
        "# YOUR CODE HERE\n",
        "\n",
        "prob_f_even_f_prime = find_prob(len(F_even), len(S)) * find_prob(len(F_prime), len(S))\n",
        "print(\"Probability of getting an even number in first throw and a prime number in second: \", prob_f_even_f_prime)"
      ],
      "execution_count": 7,
      "outputs": [
        {
          "output_type": "stream",
          "name": "stdout",
          "text": [
            "Probability of getting an even number in first throw and a prime number in second:  0.25\n"
          ]
        }
      ]
    },
    {
      "cell_type": "markdown",
      "metadata": {
        "id": "-SG7G__Rm5XJ"
      },
      "source": [
        "**Q4. We provide a fake data generator to generate data for 100,000 people. It generates 100,000 random \"people\" and randomly assigns them as being in their 20's, 30's, 40's, 50's, 60's, or 70's. It then assigns a lower probability for young people to buy stuff. In the end, we have two Python dictionaries: \"totals\" contains the total number of people in each age group. \"purchases\" contains the total number of things purchased by people in each age group. The grand total of purchases is in totalPurchases, and we know the total number of people is 100,000.**"
      ]
    },
    {
      "cell_type": "code",
      "metadata": {
        "id": "89ZLIfmNzMMK",
        "outputId": "f4a8df33-47cd-41b3-aa87-5af66a091a36",
        "colab": {
          "base_uri": "https://localhost:8080/"
        }
      },
      "source": [
        "# Fake data generator for a set of 100,000 people. The dictionaries totals and purchases will hold the data for 100,000 dummy people.\n",
        "\n",
        "totals = {20:0, 30:0, 40:0, 50:0, 60:0, 70:0}\n",
        "purchases = {20:0, 30:0, 40:0, 50:0, 60:0, 70:0}\n",
        "totalPurchases = 0\n",
        "for _ in range(100000):\n",
        "    ageDecade = random.choice([20, 30, 40, 50, 60, 70])\n",
        "    purchaseProbability = float(ageDecade) / 100.0\n",
        "    totals[ageDecade] += 1\n",
        "    if (random.random() < purchaseProbability):\n",
        "        totalPurchases += 1\n",
        "        purchases[ageDecade] += 1\n",
        "\n",
        "print (\"Total number of people in different each range: \", totals)\n",
        "print (\"Purchases made by people from different age ranges\", purchases)\n",
        "print (\"Total purchases made: \", totalPurchases)\n",
        "\n",
        "# YOUR CODE HERE for printing the results"
      ],
      "execution_count": 8,
      "outputs": [
        {
          "output_type": "stream",
          "name": "stdout",
          "text": [
            "Total number of people in different each range:  {20: 16815, 30: 16627, 40: 16752, 50: 16717, 60: 16563, 70: 16526}\n",
            "Purchases made by people from different age ranges {20: 3385, 30: 4959, 40: 6634, 50: 8188, 60: 9940, 70: 11594}\n",
            "Total purchases made:  44700\n"
          ]
        }
      ]
    },
    {
      "cell_type": "markdown",
      "metadata": {
        "id": "A2-qS3xHrMR3"
      },
      "source": [
        "**What is the probability of making a purchase GIVEN the customer has the age of 30?**\n",
        "\n",
        "Ans - We will solve this problem using the following code and show the direct use of the formula of  $P(A|B) = \\frac{P(A \\cap B)}{P(B)}$. Here, $A$ is considered to be the event of a purchase and $B$ is considered to be being in $30$'s."
      ]
    },
    {
      "cell_type": "code",
      "metadata": {
        "id": "S_kvyD9Tswa-",
        "outputId": "3c519029-61a5-42f0-bc73-51f41e256d7a",
        "colab": {
          "base_uri": "https://localhost:8080/"
        }
      },
      "source": [
        "# First let us solve this directly. purchases[30] has the number of purchases made by 30 year olds. totals[30] contains the total number of 30 year olds.\n",
        "\n",
        "# YOUR CODE HERE\n",
        "P_A_B_= find_prob(purchases[30], totals[30])\n",
        "print (\"P(A|B) = \", P_A_B_)"
      ],
      "execution_count": 9,
      "outputs": [
        {
          "output_type": "stream",
          "name": "stdout",
          "text": [
            "P(A|B) =  0.2982498346063631\n"
          ]
        }
      ]
    },
    {
      "cell_type": "code",
      "metadata": {
        "id": "m0XL4uOJtnzP",
        "outputId": "c2312140-28b0-4822-e471-caa169e77761",
        "colab": {
          "base_uri": "https://localhost:8080/"
        }
      },
      "source": [
        "# Now let us try out the formula and see if it maches the above result.\n",
        "\n",
        "# probability of being 30 in the corpus. P(B) = ?\n",
        "P_B = find_prob(totals[30], 100000)\n",
        "print (\"P(B) = \", P_B)\n",
        "\n",
        "# probability of making a purchase (regardless of age). P(A) = ?\n",
        "# YOUR CODE HERE\n",
        "P_A = find_prob(totalPurchases, 100000)\n",
        "print (\"P(A) = \", P_A)\n",
        "\n",
        "# What is the probability of both being in your 30's and buying something, out of the total population - not just the population of people in their 30's.\n",
        "# P(A Intersection B) = ?\n",
        "\n",
        "P_A_INT_B = find_prob(purchases[30], 100000)\n",
        "print (\"P(A INT B) = \", P_A_INT_B)\n",
        "\n",
        "# Therefore, now lets test the formula. P(A|B) = P(A INT B)/P(B)\n",
        "P_A_B_formula = P_A_INT_B / P_B\n",
        "print ('P(purchase | 30s) using formula: ', P_A_B_formula)\n",
        "\n",
        "# PLEASE NOTE THAT THE FORMULA GIVES THE EXACT SAME RESULT AS THE PREVIOUS CELL."
      ],
      "execution_count": 10,
      "outputs": [
        {
          "output_type": "stream",
          "name": "stdout",
          "text": [
            "P(B) =  0.16627\n",
            "P(A) =  0.447\n",
            "P(A INT B) =  0.04959\n",
            "P(purchase | 30s) using formula:  0.2982498346063632\n"
          ]
        }
      ]
    },
    {
      "cell_type": "markdown",
      "metadata": {
        "id": "v3UFS6ASzjWY"
      },
      "source": [
        "### Random Variables"
      ]
    },
    {
      "cell_type": "markdown",
      "metadata": {
        "id": "QEqji5ZKzmko"
      },
      "source": [
        "In probability theory, a random variable is considered to denote the outcome of a chance experiment. A random variable is of two types.\n",
        "1. Discrete random variables: It can assume finite number of values or countably infinite number of values. By countably infinite, we mean that all possible values that a random variable can assume can be counted and listed in some order. For example, noting the number of heads and tails in multiple coin tosses.\n",
        "2. Continuous random variables: These can assume any value in some interval on the real number line. For example, measuring the volume of gases in a tank.\n",
        "\n",
        "#### Mathematical defination\n",
        "A random variable is a mapping or function $ X: S → ℝ $ that assigns a real number $X(ω)$ to each outcome $ω$. Here, $S$ is the sample space.\n",
        "\n",
        "#### Example of a discrete random variable problem\n",
        "**Q5. Two dices are rolled simultaneously. Let $X$ be the sum of the outcomes from both the dices. What is the probability of having the sum to be equal to $10$?**\n",
        "\n",
        "Ans- The total sample space size (possible combinations) of this experiment is $6^2 = 36$. Here $S = \\{(1,1), (1,2), (1,3)...(2,1),...(6,6)\\}$. Out of these combinations the combinations that allows sum to be $10$ are $\\{(4,6), (5,5), (6,4)\\}$. Therefore, the probability of having the sum equal to $10$ is $\\frac{3}{36} = \\frac{1}{12}$\n"
      ]
    },
    {
      "cell_type": "markdown",
      "metadata": {
        "id": "WnNN6643VJtJ"
      },
      "source": [
        "#### Probability Mass Functions (PMF)\n",
        "\n",
        "PMF is a function that describes the relationship between the probability of obtaining all the different values that a random variable can assume in a given sample space. More formally if $f_X$ is the PMF on a random variable $X$ then,\n",
        "\n",
        "$f_X(x) = P(X=x)$ where $x$ are the values that the random variable can assume."
      ]
    },
    {
      "cell_type": "markdown",
      "metadata": {
        "id": "7yz54MKfXXV2"
      },
      "source": [
        "#### Example\n",
        "**Q6. Plot the PMF for the problem given in Q5 using python.**"
      ]
    },
    {
      "cell_type": "code",
      "metadata": {
        "id": "W3cJEuUmXWV5",
        "outputId": "be14e2d5-396b-4633-e203-882c3585cc06",
        "colab": {
          "base_uri": "https://localhost:8080/",
          "height": 449
        }
      },
      "source": [
        "# Creating a dice.\n",
        "dice = range(1,7)\n",
        "\n",
        "# Creating the combinations for the outcomes of two dices.\n",
        "dice_scores = dict(zip(range(1,7), range(1, 7)))\n",
        "\n",
        "# Creating the sample space for this problem. Please uncomment the print statement to check.\n",
        "S = {(i, j): dice_scores[i] + dice_scores[j] for i, j in product(dice, repeat=2)}\n",
        "# print (S)\n",
        "\n",
        "# length of the sample space\n",
        "n_S = len(S)\n",
        "\n",
        "# Collecting all the sums possible in the sample space. (1,2) -> 3, (2,1) -> 3. Therefore freq for 3 is 2.\n",
        "# We get all the possible outcomes and their frequencies using this.\n",
        "frequencies = dict.fromkeys(S.values(), 0)\n",
        "for sample_outcome, overall_score in S.items():\n",
        "    frequencies[overall_score] += 1\n",
        "\n",
        "# Calculating the probability for each possible outcome by freq of an outcome/total number of outcome\n",
        "probabilities = pd.DataFrame(\n",
        "    data=[\n",
        "        [value, frequency / n_S]\n",
        "        for value, frequency in frequencies.items()\n",
        "    ],\n",
        "    columns=['Total Score of two dice roles', 'Probability']\n",
        ")\n",
        "\n",
        "# plot PMF as barplot\n",
        "# YOUR CODE HERE\n",
        "ax = sns.barplot(\n",
        "    x='Total Score of two dice roles',\n",
        "    y='Probability',\n",
        "    data=probabilities,\n",
        ")"
      ],
      "execution_count": 13,
      "outputs": [
        {
          "output_type": "display_data",
          "data": {
            "text/plain": [
              "<Figure size 640x480 with 1 Axes>"
            ],
            "image/png": "[encoded data removed]"
          },
          "metadata": {}
        }
      ]
    },
    {
      "cell_type": "markdown",
      "metadata": {
        "id": "X8TtgAD_hcua"
      },
      "source": [
        "### Probability Distributions and  Density Functions\n",
        "\n",
        "Let us now check continous random variables and probability distribution. Analogous to PMF for discrete random variables, we will also have a look at Probability Density Functions (PDF).\n",
        "\n",
        "A continuous random variable can take infinite number of values. Thus they are represented by the area under a curve (or the integral).\n",
        "\n",
        "For example, a random variable $X$ may take all values over an interval of real numbers. Then the probability that $X$ is in the set of outcomes $A$, $P(A)$, is defined to be the area above $A$ and under a curve. The curve, which represents a function $P(X)$, must satisfy the following:\n",
        "\n",
        "1: The curve has no negative values ($P(X) > 0$ for all $X$)\n",
        "\n",
        "2: The total area under the curve is equal to $1$.\n",
        "\n",
        "Let us look at some important distributions and their python implementations.\n"
      ]
    },
    {
      "cell_type": "markdown",
      "metadata": {
        "id": "ny_ot8eFvgoQ"
      },
      "source": [
        "**Uniform distribution**\n",
        "\n",
        "The most simple probability distribution is considered to be the uniform distribution. A uniform distribution requires a range of $[a, b]$. The probablity density function of a uniform distribution is -\n",
        "\n",
        "![continuous-uniform-distribution-function-example_im2u8k.png](data:image/png;base64,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)\n",
        "\n",
        "We will next try to visualize a uniform distribution using scipy."
      ]
    },
    {
      "cell_type": "code",
      "metadata": {
        "id": "U6CwBHYdvAZi",
        "outputId": "5fbd6605-8857-433e-cd0b-7356c5991bf4",
        "colab": {
          "base_uri": "https://localhost:8080/",
          "height": 663
        }
      },
      "source": [
        "# Plotting random numbers generated from a uniform distribution\n",
        "\n",
        "n = 10000         # Number of random numbers to be generated\n",
        "a = 10            # a in the given formula\n",
        "b = 30            # b in the given formula\n",
        "data_uniform = scipy.stats.uniform.rvs(size=n, loc = a, scale=b)\n",
        "\n",
        "# YOUR CODE HERE\n",
        "ax = sns.distplot(data_uniform,\n",
        "                  bins=50,\n",
        "                  kde=True,\n",
        "                  color='red',\n",
        "                  hist_kws={\"linewidth\": 10,'alpha':1})\n",
        "ax.set(xlabel='Uniform Distribution ', ylabel='Frequency')"
      ],
      "execution_count": 17,
      "outputs": [
        {
          "output_type": "stream",
          "name": "stderr",
          "text": [
            "<ipython-input-17-856202569>:9: UserWarning: \n",
            "\n",
            "`distplot` is a deprecated function and will be removed in seaborn v0.14.0.\n",
            "\n",
            "Please adapt your code to use either `displot` (a figure-level function with\n",
            "similar flexibility) or `histplot` (an axes-level function for histograms).\n",
            "\n",
            "For a guide to updating your code to use the new functions, please see\n",
            "https://gist.github.com/mwaskom/de44147ed2974457ad6372750bbe5751\n",
            "\n",
            "  ax = sns.distplot(data_uniform,\n"
          ]
        },
        {
          "output_type": "execute_result",
          "data": {
            "text/plain": [
              "[Text(0.5, 0, 'Uniform Distribution '), Text(0, 0.5, 'Frequency')]"
            ]
          },
          "metadata": {},
          "execution_count": 17
        },
        {
          "output_type": "display_data",
          "data": {
            "text/plain": [
              "<Figure size 640x480 with 1 Axes>"
            ],
            "image/png": "[encoded data removed]"
          },
          "metadata": {}
        }
      ]
    },
    {
      "cell_type": "markdown",
      "metadata": {
        "id": "LP0WOk9qzMKV"
      },
      "source": [
        "**Normal Distribution**\n",
        "\n",
        "The most popular probability distribution is known as the normal distribution or a Gaussian distribution. The normal distribution is used extensively in data science due to its properties. It is represented by a bell-shaped curve with mean $\\mu$ and varience $\\sigma$. The probability density function followed by this curve is given by,\n",
        "\n",
        "$p(x \\mid \\mu, \\sigma) = \\frac{1}{\\sqrt{2\\pi\\sigma^2}} \\exp{ \\left( -\\frac{(x - \\mu)^2}{2\\sigma^2}\\right)}$\n",
        "\n",
        "\n",
        "\n"
      ]
    },
    {
      "cell_type": "markdown",
      "metadata": {
        "id": "IK7tXVsN7WMY"
      },
      "source": [
        "Similar to the uniform distribution we will plot the distribution"
      ]
    },
    {
      "cell_type": "code",
      "metadata": {
        "id": "P3Zc1TTX8TYZ",
        "outputId": "3e5426dd-936e-4dad-b7e4-08c2c5921895",
        "colab": {
          "base_uri": "https://localhost:8080/",
          "height": 645
        }
      },
      "source": [
        "# Let us consider a mean and varience for our normal distribution\n",
        "mu = 0\n",
        "standard_dev = 1    # We need to define the standard daviation and not the varience! The function will square it internally.\n",
        "\n",
        "\n",
        "# 10000 points are sampled from the normal distribution with given mu and sigma = standard_dev^2.\n",
        "data_normal = scipy.stats.norm.rvs(size=10000, loc=mu, scale=standard_dev)\n",
        "\n",
        "ax = sns.distplot(data_normal,\n",
        "                  bins=100,\n",
        "                  kde=True,\n",
        "                  color='b',\n",
        "                  hist_kws={\"linewidth\": 15,'alpha':1})\n",
        "ax.set(xlabel='Normal Distribution', ylabel='Frequency')\n",
        "plt.show()\n",
        "# YOUR CODE HERE"
      ],
      "execution_count": 18,
      "outputs": [
        {
          "output_type": "stream",
          "name": "stderr",
          "text": [
            "<ipython-input-18-689383627>:9: UserWarning: \n",
            "\n",
            "`distplot` is a deprecated function and will be removed in seaborn v0.14.0.\n",
            "\n",
            "Please adapt your code to use either `displot` (a figure-level function with\n",
            "similar flexibility) or `histplot` (an axes-level function for histograms).\n",
            "\n",
            "For a guide to updating your code to use the new functions, please see\n",
            "https://gist.github.com/mwaskom/de44147ed2974457ad6372750bbe5751\n",
            "\n",
            "  ax = sns.distplot(data_normal,\n"
          ]
        },
        {
          "output_type": "display_data",
          "data": {
            "text/plain": [
              "<Figure size 640x480 with 1 Axes>"
            ],
            "image/png": "[encoded data removed]"
          },
          "metadata": {}
        }
      ]
    },
    {
      "cell_type": "markdown",
      "metadata": {
        "id": "s5qDCSU_9hJp"
      },
      "source": [
        "**Multivariate Normal Distribution**\n",
        "\n",
        "Till now we have looked at distributions which are univariate and have only one dimensional data. However, distributions can also be multivariate in nature i.e., the data can have multiple dimensions. We see an extension of the univariate normal distribution to a multivariate one. In case of multivariate distribution, the mean $\\mu$ is replaced by a $k$-dimensional vector. Similarly the varience $\\sigma$ is replaced by a $k \\times k$ dimensional covarience matrix $\\Sigma$. Formally the equation is,\n",
        "\n",
        "$p(\\mathbf{x} \\mid \\mathbf{\\mu}, \\Sigma) = \\frac{1}{\\sqrt{(2\\pi)^d \\lvert\\Sigma\\rvert}} \\exp{ \\left( -\\frac{1}{2}(\\mathbf{x} - \\mathbf{\\mu})^T \\Sigma^{-1} (\\mathbf{x} - \\mathbf{\\mu}) \\right)}$\n",
        "\n",
        "The covariance matrix $\\Sigma$ must be a (symmetric) positive semi-definite matrix. The determinant and inverse of $\\Sigma$ are computed as the pseudo-determinant and pseudo-inverse, respectively, so that $\\Sigma$ does not need to have full rank.\n"
      ]
    },
    {
      "cell_type": "markdown",
      "metadata": {
        "id": "G_XXNP7ICf24"
      },
      "source": [
        "We check out a bivariate normal distribution and plot it using python. For a bivariate normal distribution $k=2$. The $\\mu$ will be a $2d$ vector and $\\Sigma$ will be a $2 \\times 2$ matrix."
      ]
    },
    {
      "cell_type": "code",
      "metadata": {
        "id": "ButdUHMTDdte",
        "outputId": "370d2c5b-e5ae-4903-b017-57db989849e1",
        "colab": {
          "base_uri": "https://localhost:8080/",
          "height": 415
        }
      },
      "source": [
        "# We set the parameters for mu and sigma first.\n",
        "# The mu vector is taken as [0, 0] and the cov matrix is taken as [[5, 0]\n",
        "#                                                                  [0, 10]]\n",
        "mu_x = 0\n",
        "variance_x = 5\n",
        "\n",
        "mu_y = 0\n",
        "variance_y = 10\n",
        "\n",
        "# Creating the distribution with the given parameters.\n",
        "rv = scipy.stats.multivariate_normal([mu_x, mu_y], [[variance_x, 0], [0, variance_y]])\n",
        "\n",
        "#Creating a grid. This is important to plot 3D distributions.\n",
        "x = np.linspace(-10,10,500)\n",
        "y = np.linspace(-10,10,500)\n",
        "X, Y = np.meshgrid(x,y)\n",
        "pos = np.empty(X.shape + (2,))\n",
        "pos[:, :, 0] = X; pos[:, :, 1] = Y\n",
        "\n",
        "\n",
        "#Make a 3D plot\n",
        "# YOUR CODE HERE\n",
        "fig = plt.figure()\n",
        "ax = fig.add_subplot(projection = '3d')\n",
        "ax.plot_surface(X, Y, rv.pdf(pos),cmap='viridis',linewidth=0)\n",
        "ax.set_xlabel('X axis')\n",
        "ax.set_ylabel('Y axis')\n",
        "ax.set_zlabel('Z axis')\n",
        "plt.show()"
      ],
      "execution_count": 20,
      "outputs": [
        {
          "output_type": "display_data",
          "data": {
            "text/plain": [
              "<Figure size 640x480 with 1 Axes>"
            ],
            "image/png": "[encoded data removed]"
          },
          "metadata": {}
        }
      ]
    },
    {
      "cell_type": "markdown",
      "metadata": {
        "id": "FiDqQnmsUTRW"
      },
      "source": [
        "For more information about probability distribution in python, please follow: [https://docs.scipy.org/doc/scipy/reference/stats.html](https://docs.scipy.org/doc/scipy/reference/stats.html)"
      ]
    },
    {
      "cell_type": "markdown",
      "metadata": {
        "id": "yx06epQYEN5K"
      },
      "source": [
        "### Expectation and Moments of Random Variables\n",
        "\n",
        "**Expectation:** The expected value of a random variable $X$, which is denoted $E(X)$, is a generalization of the weighted average. The expectation or expected value of a random variable is a single number and it tells us a lot about the behavior of the variable. In simple terms, the expectation is the average value of the random variable where each value is weighted according to its probability.\n",
        "\n",
        "For a discrete random variable that can take $n$ outcomes like $x_1, x_2, x_3, ..., x_n$ with probabilities $p_1, p_2, p_3,..., p_n$, the expectation is given by,\n",
        "\n",
        "$E(X) = \\Sigma_{i=1}^{n}p_i.x_i$\n",
        "\n",
        "For a continuous random variable we use integration in place of summation. The formula to remember is,\n",
        "\n",
        "$ E(X) = \\int_{x_{min}}^{x_{max}} x.f(x) \\,dx $\n",
        "\n",
        "Here $f(x)$ is the probability density function.\n",
        "\n",
        "Let us now check a simple python code for finding the expectation of a given discrete random variable. The random variable can take values of $\\{1, 4, 3\\}$ and have probabilities $\\{0.1, 0.5, 0.4\\}$.\n"
      ]
    },
    {
      "cell_type": "code",
      "metadata": {
        "id": "D8yQZ_PXT1Fi",
        "outputId": "4b161781-cddb-4fec-a88b-fa9ed6e0b59c",
        "colab": {
          "base_uri": "https://localhost:8080/"
        }
      },
      "source": [
        "# A simple function to calculate expectation in python. The function works for discrete random variables only.\n",
        "\n",
        "def expectation(outcomes, probs):\n",
        "    e = 0\n",
        "\n",
        "    # Adding some essential checks.\n",
        "    if len(outcomes) != len(probs):\n",
        "      raise ValueError(\"The number of outcomes and number of probabilities given does not match\")\n",
        "\n",
        "    if sum(probs) != 1:\n",
        "      raise ValueError(\"The probability does not sum up to 1!\")\n",
        "\n",
        "    for i in range(len(outcomes)):\n",
        "      e += outcomes[i] * probs[i]\n",
        "    return e\n",
        "\n",
        "# Let us define x and p's.\n",
        "x = [1, 4, 3]\n",
        "p = [0.1, 0.5, 0.4]\n",
        "\n",
        "# YOUR CODE HERE\n",
        "print (\"Expectation of the given random experiment is: \", expectation(x, p))"
      ],
      "execution_count": 21,
      "outputs": [
        {
          "output_type": "stream",
          "name": "stdout",
          "text": [
            "Expectation of the given random experiment is:  3.3000000000000003\n"
          ]
        }
      ]
    },
    {
      "cell_type": "markdown",
      "metadata": {
        "id": "xdavyTxSs0jG"
      },
      "source": [
        "**Moment:** In general, moment of a function are quantitative measures that depicts the shape of the function's graph. In a probability distribution, the first moment is the expectation (described above), the second central moment is the variance, the third standardized moment is the skewness, and the fourth standardized moment is the kurtosis, etc. The general formula for a $k^{th}$ moment in ``scipy`` is,\n",
        "\n",
        "![moment.png](data:image/png;base64,iVBORw0KGgoAAAANSUhEUgAAAMMAAABDCAIAAACurSYlAAAAAXNSR0IArs4c6QAAAARnQU1BAACxjwv8YQUAAAAJcEhZcwAADsMAAA7DAcdvqGQAAAeiSURBVHhe7Zy7U9w6FIfvvwctSw0tjxJIC7RZUrIwdDzK7CZlstWdSWghXWYCLaQOd4ZhGCAfew66jrw2sqzdLOZ8BSPJsq3HT+ccyZv882AYKTAlGWkwJRlpMCUZaTAlGWkwJRlpMCUVcnV11e/3+fvz58/Pnz+fn5/rBWMYpqRCdnZ2UNLy8nK320VG8/PzSEqvGTmarKSaE4+M0NDm5qZkW62WKamEBirp169f3759a7fbU1NT9/f3WhrFxsYGfo3E2dnZ3NycFBpDaZqSkM7q6mqn02Hi6ytpZmZG7BAPhOPjY8ImuWR4NNa7oaeaSpLYSNL4uF6vR+QkWSOPKakQzI/br5HGY0raGIopyUhDk5U0PT2tGWP0NFxJz9okcVt1sKMB4bUriU0+1YTFxUXucqytrXmJlZWVpaUlrf0EV/VZLx/iQtZG3P70tSsJNjY2RBMktKgUnnl2dvbp0yc0JDdeXl7qtRfO4eEh3Ymzsqakx5PMVqs1kMR0t9vV0jBOT0+5d2trS/MvnDoHsI1VEq4KZWCoQ8SEIERJwGhqaRg/fvyYn59Hjpp/QjyFZiYM2ja0myyk6FXRNCWhG6yRi2yEEHEcHByIkpaXl/OyKOfr16/v37/XzAAcBFKOCzjGAB1kiPLDIl+H0Bluzp3KBtJYmxSBmDGo762QL3ZOMxMJppTdg6d1PHWv1zs+Pu73+1UHwZT0PwTOLmCSD7dxEIyzy9PM3+Pi4uLfHHptQLvdxhJrZhAk0X1sFUrSoiqYkv4APyVKmp2djd6R4Re+fPmimb/H9+/fcVIe19fXevkpwtPMU5CElaL7ODjQC2EkUJIX0oZEuJMMoyliwvhrURVY2dxbNdIaA/l5oYSmOi9MkIRTI0Eheqq6jY1RUqfTYZR3d3d5HxZyc3MTacsPVZkGyWLhtfZLAxG448f9/X0tDQa3SPe9aWNktre319fXiZ/Y0L19+5YEJXp5NGBfmR2Cv52dHfSNUHhp1tLQSHyZc3BYLNpJAu/GFEs6nMpKok28huFgoBcWFnDGFMrGh4Zms/nR1FQB3EXHPHhmlvF8mhC7IlQNnKUXmnmCWcSVkGDoeCZpxERCro4Cmu1CZl7E8sZZ47K9tUHDQDP1qKwklIuu2fTSPkZcCkU6Tu+ektA4yzTEWnJLOVovx83NzX8B3N7e6g3PQWvpAjD6lVYnc4biNTMA2+D6zlWMBAmGMftrJyw6mybN5NDOF6CV/gRrJB6WtUcvsJQkkLgX/TBTXmujiYyTELKMiFCehbm5OSe7UbC3tycTX87Hjx/1hgDohdxVKWJg11YyN2yOMEuaycBiK4pwUcCjNS6mRIJAmEEXinYPmCieoJl6RCopOyIsi2yWFeyNPmNBBc0UQzWcZjlaNcfd3R325lmopjcEQEdodv7QpRzGoWhucGqMDCZK82MBN0oXikzXUF8cR4ySvBGRqMJl5es6iwBXLYWUiDNm9dBuFDOo6EM1lkg5RfeOAtrDHFTdheXnBmNDIQkJCeSBqFMKSeDp8HqPVdOBKZKTCOIKPJ0Usrw948S8yNTUJ0ZJEkO4IfayDAoTQIImymqmJ6xUCbBY5eNUQzQsA5oa4ZHRn7d3YxwYH3otW0IpJEg6OTmRhBi/SpavHN7Fi5gIrDgJViCFPN87L6WRiF4EXZ8YJdH57LJjj5DNYocYSowqYyolBEmUyFnFiwABEWjLbqsqLPrsugKxbeiJJUdid3eXwXGnJMw6FZLbJF4k0yQvPTo6ogHeGkZJNDWVt41REurOLiAvC4ymK6H1EiQxWHi3fOVJAxEgI7cMImD+vNt5ptMWg+NFLcwx9b1pro97IK/znJqAhmRqkhAZcYdDc2XBYbowS2JpJxbmW/75tuajoMuVNkQYBlZX9lBgPBB1JJyOkSsJ9Yhfw2cjprivg2MD8+Di03AIqrwzfRxK+JEmw+LOl8cGHpyQQzMpGLmSXhBoCCVpJhgUgG4894FtwxJPrB+nebjgohOsOJqmJHba+CamkMEiLGNjEhjxcNdi9d+mISC8IUrSfAbClJIDsL8LGkorI2iUktANXgZBvHnzBpdBvCJHX57ryYPaUIMLip+FGJYn45KIzXl+nfC8MTRKSXIYgSbYkogsmHLSTPng+nDkZBW/RrUs6FJTT7x7945XIFPqZwmXYINplJKw2EwqU+s2X3gfst6PrLPI0dFAD5FEROiNpGlxEh6N2XWHivgdskNPUxzYrTroU149TVNSp9PJnrbhsyQcntjgtzE0TUmE224nj8HAIMlWbn19XQqNEdEoJYl0XFSEgMj2+30MVci3WPbtgd+/ePKHDx9sy5alUUpigtlwZc+ETk9P9/f3Q2QEKCnkCJ5q7OMwfqm+ojeDpnm3sbG6umpKymJKUnq9Hq7NBeaDbZmPXBJMSR6mpEdwamgIJbmPzagkTzYwMiV5mJIUoqtWlR8umpI8TElKt9ttt9vy6zCzSRGYkpS1wf+sEP5zM1OShylJIUJCRiG/taAOskNJgpa+ekxJRhpMSUYaTElGGkxJRhpMSUYaTElGGkxJRhpMSUYaTElGGkxJRhpMSUYaTElGGkxJRhpMSUYKHh5+A6DYrfRwDgVuAAAAAElFTkSuQmCC)\n",
        "\n",
        "Here $n$ are the number of discrete examples and $\\overline{x}$ is the mean of the examples.\n",
        "\n",
        "To summarize moments,\n",
        "* 1st moment: expectation\n",
        "* 2nd order central moment: variance\n",
        "* 3rd order central moment: Skewness\n",
        "\n",
        "We will conduct an experiment based on this information. First, we will sample 10,000 points from a normal distribution of know $\\mu$ and $\\sigma$. We will then use the function to calculate moments. Ideally, the 1st and 2nd moments should match those of $\\mu$ and $\\sigma$ respectively."
      ]
    },
    {
      "cell_type": "code",
      "metadata": {
        "id": "FS5fezBFfHYV",
        "outputId": "b916ded0-421c-4343-fe10-cc8be5a88494",
        "colab": {
          "base_uri": "https://localhost:8080/"
        }
      },
      "source": [
        "# Declaring mu and sigma according to our choice\n",
        "mu = 10\n",
        "standard_dev = 5\n",
        "\n",
        "\n",
        "# 10000 points are sampled from the normal distribution with given mu and sigma.\n",
        "data_normal = scipy.stats.norm.rvs(size=10000, loc=mu, scale=standard_dev)\n",
        "\n",
        "print (\"Variance given to the function: \", standard_dev**2)\n",
        "print(\"Calculated 2nd moment (varience): \", scipy.stats.moment(data_normal, moment = 2))\n",
        "\n",
        "\n",
        "print(\"3rd moment: \", scipy.stats.moment(data_normal, moment = 3))\n",
        "\n",
        "print(\"4th moment: \", scipy.stats.moment(data_normal, moment = 4))\n",
        "\n",
        "# YOUR CODE HERE to print results"
      ],
      "execution_count": 22,
      "outputs": [
        {
          "output_type": "stream",
          "name": "stdout",
          "text": [
            "Variance given to the function:  25\n",
            "Calculated 2nd moment (varience):  24.872497363160356\n",
            "3rd moment:  0.8269915498508635\n",
            "4th moment:  1881.7397995565996\n"
          ]
        }
      ]
    },
    {
      "cell_type": "markdown",
      "metadata": {
        "id": "C554SZB0jQpT"
      },
      "source": [
        "### Covariance and Correlation\n",
        "\n",
        "Covariance signifies the direction of the linear relationship between the two variables. The directions are used to represented whether the variables are proportional or inversely proportional to each other.\n",
        "\n",
        "The values of covariance can be any number between the two opposite infinities. Also, it’s important to mention that covariance only measures how two variables change together, not the dependency of one variable on another one.\n",
        "\n",
        "The value of covariance between 2 variables is achieved by taking the summation of the product of the differences from the means of the variables as follows:\n",
        "\n",
        "<center>$Cov(X, Y) = \\frac{\\Sigma_{i=1}^{N} (x_i - \\overline{X}).(y_i - \\overline{Y})}{N}$</center>\n",
        "\n",
        "On the other hand, correlation uses covarience to find the dependency of the variables on each other. In simple terms, it finds how strongly are $X$ and $Y$ depended on each other.\n",
        "\n",
        "The formula to find correlation between two variables $X$ and $Y$ are -\n",
        "<center>$Cor (X, Y) = \\frac{Cov(X, Y)}{\\sigma_X .\\sigma_Y} $</center>\n",
        "\n",
        "Here, $\\sigma_X$ and $\\sigma_Y$ are the varience (second moment) in X and Y.\n",
        "\n",
        "The correlation coefficient is a single value ranging from -1 to +1.\n",
        "\n",
        "The closer it is to +1 or -1, the more closely the two variables are related.\n",
        "\n",
        "If there is no relationship at all between two variables, then the correlation coefficient will be 0.\n",
        "\n",
        "We attach a sample python function for each of these measures.\n"
      ]
    },
    {
      "cell_type": "code",
      "metadata": {
        "id": "5DLXMU_i3xDh",
        "outputId": "1f607dc8-29dc-46c1-8811-13509b975a37",
        "colab": {
          "base_uri": "https://localhost:8080/"
        }
      },
      "source": [
        "def covariance(x, y):\n",
        "    # Finding the mean of the series x and y\n",
        "    # YOUR CODE HERE\n",
        "    mean_x = scipy.stats.tmean(x)\n",
        "    mean_y = scipy.stats.tmean(y)\n",
        "\n",
        "    # Subtracting mean from the individual elements\n",
        "    # YOUR CODE HERE\n",
        "    sub_x = [i-mean_x for i in x]\n",
        "    sub_y = [i-mean_y for i in y]\n",
        "\n",
        "    # Using the formula given above\n",
        "    numerator = sum([sub_x[i]*sub_y[i] for i in range(len(sub_x))])\n",
        "    denominator = len(x)\n",
        "\n",
        "    cov = numerator/denominator\n",
        "\n",
        "    return cov\n",
        "\n",
        "def correlation(x, y):\n",
        "    # Calculating covarience for the numerator\n",
        "    cov = covariance(x, y)\n",
        "\n",
        "    # Calculating variance for x and y.\n",
        "    var_x = np.var(x)\n",
        "    var_y = np.var(y)\n",
        "\n",
        "    # The correlation formula is applied\n",
        "    cor = cov/float(var_x* var_y)\n",
        "\n",
        "    return cor\n",
        "\n",
        "# Replace x and y with normal distributions and gaussian distributions to check the effect.\n",
        "x = [1, 2, 3, 5]\n",
        "y = [2, 4, 6, 10]\n",
        "\n",
        "# YOUR CODE HERE\n",
        "\n",
        "print(\"Covariance: \", covariance(x, y))\n",
        "print(\"Correlation: \", correlation(x, y))"
      ],
      "execution_count": 26,
      "outputs": [
        {
          "output_type": "stream",
          "name": "stdout",
          "text": [
            "Covariance:  4.375\n",
            "Correlation:  0.22857142857142856\n"
          ]
        }
      ]
    },
    {
      "cell_type": "markdown",
      "metadata": {
        "id": "TxZ1wPZxJzD9"
      },
      "source": [
        "### Please answer the questions below to complete the experiment:\n",
        "\n",
        "\n"
      ]
    },
    {
      "cell_type": "code",
      "execution_count": 27,
      "metadata": {
        "id": "d3BGCJ4_JzD-"
      },
      "outputs": [],
      "source": [
        "# @title A box contains 5 Purple marbles, 3 Green marbles and 2 Orange marbles. Marbles are taken one at a time without replacement. P(both marbles are purple)  { run: \"auto\", form-width: \"500px\", display-mode: \"form\" }\n",
        "Answer = \"2/9\" #@param [\"\", \"2/9\", \"1/3\",\"1/2\",\"1/4\"]"
      ]
    },
    {
      "cell_type": "code",
      "execution_count": 28,
      "metadata": {
        "id": "eyzrl47LJzD-"
      },
      "outputs": [],
      "source": [
        "#@title How was the experiment? { run: \"auto\", form-width: \"500px\", display-mode: \"form\" }\n",
        "Complexity = \"Good and Challenging for me\" #@param [\"\",\"Too Simple, I am wasting time\", \"Good, But Not Challenging for me\", \"Good and Challenging for me\", \"Was Tough, but I did it\", \"Too Difficult for me\"]\n"
      ]
    },
    {
      "cell_type": "code",
      "execution_count": 29,
      "metadata": {
        "id": "CGH0byg2JzD_"
      },
      "outputs": [],
      "source": [
        "#@title If it was too easy, what more would you have liked to be added? If it was very difficult, what would you have liked to have been removed? { run: \"auto\", display-mode: \"form\" }\n",
        "Additional = \"NA\" #@param {type:\"string\"}\n"
      ]
    },
    {
      "cell_type": "code",
      "execution_count": 30,
      "metadata": {
        "id": "uvzlzFD7JzD_"
      },
      "outputs": [],
      "source": [
        "#@title Can you identify the concepts from the lecture which this experiment covered? { run: \"auto\", vertical-output: true, display-mode: \"form\" }\n",
        "Concepts = \"Yes\" #@param [\"\",\"Yes\", \"No\"]\n"
      ]
    },
    {
      "cell_type": "code",
      "execution_count": 31,
      "metadata": {
        "id": "X5KkYGzrJzD_"
      },
      "outputs": [],
      "source": [
        "#@title  Text and image description/explanation and code comments within the experiment: { run: \"auto\", vertical-output: true, display-mode: \"form\" }\n",
        "Comments = \"Very Useful\" #@param [\"\",\"Very Useful\", \"Somewhat Useful\", \"Not Useful\", \"Didn't use\"]\n"
      ]
    },
    {
      "cell_type": "code",
      "execution_count": 32,
      "metadata": {
        "id": "qrG9uBJfJzD_"
      },
      "outputs": [],
      "source": [
        "#@title Mentor Support: { run: \"auto\", vertical-output: true, display-mode: \"form\" }\n",
        "Mentor_support = \"Very Useful\" #@param [\"\",\"Very Useful\", \"Somewhat Useful\", \"Not Useful\", \"Didn't use\"]\n"
      ]
    },
    {
      "cell_type": "code",
      "execution_count": 33,
      "metadata": {
        "cellView": "form",
        "id": "dnS46P1GJzEA",
        "outputId": "857ff706-ff32-4e06-bbf5-d14cdbd210bd",
        "colab": {
          "base_uri": "https://localhost:8080/"
        }
      },
      "outputs": [
        {
          "output_type": "stream",
          "name": "stdout",
          "text": [
            "Your submission is successful.\n",
            "Ref Id: 581\n",
            "Date of submission:  18 Jun 2025\n",
            "Time of submission:  00:13:56\n",
            "View your submissions: https://learn-iitm.talentsprint.com/notebook_submissions\n"
          ]
        }
      ],
      "source": [
        "#@title Run this cell to submit your notebook for grading { vertical-output: true }\n",
        "try:\n",
        "  if submission_id:\n",
        "      return_id = submit_notebook()\n",
        "      if return_id : submission_id = return_id\n",
        "  else:\n",
        "      print(\"Please complete the setup first.\")\n",
        "except NameError:\n",
        "  print (\"Please complete the setup first.\")"
      ]
    }
  ]
}