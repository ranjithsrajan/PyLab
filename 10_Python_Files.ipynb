{
  "nbformat": 4,
  "nbformat_minor": 0,
  "metadata": {
    "colab": {
      "private_outputs": true,
      "provenance": [],
      "include_colab_link": true
    },
    "kernelspec": {
      "name": "python3",
      "display_name": "Python 3"
    },
    "language_info": {
      "name": "python"
    }
  },
  "cells": [
    {
      "cell_type": "markdown",
      "metadata": {
        "id": "view-in-github",
        "colab_type": "text"
      },
      "source": [
        "<a href=\"https://colab.research.google.com/github/ranjithsrajan/PyLab/blob/main/10_Python_Files.ipynb\" target=\"_parent\"><img src=\"https://colab.research.google.com/assets/colab-badge.svg\" alt=\"Open In Colab\"/></a>"
      ]
    },
    {
      "cell_type": "code",
      "source": [
        "#@title Walkthrough Video\n",
        "from IPython.display import HTML\n",
        "HTML(\"\"\"<video width=\"720\" height=\"500\" controls>\n",
        "<source src=\"https://cdn.exec.talentsprint.com/content/5_Python_Files.mp4\">\n",
        "</video>\"\"\")"
      ],
      "metadata": {
        "cellView": "form",
        "id": "sJFXETf8T16t"
      },
      "execution_count": null,
      "outputs": []
    },
    {
      "cell_type": "code",
      "source": [
        "#@title Run this cell to download the text files\n",
        "!wget https://cdn.iisc.talentsprint.com/mbox.txt\n",
        "!wget https://cdn.iisc.talentsprint.com/mbox-short.txt"
      ],
      "metadata": {
        "id": "nBaeX6dZwaLr",
        "cellView": "form"
      },
      "execution_count": null,
      "outputs": []
    },
    {
      "cell_type": "markdown",
      "source": [
        "**Files:** In Python, files are used for reading and writing data from and to external sources, such as text files, CSV files, or even binary files. Working with files allows you to store and retrieve information persistently, enabling data processing, analysis, and storage."
      ],
      "metadata": {
        "id": "AmIko8z0Lchq"
      }
    },
    {
      "cell_type": "markdown",
      "source": [
        "**File Processing:** A text file can be thought of as a sequence of lines."
      ],
      "metadata": {
        "id": "KYQ2n3S7LBQF"
      }
    },
    {
      "cell_type": "markdown",
      "source": [
        "### Opening a File\n",
        "\n",
        "Before we can read from or write to a file, we need to open it. The **open()** function is used for this purpose. It takes two arguments: the `file path` and the `mode` (optional). The mode determines whether you want to read, write, or append to the file. Some common modes include:\n",
        "\n",
        "`'r'`: Read mode (default). Opens the file for reading.\n",
        "\n",
        "`'w'`: Write mode. Opens the file for writing. If the file already exists, it truncates it. If it doesn't exist, it creates a new file.\n",
        "\n",
        "`'a'`: Append mode. Opens the file for appending. Data is written at the end of the file.\n",
        "\n",
        "`'x'`: Exclusive creation mode. Creates a new file, but raises an error if the file already exists.\n",
        "\n",
        "**Syntax:** `file_object = open(file_path, mode)`\n"
      ],
      "metadata": {
        "id": "rz4YiHNTLQl1"
      }
    },
    {
      "cell_type": "code",
      "source": [
        "fhand = open(\"mbox.txt\", \"r\")\n",
        "print(fhand)"
      ],
      "metadata": {
        "id": "AieSaN3MKy0S"
      },
      "execution_count": null,
      "outputs": []
    },
    {
      "cell_type": "markdown",
      "source": [
        "When Files are Missing but still if we pass it as paramter to the open() method it will return` \"FileNotFoundError\"`\n"
      ],
      "metadata": {
        "id": "J-qtEetfMuAR"
      }
    },
    {
      "cell_type": "code",
      "source": [
        "fhand = open(\"stuff.txt\")"
      ],
      "metadata": {
        "id": "U8uIuBlpKy22"
      },
      "execution_count": null,
      "outputs": []
    },
    {
      "cell_type": "markdown",
      "source": [
        "### The newline Character\n",
        "\n",
        "In Python, the \"newline\" character refers to a special character that represents the end of a line in a text file or a string. It is represented by the escape sequence `'\\n'`.\n",
        "\n",
        "The newline character is used to create line breaks in text files and strings. When you encounter a newline character, it signifies that a new line should begin."
      ],
      "metadata": {
        "id": "Bv5m_48hNTFy"
      }
    },
    {
      "cell_type": "code",
      "source": [
        "stuff = 'Hello\\nWorld!'\n",
        "stuff"
      ],
      "metadata": {
        "id": "6PCVGpE0Ky6P"
      },
      "execution_count": null,
      "outputs": []
    },
    {
      "cell_type": "markdown",
      "source": [
        "In the above code, a variable named stuff is being assigned a string value 'Hello\\nWorld!'. Here's what each part of the string represents:\n",
        "\n",
        "`'Hello':` This is a regular string that represents the word \"Hello\".\n",
        "\n",
        "`'\\n':` This is the newline character escape sequence. It represents a line break, indicating that a new line should start.\n",
        "\n",
        "`'World!`': This is another regular string that represents the word \"World!\""
      ],
      "metadata": {
        "id": "R3-M4mJCOJQE"
      }
    },
    {
      "cell_type": "markdown",
      "source": [
        "When the string is printed or displayed, the newline character ('\\n') causes a line break between \"Hello\" and \"World!\""
      ],
      "metadata": {
        "id": "VEwXWlBpOWnS"
      }
    },
    {
      "cell_type": "code",
      "source": [
        "print(stuff)"
      ],
      "metadata": {
        "id": "DO4oShpsNolB"
      },
      "execution_count": null,
      "outputs": []
    },
    {
      "cell_type": "code",
      "source": [
        "stuff = 'X\\nY'\n",
        "print(stuff)"
      ],
      "metadata": {
        "id": "i3CIoX6GNwWK"
      },
      "execution_count": null,
      "outputs": []
    },
    {
      "cell_type": "markdown",
      "source": [
        "The `len()` function in Python is used to determine the length of a string, i.e., the number of characters in the string. In the case of the stuff variable, which has the value `'X\\nY'`"
      ],
      "metadata": {
        "id": "XDKTWNFlOkI6"
      }
    },
    {
      "cell_type": "code",
      "source": [
        "len(stuff)"
      ],
      "metadata": {
        "id": "y9DeZuPPN5_0"
      },
      "execution_count": null,
      "outputs": []
    },
    {
      "cell_type": "markdown",
      "source": [
        "The len(stuff) expression returns the value 3"
      ],
      "metadata": {
        "id": "RZWV7xTaOxEI"
      }
    },
    {
      "cell_type": "markdown",
      "source": [
        "### File Handle as a Sequence\n",
        "\n",
        "In Python, a file handle (file object) can be treated as a sequence-like object, allowing you to iterate over its lines using a loop or access specific lines using indexing. This behavior is possible because the file object implements the iterator protocol and provides line-based access to the file's content."
      ],
      "metadata": {
        "id": "_UelsDvOPKdC"
      }
    },
    {
      "cell_type": "code",
      "source": [
        "xfile = open('mbox.txt')\n",
        "for cheese in xfile:  # Iterating over the file handle\n",
        "      print(cheese)"
      ],
      "metadata": {
        "id": "JGcQXPC9N9lv"
      },
      "execution_count": null,
      "outputs": []
    },
    {
      "cell_type": "markdown",
      "source": [
        "### Counting Lines in a File\n",
        "\n",
        "To count the number of lines in a file using Python, you can iterate over the file handle and increment a counter variable for each line encountered."
      ],
      "metadata": {
        "id": "bwkfj7MORyRi"
      }
    },
    {
      "cell_type": "code",
      "source": [
        "fhand = open('mbox.txt')\n",
        "count = 0\n",
        "for line in fhand:\n",
        "    count = count + 1\n",
        "print('Line Count:', count)"
      ],
      "metadata": {
        "id": "q_XezZOKRVrQ"
      },
      "execution_count": null,
      "outputs": []
    },
    {
      "cell_type": "markdown",
      "source": [
        "The above code attempts to count the number of lines in the file `'mbox.txt'`. The file 'mbox.txt' is opened using `open()` and the file handle is assigned to the variable `fhand`. The variable count is initialized to `0`.\n",
        "\n",
        "The `for` loop iterates over each line in the file handle hand, incrementing the count variable by `1` for each line encountered.\n",
        "\n",
        "Finally, the total line count is printed using the `print()` statement.\n",
        "\n",
        "\n",
        "\n",
        "\n"
      ],
      "metadata": {
        "id": "nkGTa32zS_GV"
      }
    },
    {
      "cell_type": "markdown",
      "source": [
        "#### Reading the “Whole” File"
      ],
      "metadata": {
        "id": "OZJpzwLVTY-O"
      }
    },
    {
      "cell_type": "code",
      "source": [
        "fhand = open('mbox-short.txt')\n",
        "inp = fhand.read()"
      ],
      "metadata": {
        "id": "b-Cl5aZISSdS"
      },
      "execution_count": null,
      "outputs": []
    },
    {
      "cell_type": "markdown",
      "source": [
        " The `open()` function is used to open the file `'mbox-short.txt'` in the default read mode, and the resulting file object is assigned to the variable fhand. The file is opened in the current working directory unless an absolute or relative path is specified."
      ],
      "metadata": {
        "id": "92VGulkSU1x0"
      }
    },
    {
      "cell_type": "markdown",
      "source": [
        "The `read()` method is called on the file object fhand. The `read()` method reads the entire contents of the file as a string and assigns it to the variable inp. The contents of the file are stored in the `inp `variable as a single string, including newline characters ('\\n').\n",
        "\n",
        "After executing these lines, the variable `inp` will hold the complete content of the file `'mbox-short.txt'` as a string.\n",
        "\n",
        "When using the `read()` method to read the entire file at once, it is important to consider the size of the file. If the file is extremely large, reading it all at once into memory may not be efficient. In such cases, it is often better to read the file line by line using a loop or use other methods like readline() or readlines() to read a portion of the file at a time."
      ],
      "metadata": {
        "id": "hVbzxVWUVBeP"
      }
    },
    {
      "cell_type": "code",
      "source": [
        "print(len(inp))"
      ],
      "metadata": {
        "id": "qclEQ3wfTccW"
      },
      "execution_count": null,
      "outputs": []
    },
    {
      "cell_type": "code",
      "source": [
        "print(inp[:20])"
      ],
      "metadata": {
        "id": "7PoFNuu3VR27"
      },
      "execution_count": null,
      "outputs": []
    },
    {
      "cell_type": "markdown",
      "source": [
        "`inp[:20]` retrieves the substring starting from the beginning (index 0) up to, but not including, index 20. This means it retrieves the first 20 characters of the string stored in inp.\n",
        "\n",
        "Finally, the `print()` function is used to display the retrieved substring.\n",
        "\n",
        "Assuming the content of the file `'mbox-short.txt'` is a text, executing this code will print the first 20 characters of that text.\n",
        "\n",
        "It's important to note that Python uses zero-based indexing, so the character at index `0` is the first character, the character at index `1` is the second character, and so on. Therefore, `inp[:20]` retrieves characters from index `0` to index 19.\n",
        "\n",
        "\n",
        "\n",
        "\n"
      ],
      "metadata": {
        "id": "c6NoMrCaVzBz"
      }
    },
    {
      "cell_type": "markdown",
      "source": [
        "### Searching Through a File\n"
      ],
      "metadata": {
        "id": "NSzIZaKmWPbe"
      }
    },
    {
      "cell_type": "code",
      "source": [
        "fhand = open('mbox-short.txt')\n",
        "for line in fhand:\n",
        "      if line.startswith('From:') :\n",
        "            print(line)"
      ],
      "metadata": {
        "id": "EvHwlPpoVmbI"
      },
      "execution_count": null,
      "outputs": []
    },
    {
      "cell_type": "markdown",
      "source": [
        "In the above code, the `open()` function is used to open the file `'mbox-short.txt'` in the default read mode, and the resulting file object is assigned to the variable `fhand`.\n",
        "\n",
        "\n",
        "A `for` loop is used to iterate over each line in the file `fhand`. The loop will iterate through each line of the file, one line at a time, assigning each line to the variable line.\n",
        "\n",
        "Within the loop, an `if` statement is used to check if the current line starts with the string `'From:'`. The `startswith()` method is used to perform this check. If the line starts with `'From:'`, the `print() `function is called to display the line."
      ],
      "metadata": {
        "id": "E9cNTcB9Wqkf"
      }
    },
    {
      "cell_type": "markdown",
      "source": [
        "### Searching Through a File (fixed)"
      ],
      "metadata": {
        "id": "vT0goeSIcLVH"
      }
    },
    {
      "cell_type": "code",
      "source": [
        "fhand = open('mbox-short.txt')\n",
        "for line in fhand:\n",
        "      line = line.rstrip()\n",
        "      if line.startswith('From:') :\n",
        "            print(line)"
      ],
      "metadata": {
        "id": "rAO575jmWV-o"
      },
      "execution_count": null,
      "outputs": []
    },
    {
      "cell_type": "markdown",
      "source": [
        "In the above code, the `open()` function is used to open the file 'mbox-short.txt' in the default read mode, and the resulting file object is assigned to the variable `fhand`. This line opens the file and prepares it for reading.\n",
        "\n",
        "The `for` loop iterates over each line in the file `fhand`.\n",
        "For each iteration, the current line is assigned to the variable line.\n",
        "The `rstrip()` method is called on line to remove any trailing whitespace (including newline characters) from the right end of the line. This step ensures that any unwanted whitespace is removed from the line before further processing.\n",
        "The if statement checks if the modified line starts with the string `'From:'.`\n",
        "If the condition is true, indicating that the line starts with `'From:'`, the print() function is called to display the line.\n",
        "By using `line.rstrip()` before checking for the `'From:'` prefix, any leading or trailing whitespace is removed from the line, ensuring that only lines starting with `'From:'` are matched.\n",
        "\n",
        "When executed, this code reads the file `'mbox-short.txt'` line by line, removes trailing whitespace from each line, and prints only the lines that start with the string 'From:'."
      ],
      "metadata": {
        "id": "1JH0uoCqlIfy"
      }
    },
    {
      "cell_type": "markdown",
      "source": [
        "### Skipping with “continue”"
      ],
      "metadata": {
        "id": "K7XgG2734lL1"
      }
    },
    {
      "cell_type": "code",
      "source": [
        "fhand = open('mbox-short.txt')\n",
        "for line in fhand:\n",
        "      line = line.rstrip()\n",
        "      if not line.startswith('From:') :\n",
        "            continue\n",
        "      print(line)"
      ],
      "metadata": {
        "id": "7jEnRO3ecQdd"
      },
      "execution_count": null,
      "outputs": []
    },
    {
      "cell_type": "markdown",
      "source": [
        "In the above code, the open() function is used to open the file 'mbox-short.txt' in the default read mode, and the resulting file object is assigned to the variable fhand. This line opens the file and prepares it for reading.\n",
        "\n",
        "\n",
        "The `for` loop iterates over each line in the file `fhand`.\n",
        "For each iteration, the current line is assigned to the variable line.\n",
        "The `rstrip()` method is called on line to remove any trailing whitespace (including newline characters) from the right end of the line. This step ensures that any unwanted whitespace is removed from the line before further processing.\n",
        "\n",
        "The `if` statement checks if the modified line does not start with the string `'From:'`. If the condition is true, indicating that the line does not start with 'From:', the continue statement is encountered.\n",
        "\n",
        "This statement causes the loop to skip the current iteration and move on to the next line, effectively ignoring the current line.\n",
        "If the condition is false, indicating that the line does start with 'From:', the print() function is called to display the line.\n",
        "By using `line.rstrip()` before checking for the 'From:' prefix, any leading or trailing whitespace is removed from the line, ensuring that only lines starting with 'From:' are matched.\n",
        "\n",
        "When executed, this code reads the file `'mbox-short.txt'` line by line, removes trailing whitespace from each line, and prints only the lines that start with the string 'From:'. Any lines that do not start with `'From:'` are skipped and not printed."
      ],
      "metadata": {
        "id": "AqhsV54U4yvE"
      }
    },
    {
      "cell_type": "markdown",
      "source": [
        "### Using “in” to Select Lines"
      ],
      "metadata": {
        "id": "FtOyKX0V5uI0"
      }
    },
    {
      "cell_type": "code",
      "source": [
        "fhand = open('mbox-short.txt')\n",
        "for line in fhand:\n",
        "      line = line.rstrip()\n",
        "      if not '@uct.ac.za' in line :\n",
        "            continue\n",
        "      print(line)"
      ],
      "metadata": {
        "id": "xau3QjrR4tF3"
      },
      "execution_count": null,
      "outputs": []
    },
    {
      "cell_type": "markdown",
      "source": [
        "The `if` statement checks if the string @uct.ac.za is not found in the modified line.\n",
        "\n",
        "If the condition is `true`, indicating that @uct.ac.za is not present in the line, the continue statement is encountered. This statement causes the loop to skip the current iteration and move on to the next line, effectively ignoring the current line.\n",
        "\n",
        "If the condition is `false`, indicating that @uct.ac.za is present in the line, the print() function is called to display the line."
      ],
      "metadata": {
        "id": "wP2UVi3p5--L"
      }
    },
    {
      "cell_type": "markdown",
      "source": [
        "### Prompt for File Name"
      ],
      "metadata": {
        "id": "v3skQmNp6Hhx"
      }
    },
    {
      "cell_type": "code",
      "source": [
        "fname = input('Enter the file name:  ')\n",
        "fhand = open(fname)\n",
        "count = 0\n",
        "for line in fhand:\n",
        "      if line.startswith('Subject:') :\n",
        "            count = count + 1\n",
        "print('There were', count, 'subject lines in', fname)"
      ],
      "metadata": {
        "id": "z0PHkx1K5y_3"
      },
      "execution_count": null,
      "outputs": []
    },
    {
      "cell_type": "markdown",
      "source": [
        "In the above code, `input('Enter the file name:')` prompts the user to enter a file name. The value entered by the user is stored in the variable `fname`. The `open()` function is used to open the file specified by the value of `fname` in the default read mode. The resulting file object is assigned to the variable `fhand`. This line opens the file for reading.\n",
        "\n",
        "The variable `count` is initialized to 0. It will be used to keep track of the number of lines that start with the string `'Subject:'`.\n",
        "\n",
        "The `for` loop iterates over each line in the file fhand. For each iteration, the current line is assigned to the variable line. The if statement checks if the line starts with the string `'Subject:'`. If it does, the count variable is incremented by 1.\n",
        "\n",
        "After processing all the lines in the file, this line uses the print() function to display the number of subject lines (count) and the file name (fname)"
      ],
      "metadata": {
        "id": "XV45IU0q8-a0"
      }
    },
    {
      "cell_type": "markdown",
      "source": [
        "### Bad File Names"
      ],
      "metadata": {
        "id": "RO95Usfy_B9u"
      }
    },
    {
      "cell_type": "code",
      "source": [
        "fname = input('Enter the file name: ')\n",
        "try:\n",
        "    fhand = open(fname)\n",
        "except:\n",
        "    print('File cannot be opened:', fname)\n",
        "    quit()\n",
        "\n",
        "count = 0\n",
        "for line in fhand:\n",
        "    if line.startswith('Subject:'):\n",
        "        count = count + 1\n",
        "print('There were', count, 'subject lines in', fname)"
      ],
      "metadata": {
        "id": "3C9flgE96Mho"
      },
      "execution_count": null,
      "outputs": []
    },
    {
      "cell_type": "markdown",
      "source": [
        "In the above code the `try-except` block is used to handle the case where the file cannot be opened.\n",
        "\n",
        "Inside the try block, the `open()` function is used to open the specified file. If the file can be opened successfully, the file object is assigned to the variable fhand. If an exception occurs during the file opening process, the code jumps to the except block.\n",
        "\n",
        "In the `except` block, the error message `'File cannot be opened:'` is printed, followed by the file name (fname). The `quit()` function is called to exit the program.\n",
        "\n",
        "After successfully opening the file, the variable count is initialized to `0`. The for loop iterates over each line in the file `fhand`. For each line, the `if` statement checks if the line starts with the string `'Subject:'`. If it does, the count variable is incremented by 1."
      ],
      "metadata": {
        "id": "EHbLLEaxDHQw"
      }
    }
  ]
}