{
  "nbformat": 4,
  "nbformat_minor": 0,
  "metadata": {
    "colab": {
      "provenance": [],
      "include_colab_link": true
    },
    "kernelspec": {
      "name": "python3",
      "display_name": "Python 3"
    },
    "language_info": {
      "name": "python"
    }
  },
  "cells": [
    {
      "cell_type": "markdown",
      "metadata": {
        "id": "view-in-github",
        "colab_type": "text"
      },
      "source": [
        "<a href=\"https://colab.research.google.com/github/ranjithsrajan/PyLab/blob/main/12_Numpy.ipynb\" target=\"_parent\"><img src=\"https://colab.research.google.com/assets/colab-badge.svg\" alt=\"Open In Colab\"/></a>"
      ]
    },
    {
      "cell_type": "code",
      "execution_count": null,
      "metadata": {
        "id": "0OVe2vVrzihE",
        "cellView": "form",
        "colab": {
          "base_uri": "https://localhost:8080/",
          "height": 421
        },
        "outputId": "3cf750d5-44e7-4bff-80f8-30a5c973f61d"
      },
      "outputs": [
        {
          "output_type": "execute_result",
          "data": {
            "text/plain": [
              "<IPython.core.display.HTML object>"
            ],
            "text/html": [
              "<video width=\"620\" height=\"400\" controls>\n",
              "<source src=\"https://cdn.exec.talentsprint.com/content/11_Numpy.mp4\">\n",
              "</video>"
            ]
          },
          "metadata": {},
          "execution_count": 1
        }
      ],
      "source": [
        "#@title Walkthrough Video\n",
        "from IPython.display import HTML\n",
        "HTML(\"\"\"<video width=\"620\" height=\"400\" controls>\n",
        "<source src=\"https://cdn.exec.talentsprint.com/content/11_Numpy.mp4\">\n",
        "</video>\"\"\")"
      ]
    },
    {
      "cell_type": "markdown",
      "source": [
        "# **Numpy**\n",
        "Numpy stands for numerical python\n",
        "- it is used to perform computation and processing on multidimenssional and single dimensional arrays.\n",
        "- it is an open source python library used for arrays\n",
        "\n",
        "**Advantages of Numpy**\n",
        "- it is used for array oriented computing\n",
        "- high efficiency in a multidimensional array\n",
        "- used for scientific computation\n",
        "- number provides the inbuilt functions for linear algebra and random number generation\n",
        "\n",
        "\n",
        "**Numpy encironment setup**\n",
        "\n",
        "!pip install numpy - for IDE or Local setup\n",
        "\n",
        "import numpy as np - in colaboratory as it is already installed\n"
      ],
      "metadata": {
        "id": "ouhlG83fzmk0"
      }
    },
    {
      "cell_type": "code",
      "source": [
        "import numpy as np"
      ],
      "metadata": {
        "id": "POo2mUhp1ieB"
      },
      "execution_count": null,
      "outputs": []
    },
    {
      "cell_type": "markdown",
      "source": [
        "# **Numpy Ndarray**\n",
        "\n",
        "- Ndarray is an object to store similar kinds of elements\n",
        "- we can create a collection of elements of the same data type\n",
        "- the array index starts from 0\n",
        "\n",
        "To create Ndarray first import the numpy module and use the array() function\n"
      ],
      "metadata": {
        "id": "o_Wiwj8d1vFQ"
      }
    },
    {
      "cell_type": "code",
      "source": [
        "import numpy as np\n",
        "\n",
        "a = np.array\n",
        "print(a)\n",
        "\n"
      ],
      "metadata": {
        "colab": {
          "base_uri": "https://localhost:8080/"
        },
        "id": "vfe5wTQi1mub",
        "outputId": "c3795167-4bf0-4805-943d-37ca7899cce7"
      },
      "execution_count": null,
      "outputs": [
        {
          "output_type": "stream",
          "name": "stdout",
          "text": [
            "<built-in function array>\n"
          ]
        }
      ]
    },
    {
      "cell_type": "code",
      "source": [
        "array_0 = np.zeros((2,3), dtype = int)\n",
        "print(\"zero's array: \\n\", array_0)\n",
        "\n",
        "array_1 = np.ones(shape = (3,2))\n",
        "print(\"ones array\\n\", array_1)\n",
        "\n",
        "array_emp = np.empty( shape = (1,2), dtype = int)\n",
        "print(\"empty array:\\n\", array_emp)"
      ],
      "metadata": {
        "colab": {
          "base_uri": "https://localhost:8080/"
        },
        "id": "ZZW5o9kR221m",
        "outputId": "efd6d014-7a13-49e0-cb91-d74d9f156b02"
      },
      "execution_count": null,
      "outputs": [
        {
          "output_type": "stream",
          "name": "stdout",
          "text": [
            "zero's array: \n",
            " [[0 0 0]\n",
            " [0 0 0]]\n",
            "ones array\n",
            " [[1. 1.]\n",
            " [1. 1.]\n",
            " [1. 1.]]\n",
            "empty array:\n",
            " [[-4611686018427387904      140475345174527]]\n"
          ]
        }
      ]
    },
    {
      "cell_type": "code",
      "source": [
        "# array drom existing data\n",
        "import numpy\n",
        "numpy.array(object, dtype = None, copy = True, order = None, subok = False)"
      ],
      "metadata": {
        "colab": {
          "base_uri": "https://localhost:8080/"
        },
        "id": "Swd8N4L03qlf",
        "outputId": "6c2a259f-6fc9-43ff-e352-23d06449059c"
      },
      "execution_count": null,
      "outputs": [
        {
          "output_type": "execute_result",
          "data": {
            "text/plain": [
              "array(<class 'object'>, dtype=object)"
            ]
          },
          "metadata": {},
          "execution_count": 5
        }
      ]
    },
    {
      "cell_type": "markdown",
      "source": [
        "- Object - it can be a set, tuple, dictionary Etc.\n",
        "- dtype - it represents the type of the object, by default the type is none\n",
        "- Copy - it means object is copied. By default value is true. It is an optional attribute\n",
        "- Order - we can arrange arrays in 3 possible ways c(column order), R(row order), A(any)\n",
        "- SUBOK - by default the base class is array, by making this attribute true we can make subclasses\n",
        "- ndim -  to define the minimum dimension of the array\n"
      ],
      "metadata": {
        "id": "bnhJXioi57jW"
      }
    },
    {
      "cell_type": "code",
      "source": [
        "#array from list data\n",
        "ar = np.array({1, 2, 3}) #or\n",
        "\n",
        "ar = np.array([1, 2, 3], float) #or\n",
        "\n",
        "ar = np.array((1, 2, 3), complex)\n",
        "\n",
        "list = [[5, 6, 7], [1, 2, 3], [8,9,7]]\n",
        "\n",
        "array_from_list = np.asarray(list)\n",
        "\n",
        "print(\"array from list: \\n\", array_from_list)\n",
        "print(ar)\n",
        "print(type(ar))"
      ],
      "metadata": {
        "colab": {
          "base_uri": "https://localhost:8080/"
        },
        "id": "SxeaL9va5cQJ",
        "outputId": "df07b7df-8bbc-4339-b6aa-e3bf98daa9ee"
      },
      "execution_count": null,
      "outputs": [
        {
          "output_type": "stream",
          "name": "stdout",
          "text": [
            "array from list: \n",
            " [[5 6 7]\n",
            " [1 2 3]\n",
            " [8 9 7]]\n",
            "[1.+0.j 2.+0.j 3.+0.j]\n",
            "<class 'numpy.ndarray'>\n"
          ]
        }
      ]
    },
    {
      "cell_type": "code",
      "source": [
        "# array from tuple\n",
        "\n",
        "tuple = ((2, 2, 3), (1, 2,3))\n",
        "\n",
        "A = np.asarray(tuple, dtype = float)\n",
        "print(\"array from tuple:\\n\", A)\n",
        "\n",
        "B = np.array(((1, 2, 3), (4, 5, 6)))\n",
        "print(\"array from tuple:\\n\", B)\n",
        "\n",
        "c = (1, 2,3, 4, 5)\n",
        "c = np.asarray(c)\n",
        "print(\"array from tuple:\\n\", c)"
      ],
      "metadata": {
        "colab": {
          "base_uri": "https://localhost:8080/"
        },
        "id": "d3WgdtAT7fcN",
        "outputId": "2d0e1efb-e8ae-4746-99c6-a297bd33c56f"
      },
      "execution_count": null,
      "outputs": [
        {
          "output_type": "stream",
          "name": "stdout",
          "text": [
            "array from tuple:\n",
            " [[2. 2. 3.]\n",
            " [1. 2. 3.]]\n",
            "array from tuple:\n",
            " [[1 2 3]\n",
            " [4 5 6]]\n",
            "array from tuple:\n",
            " [1 2 3 4 5]\n"
          ]
        }
      ]
    },
    {
      "cell_type": "markdown",
      "source": [
        "# **Ndarray object attributes**\n",
        "\n",
        "•\tndim -  to define the minimum dimension of the array\n",
        "\n",
        "•\tD type - is used to get the type of the elements of the array\n",
        "\n",
        "•\tShape - hey it is used to get the shape of the given array. Means number of rows and columns in array\n",
        "\n",
        "•\tsize is used to get the number of elements of the array of the size of the array\n",
        "\n",
        "•\titemsize - to find the size of each element in the array.\n"
      ],
      "metadata": {
        "id": "O36MhN6F8WoY"
      }
    },
    {
      "cell_type": "code",
      "source": [
        "# array attributes\n",
        "a = np.array([[1, 2,3 ], [2, 3, 4], [4, 5, 6]])\n",
        "print(a)\n",
        "print(\"dimension: \", a.ndim)\n",
        "print(\"data type: \", a.dtype)\n",
        "print(\"size of array: \", a.size)\n",
        "print(\"shape of array: \", a.shape)\n",
        "print(\"size of elements: \", a.itemsize)"
      ],
      "metadata": {
        "colab": {
          "base_uri": "https://localhost:8080/"
        },
        "id": "aNSNbQEV8QKl",
        "outputId": "53f4385c-61d4-47c8-f5ba-f2f4c36eab0c"
      },
      "execution_count": null,
      "outputs": [
        {
          "output_type": "stream",
          "name": "stdout",
          "text": [
            "[[1 2 3]\n",
            " [2 3 4]\n",
            " [4 5 6]]\n",
            "dimension:  2\n",
            "data type:  int64\n",
            "size of array:  9\n",
            "shape of array:  (3, 3)\n",
            "size of elements:  8\n"
          ]
        }
      ]
    },
    {
      "cell_type": "code",
      "source": [
        "# restructing the shape of the ndarray\n",
        "a = np.array([[1,2], [2,3], [5,6]])\n",
        "print(\"original array\")\n",
        "print(a.shape)\n",
        "\n",
        "reshaped_array  = a.reshape(2,3)\n",
        "print(\"reshaped array:\\n\", reshaped_array.shape)"
      ],
      "metadata": {
        "colab": {
          "base_uri": "https://localhost:8080/"
        },
        "id": "SkPOMer_-ajp",
        "outputId": "32d54107-5321-4e34-cc12-762334c87197"
      },
      "execution_count": null,
      "outputs": [
        {
          "output_type": "stream",
          "name": "stdout",
          "text": [
            "original array\n",
            "(3, 2)\n",
            "reshaped array:\n",
            " (2, 3)\n"
          ]
        }
      ]
    },
    {
      "cell_type": "code",
      "source": [
        "#slicing the array\n",
        "# to extract the range of elements from an array we can use slicing\n",
        "# it is same as we have used in the list\n",
        "\n",
        "a = np.array([1, 2, 3, 4, 5, 6])\n",
        "print(a[1:3])"
      ],
      "metadata": {
        "colab": {
          "base_uri": "https://localhost:8080/"
        },
        "id": "1E5ONter_AJa",
        "outputId": "b9ceb714-f6fa-49a4-d4a8-03949fc778d1"
      },
      "execution_count": null,
      "outputs": [
        {
          "output_type": "stream",
          "name": "stdout",
          "text": [
            "[2 3]\n"
          ]
        }
      ]
    },
    {
      "cell_type": "markdown",
      "source": [
        "**Numpy array using numerical range**\n",
        "\n",
        "•\tarange -  the arrange() function is used to create an array of evenly spaced elements over the given range\n",
        "\n",
        "•\tlinspace – the linspace() function is used to get evenly spaced elements over the given interval range\n",
        "\n",
        "•\tlogspace – the logspace() function is used to create an array of evenly spaced values according to log scale\n",
        "\n",
        "np.arange(start, stop, step)\n",
        "\n",
        "np.arange(6) - stop\n",
        "\n",
        "np.arange(2,6) - start, stop\n",
        "\n",
        "np.arange(1,6,2) - start, stop, step\n",
        "\n",
        "np.linspace(sart, stop, num)\n",
        "\n",
        "np.linspace(0,0.5,6)\n",
        "\n",
        "\n"
      ],
      "metadata": {
        "id": "8ecR1lcJ_fie"
      }
    },
    {
      "cell_type": "code",
      "source": [
        "a = np.linspace(1, 20, 5)\n",
        "print(a)\n",
        "\n",
        "a = np.arange(0, 10, 2, float)\n",
        "print(\"ranged array: \\n\", a)\n",
        "\n",
        "l = np.logspace(2,10,5)\n",
        "print(\"logspaced array: \\n\", l)"
      ],
      "metadata": {
        "colab": {
          "base_uri": "https://localhost:8080/"
        },
        "id": "RLhhrkGo_cE9",
        "outputId": "ccdfb549-139d-402d-e52b-70a9821c6602"
      },
      "execution_count": null,
      "outputs": [
        {
          "output_type": "stream",
          "name": "stdout",
          "text": [
            "[ 1.    5.75 10.5  15.25 20.  ]\n",
            "ranged array: \n",
            " [0. 2. 4. 6. 8.]\n",
            "logspaced array: \n",
            " [1.e+02 1.e+04 1.e+06 1.e+08 1.e+10]\n"
          ]
        }
      ]
    },
    {
      "cell_type": "markdown",
      "source": [
        "# **Aggregate operations on array**\n",
        "\n",
        "we can perform aggregate funtion on the array such as: sum(), max(), min() etc."
      ],
      "metadata": {
        "id": "ZOskywndBSo9"
      }
    },
    {
      "cell_type": "code",
      "source": [
        "a = np.array([1, 2, 3, 4, 5])\n",
        "print(type(a))\n",
        "print(\"sum: \", np.sum(a))\n",
        "print(\"max: \", np.max(a))\n",
        "print(\"min: \", np.min(a))\n",
        "print(\"std: \", np.std(a))\n",
        "print(\"square root: \", np.sqrt(a))"
      ],
      "metadata": {
        "colab": {
          "base_uri": "https://localhost:8080/"
        },
        "id": "O0ObL_52BQk6",
        "outputId": "c45e71ab-9ee5-4ff1-c767-61839974bf67"
      },
      "execution_count": null,
      "outputs": [
        {
          "output_type": "stream",
          "name": "stdout",
          "text": [
            "<class 'numpy.ndarray'>\n",
            "sum:  15\n",
            "max:  5\n",
            "min:  1\n",
            "std:  1.4142135623730951\n",
            "square root:  [1.         1.41421356 1.73205081 2.         2.23606798]\n"
          ]
        }
      ]
    },
    {
      "cell_type": "markdown",
      "source": [
        "To perform arithmatic operations the shape of the arrays must be the same"
      ],
      "metadata": {
        "id": "Kwlqo8XGU6r8"
      }
    },
    {
      "cell_type": "code",
      "source": [
        "import numpy as np\n",
        "a = np.array([[1, 2, 3], [2,4,5]])\n",
        "b = np.array([[2,4,6], [4,6,8]])\n",
        "print(\"addition: \", a+b)\n",
        "print(\"subtraction: \", a-b)\n",
        "print(\"multiplication:\", a*b)\n",
        "print(\"division: \", a/b)"
      ],
      "metadata": {
        "colab": {
          "base_uri": "https://localhost:8080/"
        },
        "id": "bs0X8e5VCAAl",
        "outputId": "00a7b02e-e824-496b-e3b5-4590baa4b2b3"
      },
      "execution_count": null,
      "outputs": [
        {
          "output_type": "stream",
          "name": "stdout",
          "text": [
            "addition:  [[ 3  6  9]\n",
            " [ 6 10 13]]\n",
            "subtraction:  [[-1 -2 -3]\n",
            " [-2 -2 -3]]\n",
            "multiplication: [[ 2  8 18]\n",
            " [ 8 24 40]]\n",
            "division:  [[0.5        0.5        0.5       ]\n",
            " [0.5        0.66666667 0.625     ]]\n"
          ]
        }
      ]
    },
    {
      "cell_type": "markdown",
      "source": [
        "**Ndarray axis**\n",
        "\n",
        "we can perform operations row and column wise on array"
      ],
      "metadata": {
        "id": "6LtaMrObWk95"
      }
    },
    {
      "cell_type": "code",
      "source": [
        "a = np.array([[1,2,3],[1,3,4]])\n",
        "\n",
        "print(a)\n",
        "print(\"max: \", a.max(axis = 1))\n",
        "print(\"min: \", a.min(axis = 1))\n",
        "print(\"sum: \", a.sum(axis = 1))"
      ],
      "metadata": {
        "colab": {
          "base_uri": "https://localhost:8080/"
        },
        "id": "2BadL0ZTVfE4",
        "outputId": "7d1459af-7590-46bf-e91f-72c365b26cb6"
      },
      "execution_count": null,
      "outputs": [
        {
          "output_type": "stream",
          "name": "stdout",
          "text": [
            "[[1 2 3]\n",
            " [1 3 4]]\n",
            "max:  [3 4]\n",
            "min:  [1 1]\n",
            "sum:  [6 8]\n"
          ]
        }
      ]
    },
    {
      "cell_type": "code",
      "source": [
        "# for array concatination we use np.concatenate()\n",
        "# we can concatenate multidimensional arrays vertically and horizontally\n",
        "\n",
        "a = np.array([[1,2,3], [1,3,4]])\n",
        "b = np.array([[5,6,7], [8,9,10]])\n",
        "\n",
        "print(\"vertically concat: \\n\", np.vstack((a,b)))\n",
        "print(\"horizontally concat: \\n\", np.hstack((a,b)))"
      ],
      "metadata": {
        "colab": {
          "base_uri": "https://localhost:8080/"
        },
        "id": "abNNTSO5XCNO",
        "outputId": "07fa22e1-3b45-405a-c698-8976444de6c1"
      },
      "execution_count": null,
      "outputs": [
        {
          "output_type": "stream",
          "name": "stdout",
          "text": [
            "vertically concat: \n",
            " [[ 1  2  3]\n",
            " [ 1  3  4]\n",
            " [ 5  6  7]\n",
            " [ 8  9 10]]\n",
            "horizontally concat: \n",
            " [[ 1  2  3  5  6  7]\n",
            " [ 1  3  4  8  9 10]]\n"
          ]
        }
      ]
    },
    {
      "cell_type": "markdown",
      "source": [
        "# **iteration over the array**\n",
        "\n",
        "nditer() function is used to iterate through arrays"
      ],
      "metadata": {
        "id": "usAYCBUqX57P"
      }
    },
    {
      "cell_type": "code",
      "source": [
        "na = np.array([[1,2,3],[5,6,7]])\n",
        "print(\"array: \\n\", na)\n",
        "\n",
        "for x in np.nditer(na):\n",
        "  print(x, end = \" \")"
      ],
      "metadata": {
        "colab": {
          "base_uri": "https://localhost:8080/"
        },
        "id": "WMJpssTDX0NC",
        "outputId": "fb6002ad-297f-4394-edcc-6df3149cf834"
      },
      "execution_count": null,
      "outputs": [
        {
          "output_type": "stream",
          "name": "stdout",
          "text": [
            "array: \n",
            " [[1 2 3]\n",
            " [5 6 7]]\n",
            "1 2 3 5 6 7 "
          ]
        }
      ]
    },
    {
      "cell_type": "markdown",
      "source": [
        "# **Numpy string functions**\n",
        "\n",
        "•\tadd() - it is used to add string type element to array\n",
        "\n",
        "•\tmultiply() - it is used to obtain the multiplied copy of the string element\n",
        "\n",
        "•\tcenter() - it is used to make a centre aligned string filled with specified number of character\n",
        "\n",
        "•\tcapitalize() - it returns to copy of a string with the first letter capitalised\n",
        "\n",
        "•\ttitle() - it returns to title case string\n",
        "\n",
        "•\tlower() - it returns a string with lower case letters\n",
        "\n",
        "•\tupper() - it returns a string with uppercase letters\n",
        "\n",
        "•\tsplit() - it returns the words from string\n",
        "\n",
        "•\tsplitlines() - it breaks the list of lines\n",
        "\n",
        "•\tstrip() - it removes the left and right spaces\n",
        "\n",
        "•\tjoin() - it joins the given sequence of strings\n",
        "\n",
        "•\treplace() - it replaces all the occurring words of the substring in a string\n",
        "\n",
        "\n",
        "•\tdecode() - it is used to decode the string in a specified format\n",
        "\n",
        "•\tencode() - it is used to encode a string into a specified code\n"
      ],
      "metadata": {
        "id": "VNM7utBGYnrt"
      }
    },
    {
      "cell_type": "markdown",
      "source": [
        "**Numpy Mathematical functions**\n",
        "\n",
        "•\tsin() - used to calculate sin of given angles\n",
        "\n",
        "•\tcos() - used to calculate cosine of given angles\n",
        "\n",
        "•\ttan() - used to calculate tangent of given angles\n",
        "\n",
        "•\tarcsin() - used to calculate inverse of sign of given angles\n",
        "\n",
        "•\tarccos() - used to calculate inverse of cosine of given angles\n",
        "\n",
        "•\tarctan() - used to calculate inverse of tangent of given angles\n",
        "\n",
        "•\tdegree() - it is used to convert the angles in degree\n",
        "\n",
        "•\taround() - it is used to round off the values according to the given number\n",
        "\n",
        "•\tceil() - it is used to calculate the CEIL values of the given number\n",
        "\n",
        "•\tfloor() - it is used to calculate the floor value of the given number\n"
      ],
      "metadata": {
        "id": "HY8bLG-CeC1O"
      }
    },
    {
      "cell_type": "markdown",
      "source": [
        "# **Numpy data types**\n",
        "numpy provides a wide range of data types. We can create the dtype objectives follows:\n",
        "\n",
        "numpy.dtype(object, align, copy)\n"
      ],
      "metadata": {
        "id": "qfxEZcBleVY0"
      }
    },
    {
      "cell_type": "code",
      "source": [
        "d = np.dtype([('salary', float)])\n",
        "\n",
        "arr = np.array([(10000.12,), (20000.50,)], dtype = d)\n",
        "\n",
        "print(arr['salary'])"
      ],
      "metadata": {
        "colab": {
          "base_uri": "https://localhost:8080/"
        },
        "id": "rd5SexFaYdFv",
        "outputId": "aae09684-437a-4d5e-9436-b6455eebfa0d"
      },
      "execution_count": null,
      "outputs": [
        {
          "output_type": "stream",
          "name": "stdout",
          "text": [
            "[10000.12 20000.5 ]\n"
          ]
        }
      ]
    },
    {
      "cell_type": "code",
      "source": [],
      "metadata": {
        "id": "_skLPSTLezP3"
      },
      "execution_count": null,
      "outputs": []
    }
  ]
}