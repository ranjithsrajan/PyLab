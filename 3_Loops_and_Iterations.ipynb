{
  "nbformat": 4,
  "nbformat_minor": 0,
  "metadata": {
    "colab": {
      "private_outputs": true,
      "provenance": [],
      "include_colab_link": true
    },
    "kernelspec": {
      "name": "python3",
      "display_name": "Python 3"
    },
    "language_info": {
      "name": "python"
    }
  },
  "cells": [
    {
      "cell_type": "markdown",
      "metadata": {
        "id": "view-in-github",
        "colab_type": "text"
      },
      "source": [
        "<a href=\"https://colab.research.google.com/github/ranjithsrajan/PyLab/blob/main/3_Loops_and_Iterations.ipynb\" target=\"_parent\"><img src=\"https://colab.research.google.com/assets/colab-badge.svg\" alt=\"Open In Colab\"/></a>"
      ]
    },
    {
      "cell_type": "code",
      "source": [
        "#@title Walkthrough Video\n",
        "from IPython.display import HTML\n",
        "HTML(\"\"\"<video width=\"720\" height=\"500\" controls>\n",
        "<source src=\"https://cdn.exec.talentsprint.com/content/4_Loops_and_Iterations.mp4\">\n",
        "</video>\"\"\")"
      ],
      "metadata": {
        "cellView": "form",
        "id": "QYu1FcI9TyNc"
      },
      "execution_count": null,
      "outputs": []
    },
    {
      "cell_type": "markdown",
      "source": [
        "In Python, loops and iterations are used to repeatedly execute a block of code. They allow you to automate repetitive tasks, iterate over collections of elements, or perform operations until a certain condition is met. Python provides several types of loops for different looping scenarios:\n",
        "\n",
        "**1. for loop:** It is used to iterate over a sequence (such as a list, tuple, string, or range) or any iterable object. The loop variable takes on each element of the sequence one by one, and the code block inside the loop is executed for each iteration.\n",
        "\n",
        "**2. while loop:** It is used to repeatedly execute a block of code as long as a given condition is true. The code block is executed repeatedly until the condition becomes false."
      ],
      "metadata": {
        "id": "a_akeigYGSqI"
      }
    },
    {
      "cell_type": "markdown",
      "source": [
        "Both for and while loops can contain conditional statements (if, elif, else), nested loops, function calls, and other control flow structures. The code block to be executed within the loop is indented and can contain any valid Python code.\n",
        "\n",
        "Iterations refer to each execution of the loop, where the code block is executed once. The loop iterates multiple times, allowing you to process collections of data or perform repetitive tasks efficiently.\n",
        "\n",
        "Loops and iterations are fundamental concepts in programming that help automate tasks, process data, and control the flow of execution in a program."
      ],
      "metadata": {
        "id": "9nkg735OG0vy"
      }
    },
    {
      "cell_type": "markdown",
      "source": [
        "### Repeated steps"
      ],
      "metadata": {
        "id": "BGZqBd8-HEDh"
      }
    },
    {
      "cell_type": "code",
      "execution_count": null,
      "metadata": {
        "id": "KqUOGoOjGHHC"
      },
      "outputs": [],
      "source": [
        "n = 5\n",
        "while n > 0 :\n",
        "    print(n)\n",
        "    n = n - 1\n",
        "print('Blastoff!')\n",
        "print(n)"
      ]
    },
    {
      "cell_type": "markdown",
      "source": [
        "In the above code the variable `n` is initialized with a value of `5`.\n",
        "\n",
        "The while loop is used to repeatedly execute the code block as long as the condition` n > 0` is` true`.\n",
        "\n",
        "For each iteration of the loop, the current value of `n` is printed using the `print()` function.\n",
        "\n",
        "Inside the loop, `n` is decremented by `1` using the expression `n = n - 1`.\n",
        "\n",
        "Once `n` becomes `0`, the condition `n > 0` becomes false, and the loop terminates.\n",
        "\n",
        "After the loop, the code block with the `print('Blastoff!')` statement is executed.\n",
        "\n",
        "Finally, the value of `n` is printed using the `print(n)` statement.\n",
        "\n",
        "When this code is executed, it prints the numbers from `5` to 1 in descending order because of the while loop. After the loop completes, it prints the string `'Blastoff!'` and the final value of `n`, which is `0`."
      ],
      "metadata": {
        "id": "7A_JDS0CHMH4"
      }
    },
    {
      "cell_type": "markdown",
      "source": [
        "### An infinite loop"
      ],
      "metadata": {
        "id": "4UkpmP8tHx3O"
      }
    },
    {
      "cell_type": "code",
      "source": [
        "n = 5\n",
        "while n > 0 :\n",
        "    print('Lather')\n",
        "    print('Rinse')\n",
        "print('Dry off!')"
      ],
      "metadata": {
        "id": "wLpsTefVHq4P"
      },
      "execution_count": null,
      "outputs": []
    },
    {
      "cell_type": "markdown",
      "source": [
        "In the above code, the variable `n` is initialized with a value of `5`.\n",
        "\n",
        "The `while` loop is used to repeatedly execute the code block as long as the condition `n > 0` is true.\n",
        "\n",
        "For each iteration of the loop, the statements` print('Lather')` and `print('Rinse')` are executed.\n",
        "\n",
        "However, there is no change to the value of `n` within the loop, so the condition `n > 0` remains true indefinitely, resulting in an infinite loop.\n",
        "\n",
        "The statement `print('Dry off!')` is placed outside the loop and will not be executed because the loop never terminates.\n",
        "\n",
        "If you run this code, it will continuously `print \"Lather\" and \"Rinse\"` without ever reaching the \"Dry off!\" statement. You would need to include some logic to modify the value of n within the loop to eventually make the condition n > 0 false and break out of the loop."
      ],
      "metadata": {
        "id": "5abUDazDI89X"
      }
    },
    {
      "cell_type": "markdown",
      "source": [
        "### Another loop\n"
      ],
      "metadata": {
        "id": "e6WMj1cGKkoo"
      }
    },
    {
      "cell_type": "code",
      "source": [
        "n = 0\n",
        "while n > 0 :\n",
        "    print('Lather')\n",
        "    print('Rinse')\n",
        "print('Dry off!')"
      ],
      "metadata": {
        "id": "Jb0dz4BxID1l"
      },
      "execution_count": null,
      "outputs": []
    },
    {
      "cell_type": "markdown",
      "source": [
        "In the above code the variable n is initialized with a value of `0`.\n",
        "\n",
        "The while loop is used to repeatedly execute the code block as long as the condition `n > 0 `is `true`.\n",
        "\n",
        "However, since` n` is already `0`, the condition `n > 0` is initially `false`, and the code block inside the loop is never executed.\n",
        "\n",
        "As a result, the `print('Lather')` and `print('Rinse')` statements are never executed.\n",
        "\n",
        "After the loop, the code block with the `print('Dry off!')` statement is executed immediately.\n",
        "\n",
        "Since the condition `n > 0` is initially false, the loop is not entered at all. Therefore, the output of this code will be: Dry off!"
      ],
      "metadata": {
        "id": "uqnB2lHdq59R"
      }
    },
    {
      "cell_type": "markdown",
      "source": [
        "### Break statement"
      ],
      "metadata": {
        "id": "yVT4IqgnrxRc"
      }
    },
    {
      "cell_type": "code",
      "source": [
        "while True:\n",
        "    line = input('>')\n",
        "    if line == 'done':\n",
        "        break\n",
        "    print(line)\n",
        "print('Done!')"
      ],
      "metadata": {
        "id": "0_21dY4bqtee"
      },
      "execution_count": null,
      "outputs": []
    },
    {
      "cell_type": "markdown",
      "source": [
        "In the above code, `while` `True` statement creates an infinite loop. The loop will continue indefinitely until a break statement is encountered.\n",
        "\n",
        "Inside the loop, the `input() `function is used to prompt the user for input. The prompt `>` is displayed, and the user can enter a value.\n",
        "\n",
        "The entered value is stored in the variable `line`.\n",
        "\n",
        "The `if` statement checks if the entered value is equal to `'done'`. If it is, the break statement is executed, which terminates the loop and moves the program execution to the next statement outside the loop.\n",
        "\n",
        "If the entered value is not equal to `'done'`, the code block inside the if statement is skipped, and the `print(line)` statement is executed, which prints the entered value.\n",
        "\n",
        "The loop then goes back to the beginning and prompts the user for input again.\n",
        "\n",
        "This process continues until the user enters `'done'`, at which point the break statement is executed, and the loop is terminated.\n",
        "\n",
        "After the loop, the code block with the `print('Done!')` statement is executed, indicating that the loop has finished.\n",
        "\n",
        "This code allows the user to enter multiple lines of input until they type 'done', at which point the program prints the entered lines and displays 'Done!' to indicate the end of the loop."
      ],
      "metadata": {
        "id": "y_vHoizTsxsI"
      }
    },
    {
      "cell_type": "markdown",
      "source": [
        "### Finishing an iteration with continue"
      ],
      "metadata": {
        "id": "OFlWDBo8tm06"
      }
    },
    {
      "cell_type": "code",
      "source": [
        "while True:\n",
        "    line = input('>')\n",
        "    if line[0] == '#' :\n",
        "        continue\n",
        "    if line == 'done' :\n",
        "        break\n",
        "    print(line)\n",
        "print('Done!')"
      ],
      "metadata": {
        "id": "a-VU1CP0trm8"
      },
      "execution_count": null,
      "outputs": []
    },
    {
      "cell_type": "markdown",
      "source": [
        "The code uses a `while` True loop to repeatedly prompt the user for input.\n",
        "\n",
        "If the input starts with a `'#'`, the loop skips to the next iteration using `continue`.\n",
        "\n",
        "If the input is `'done'`, the loop breaks and the program exits the loop. Otherwise, the input is printed.\n",
        "\n",
        "The loop continues until the user enters 'done'.\n",
        "\n",
        "After the loop, the program prints 'Done!' to indicate completion."
      ],
      "metadata": {
        "id": "DqiVMR8SucZ4"
      }
    },
    {
      "cell_type": "markdown",
      "source": [
        "### Definite loops"
      ],
      "metadata": {
        "id": "nZjL1mekvISL"
      }
    },
    {
      "cell_type": "code",
      "source": [
        "list_values = [1, 2, 3, 4, 5]\n",
        "for i in list_values:\n",
        "   print(i)\n",
        "print(\"For loop completed\")"
      ],
      "metadata": {
        "id": "CokYTARyu85M"
      },
      "execution_count": null,
      "outputs": []
    },
    {
      "cell_type": "markdown",
      "source": [
        "The above code iterates over a list called `list_values`.\n",
        "In each iteration, it prints the current value. Once all the iterations are complete, it prints a completion message."
      ],
      "metadata": {
        "id": "oSIQGdRSvefw"
      }
    },
    {
      "cell_type": "markdown",
      "source": [
        "### A definite loop with strings"
      ],
      "metadata": {
        "id": "IqIdhNB4vptV"
      }
    },
    {
      "cell_type": "code",
      "source": [
        "friends = ['Joseph', 'Glenn', 'Sally']\n",
        "for friend in friends :\n",
        "   print('Happy New Year:',friend)\n",
        "print('Done!')"
      ],
      "metadata": {
        "id": "y_g5V_yvvSEP"
      },
      "execution_count": null,
      "outputs": []
    },
    {
      "cell_type": "markdown",
      "source": [
        "The code iterates over a list of `friends`. For each friend, it prints a New Year message. Once all the friends have been processed, it prints \"Done!\"."
      ],
      "metadata": {
        "id": "sS9S196Nv_I9"
      }
    },
    {
      "cell_type": "markdown",
      "source": [
        "### Finding the largest value\n"
      ],
      "metadata": {
        "id": "YX2t8FvtwNg4"
      }
    },
    {
      "cell_type": "code",
      "source": [
        "largest_so_far = -1\n",
        "print('Before', largest_so_far)\n",
        "for the_num in [9, 41, 12, 3, 74, 15] :\n",
        "   if the_num > largest_so_far :\n",
        "      largest_so_far = the_num\n",
        "   print(largest_so_far, the_num)\n",
        "\n",
        "print('After', largest_so_far)"
      ],
      "metadata": {
        "id": "nzl83UIivxql"
      },
      "execution_count": null,
      "outputs": []
    },
    {
      "cell_type": "markdown",
      "source": [
        "The code finds the largest number in a given list. It initializes the largest number as -1. It iterates over each number in the list. If a number is greater than the current largest number, it updates the largest number. It prints each number and the current largest number as it iterates. Finally, it prints the largest number found."
      ],
      "metadata": {
        "id": "maKTOTCGwh-b"
      }
    },
    {
      "cell_type": "markdown",
      "source": [
        "### Counting in a loop"
      ],
      "metadata": {
        "id": "zA-uo2ajwtIA"
      }
    },
    {
      "cell_type": "code",
      "source": [
        "zork = 0\n",
        "print('Before', zork)\n",
        "for thing in [9, 41, 12, 3, 74, 15] :\n",
        "    zork = zork + 1\n",
        "    print(zork, thing)\n",
        "print('After', zork)"
      ],
      "metadata": {
        "id": "mkTPWgwswSs0"
      },
      "execution_count": null,
      "outputs": []
    },
    {
      "cell_type": "markdown",
      "source": [
        "The code initializes a variable `zork` with a value of 0. It prints the initial value of zork as `\"Before 0\"`.\n",
        "\n",
        "The code then enters a for loop that iterates over each number in the `list [9, 41, 12, 3, 74, 15]`.\n",
        "\n",
        "In each iteration, it increments the zork variable by 1.\n",
        "\n",
        "It then prints the updated value of zork along with the current number from the list.\n",
        "\n",
        "After all the iterations are completed, it prints the final value of zork as \"After\" followed by the total number of iterations."
      ],
      "metadata": {
        "id": "Lb9U9qMyw6E4"
      }
    },
    {
      "cell_type": "markdown",
      "source": [
        "### Summing in a loop\n"
      ],
      "metadata": {
        "id": "9CLyguI3xhBs"
      }
    },
    {
      "cell_type": "code",
      "source": [
        "zork = 0\n",
        "print('Before', zork)\n",
        "for thing in [9, 41, 12, 3, 74, 15] :\n",
        "    zork = zork + thing\n",
        "    print(zork, thing)\n",
        "print('After', zork)"
      ],
      "metadata": {
        "id": "hjSVq8h6wyXo"
      },
      "execution_count": null,
      "outputs": []
    },
    {
      "cell_type": "markdown",
      "source": [
        "The code initializes a variable `zork` with a value of 0.\n",
        "\n",
        "It prints the initial value of zork as `\"Before 0\"`.\n",
        "\n",
        "The code then enters a for loop that iterates over each number in the `list [9, 41, 12, 3, 74, 15]`.\n",
        "\n",
        "In each iteration, it adds the current number from the list to the zork variable.\n",
        "\n",
        "It then prints the updated value of zork along with the current number from the list.\n",
        "\n",
        "After all the iterations are completed, it prints the final value of zork as \"After\" followed by the sum of all the numbers in the list."
      ],
      "metadata": {
        "id": "YT6MPvPpxTqX"
      }
    },
    {
      "cell_type": "markdown",
      "source": [
        "### Finding the average in a loop\n"
      ],
      "metadata": {
        "id": "YqTb84qcxmfn"
      }
    },
    {
      "cell_type": "code",
      "source": [
        "count = 0\n",
        "sum = 0\n",
        "print('Before', count, sum)\n",
        "for value in [9, 41, 12, 3, 74, 15] :\n",
        "    count = count + 1\n",
        "    sum = sum + value\n",
        "    print(count, sum, value)\n",
        "print('After', count, sum, sum / count)"
      ],
      "metadata": {
        "id": "2n6QWfs1xZsI"
      },
      "execution_count": null,
      "outputs": []
    },
    {
      "cell_type": "markdown",
      "source": [
        "The above code initializes two variables, count and sum, with initial values of 0.\n",
        "\n",
        "It prints the initial values of count and sum as `\"Before 0 0\"`.\n",
        "\n",
        "The code then enters a for loop that iterates over each value in the `list [9, 41, 12, 3, 74, 15]`.\n",
        "\n",
        "In each iteration, it increments the count variable by `1` to keep track of the number of values.\n",
        "\n",
        "It also adds the current value to the sum variable to accumulate the sum of all values.\n",
        "\n",
        "It then prints the updated values of count, sum, and the current value.\n",
        "After all the iterations are completed, it prints the final values of `count, sum, and the average of the values (sum / count)`.\n",
        "\n",
        "The average is calculated by dividing the total sum by the count of values."
      ],
      "metadata": {
        "id": "x4zMZQKoxxsk"
      }
    },
    {
      "cell_type": "markdown",
      "source": [
        "### Filtering in a loop"
      ],
      "metadata": {
        "id": "_EbJAdYpyIvH"
      }
    },
    {
      "cell_type": "code",
      "source": [
        "print('Before')\n",
        "for value in [9, 41, 12, 3, 74, 15] :\n",
        "    if value > 20:\n",
        "      print('Large number',value)\n",
        "print('After')"
      ],
      "metadata": {
        "id": "QPNMw78Vxpri"
      },
      "execution_count": null,
      "outputs": []
    },
    {
      "cell_type": "markdown",
      "source": [
        "The above code prints `\"Before\"` as an initial message.\n",
        "\n",
        "It then enters a for loop that iterates over each value in the `list [9, 41, 12, 3, 74, 15].`\n",
        "\n",
        "In each iteration, it checks if the current value is greater than 20.\n",
        "\n",
        "If the condition is true, it prints `\"Large number\"` followed by the current value.\n",
        "\n",
        "After all the iterations are completed, it prints \"After\" as a final message."
      ],
      "metadata": {
        "id": "luQkNR8xyWsu"
      }
    },
    {
      "cell_type": "markdown",
      "source": [
        "### Search using a boolean variable"
      ],
      "metadata": {
        "id": "lmvqYVo1ynd7"
      }
    },
    {
      "cell_type": "code",
      "source": [
        "found = False\n",
        "print('Before', found)\n",
        "for value in [9, 41, 12, 3, 74, 15] :\n",
        "   if value == 3 :\n",
        "       found = True\n",
        "   print(found, value)\n",
        "print('After', found)"
      ],
      "metadata": {
        "id": "H3-DN8NlyMXa"
      },
      "execution_count": null,
      "outputs": []
    },
    {
      "cell_type": "markdown",
      "source": [
        "The code initializes a boolean variable found as `False`.\n",
        "\n",
        "It iterates over a list of values.\n",
        "\n",
        "During each iteration, it checks if the current value is equal to 3.\n",
        "\n",
        "If a value of 3 is found, it updates the found variable to True.\n",
        "\n",
        "It prints the current status of found and the current value in each iteration.\n",
        "\n",
        "After the loop finishes, it prints the final status of found.\n",
        "The output of this code will show whether the value 3 was found i"
      ],
      "metadata": {
        "id": "yKJ9Caw8zBID"
      }
    },
    {
      "cell_type": "markdown",
      "source": [
        "### How to find the smallest value\n"
      ],
      "metadata": {
        "id": "8XAr4KsZzKOK"
      }
    },
    {
      "cell_type": "code",
      "source": [
        "largest_so_far = -1\n",
        "print('Before', largest_so_far)\n",
        "for the_num in [9, 41, 12, 3, 74, 15] :\n",
        "   if the_num > largest_so_far :\n",
        "      largest_so_far = the_num\n",
        "   print(largest_so_far, the_num)\n",
        "\n",
        "print('After', largest_so_far)"
      ],
      "metadata": {
        "id": "a2xiXUtpyq7A"
      },
      "execution_count": null,
      "outputs": []
    },
    {
      "cell_type": "markdown",
      "source": [
        "The above code initializes a variable largest_so_far with a value of `-1`.\n",
        "\n",
        "It iterates over a `list of numbers`.\n",
        "\n",
        "During each iteration, it compares the current number with the largest number found so far.\n",
        "\n",
        "If a larger number is found, it updates the `largest_so_far` variable.\n",
        "\n",
        "It provides feedback during the iteration by printing the current largest number and the current number.\n",
        "\n",
        "After the loop finishes, it prints the final largest number found."
      ],
      "metadata": {
        "id": "YW7cFuq1zxNR"
      }
    },
    {
      "cell_type": "markdown",
      "source": [
        "### Finding the smallest value"
      ],
      "metadata": {
        "id": "gM_QjdWP0BDR"
      }
    },
    {
      "cell_type": "code",
      "source": [
        "smallest_so_far = -1\n",
        "print('Before', smallest_so_far)\n",
        "for the_num in [9, 41, 12, 3, 74, 15] :\n",
        "   if the_num < smallest_so_far :\n",
        "      smallest_so_far = the_num\n",
        "   print(smallest_so_far, the_num)\n",
        "\n",
        "print('After', smallest_so_far)"
      ],
      "metadata": {
        "id": "zgZVb4rtzOfb"
      },
      "execution_count": null,
      "outputs": []
    },
    {
      "cell_type": "markdown",
      "source": [
        "The above code initializes a variable `smallest_so_far` with a value of `-1`.\n",
        "\n",
        "It prints the initial value of smallest_so_far as `\"Before -1\"`.\n",
        "\n",
        "The code then enters a loop that iterates over a list of numbers.\n",
        "\n",
        "During each iteration, it compares the current number with the smallest number found so far.\n",
        "\n",
        "If a smaller number is found, it updates the `smallest_so_far` variable.\n",
        "\n",
        "It provides feedback during the iteration by printing the current smallest number and the current number.\n",
        "\n",
        "After the loop finishes, it prints the final smallest number found."
      ],
      "metadata": {
        "id": "oeYHurLY0e6E"
      }
    },
    {
      "cell_type": "code",
      "source": [
        "smallest = None\n",
        "print('Before')\n",
        "for value in [9, 41, 12, 3, 74, 15] :\n",
        "    if smallest is None :\n",
        "        smallest = value\n",
        "    elif value < smallest :\n",
        "        smallest = value\n",
        "    print(smallest, value)\n",
        "print('After', smallest)"
      ],
      "metadata": {
        "id": "l1uIASOX0tOD"
      },
      "execution_count": null,
      "outputs": []
    },
    {
      "cell_type": "markdown",
      "source": [
        "The code initializes a variable smallest with a value of None. It prints `\"Before\"`.\n",
        "\n",
        "The code then iterates over a list of numbers.\n",
        "\n",
        "During each iteration, it checks if smallest is None.\n",
        "\n",
        "If smallest is `None`, it assigns the current number to smallest.\n",
        "\n",
        "If smallest is `not None`, it compares the current number with smallest.\n",
        "\n",
        "If the current number is smaller than smallest, it updates smallest with the current number.\n",
        "\n",
        "It provides feedback by printing the current value of smallest and the current number.\n",
        "\n",
        "After the loop finishes, it prints `\"After\"` followed by the final value of smallest"
      ],
      "metadata": {
        "id": "jouHn45r0805"
      }
    },
    {
      "cell_type": "markdown",
      "source": [
        "### The is and is not operators"
      ],
      "metadata": {
        "id": "rqIuNTsq1KWQ"
      }
    },
    {
      "cell_type": "code",
      "source": [
        "a = [5, 8]\n",
        "b = [5, 8]\n",
        "c = a\n",
        "if a is not b:\n",
        "    print('a is not b')\n",
        "else:\n",
        "    print('a is b')\n",
        "if a is not c:\n",
        "    print('a is not c')\n",
        "else:\n",
        "    print('a is c')"
      ],
      "metadata": {
        "id": "NNh5J5yg0xmb"
      },
      "execution_count": null,
      "outputs": []
    },
    {
      "cell_type": "markdown",
      "source": [
        "The code initializes two lists, `a` and` b`, with the same values `[5, 8]`.\n",
        "\n",
        "It assigns the variable `c` to reference the same list as` a`.\n",
        "\n",
        "The code checks if `a` and `b` are the same object using the is operator.\n",
        "\n",
        "If `a` is not the same object as `b`, it prints `\"a is not b\"`.\n",
        "\n",
        "It then checks if` a` and `c` are the same object using the is operator.\n",
        "\n",
        "If `a` is not the same object as `c`, it prints `\"a is not c\"`."
      ],
      "metadata": {
        "id": "YqbY0yp-1vYN"
      }
    },
    {
      "cell_type": "code",
      "source": [],
      "metadata": {
        "id": "tO3346cj2Bix"
      },
      "execution_count": null,
      "outputs": []
    }
  ]
}